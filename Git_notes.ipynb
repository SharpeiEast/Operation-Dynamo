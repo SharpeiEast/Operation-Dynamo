{
 "cells": [
  {
   "cell_type": "markdown",
   "id": "direct-thursday",
   "metadata": {},
   "source": [
    "# Git 笔记"
   ]
  },
  {
   "cell_type": "markdown",
   "id": "infrared-purse",
   "metadata": {},
   "source": [
    "### 常规shell命令\n",
    "##### ls -la\n",
    "##### touch\n",
    "##### open ."
   ]
  },
  {
   "cell_type": "markdown",
   "id": "written-links",
   "metadata": {},
   "source": [
    "### add\n",
    "##### git add . 是追踪全部\n",
    "##### git add * 是追踪新文件\n"
   ]
  },
  {
   "cell_type": "markdown",
   "id": "casual-avenue",
   "metadata": {},
   "source": [
    "### Commit\n",
    "##### commit就一定会生成一个版本，有git commit、git commit -m、git commit -am （add和commit两部并一步，只对已经被追踪的文件有效）；\n",
    "##### commit之后，push之前，修改了git也会显示，所以需要再次git add .，如果只commit -m是无效的，需要commit -am。但是这种情况下git status 会告知内容是被修改了。只有git status显示nothing to commit, working tree clean才说明全部就绪\n",
    "\n"
   ]
  },
  {
   "cell_type": "markdown",
   "id": "productive-resistance",
   "metadata": {},
   "source": [
    "### log追踪\n",
    "##### git log查询最近的更改（必须成功commit了才行）\n",
    "##### git log --oneline 查看最近更改（只显示一行）\n",
    "##### git log -p -2检查最近两次提交内容的差异\n",
    "##### 之后可以查看版本线图，这个地方不常用\n",
    "##### git log --pretty会打印完整信息，git log --pretty=oneline和 git log --oneline的区别是前者会把哈希值打印完整\n",
    "##### git log --pretty=format:'%h - %an, %ar : %s' 按照定制格式打印版本信息，h哈希，an作者，ar修改时间，s描述\n",
    "##### git log --author='SharpeiEast'显示指定作者修改的版本，git log --author = 'SharpeiEast'这种多空格的是错的\n",
    "##### git config --global user.name 's2'可以创建一个新名字（有没有引号好像都行），git config --global user.name SharpeiEast可以切换回来存在的用户"
   ]
  },
  {
   "cell_type": "markdown",
   "id": "transsexual-suicide",
   "metadata": {},
   "source": [
    "### Diff\n",
    "##### commit之前检查做了哪些调整 git diff 或者git diff 文件名，这个是仅仅修改之后\n",
    "##### add之后的话依然可以查询，只要没有commit， git diff --staged\n"
   ]
  },
  {
   "cell_type": "markdown",
   "id": "devoted-albany",
   "metadata": {},
   "source": [
    "### 删除，重命名，移动\n",
    "##### git rm 文件名，删除之后commit\n",
    "##### git mv 文件名 移动后位置/文件名，如果不加移动后位置等同于原地重命名"
   ]
  },
  {
   "cell_type": "markdown",
   "id": "legendary-translator",
   "metadata": {},
   "source": [
    "### 文件忽略\n",
    "##### .gitignore, /node_modules忽略node_modules文件夹下的所有文件，*.log忽略.log结尾的文件\n",
    "##### .gitignore文件中写进不想被追踪的文件、文件夹，但是如果在修改.gitignore文件之前就已经commit提交了则是无效的，所以在这种情况下要先将文件剔除git rm -r --cached 文件名或者 . 就是把缓存文件全剔除。之后再重新add，commit，push\n",
    "##### 文件已经被追踪的状态，上述忽略命令是无效的，需要git rm -r --cached.来实现\n",
    "##### 如果创建了一个空文件夹，git status不会获取这个空文件夹\n"
   ]
  },
  {
   "cell_type": "markdown",
   "id": "published-hierarchy",
   "metadata": {},
   "source": [
    "### 还原\n",
    "##### git checkout"
   ]
  },
  {
   "cell_type": "code",
   "execution_count": null,
   "id": "piano-newman",
   "metadata": {},
   "outputs": [],
   "source": []
  },
  {
   "cell_type": "code",
   "execution_count": null,
   "id": "southeast-future",
   "metadata": {},
   "outputs": [],
   "source": []
  },
  {
   "cell_type": "code",
   "execution_count": null,
   "id": "constitutional-transition",
   "metadata": {},
   "outputs": [],
   "source": []
  }
 ],
 "metadata": {
  "kernelspec": {
   "display_name": "Python 3",
   "language": "python",
   "name": "python3"
  },
  "language_info": {
   "codemirror_mode": {
    "name": "ipython",
    "version": 3
   },
   "file_extension": ".py",
   "mimetype": "text/x-python",
   "name": "python",
   "nbconvert_exporter": "python",
   "pygments_lexer": "ipython3",
   "version": "3.7.7"
  }
 },
 "nbformat": 4,
 "nbformat_minor": 5
}
