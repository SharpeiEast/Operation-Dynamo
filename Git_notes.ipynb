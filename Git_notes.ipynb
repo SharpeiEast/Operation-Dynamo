{
 "cells": [
  {
   "cell_type": "markdown",
   "id": "direct-thursday",
   "metadata": {},
   "source": [
    "# Git 笔记"
   ]
  },
  {
   "cell_type": "markdown",
   "id": "hybrid-mapping",
   "metadata": {},
   "source": [
    "### add\n",
    "##### git add . 是追踪全部\n",
    "##### git add * 是追踪新文件\n"
   ]
  },
  {
   "cell_type": "markdown",
   "id": "charged-baltimore",
   "metadata": {},
   "source": [
    "### Commit\n",
    "##### commit就一定会生成一个版本，有git commit、git commit -m、git commit -am （add和commit两部并一步，只对已经被追踪的文件有效）；\n",
    "##### commit之后，push之前，修改了git也会显示，所以需要再次git add .，如果只commit -m是无效的，需要commit -am。但是这种情况下git status 会告知内容是被修改了。只有git status显示nothing to commit, working tree clean才说明全部就绪\n",
    "\n"
   ]
  },
  {
   "cell_type": "markdown",
   "id": "presidential-jewel",
   "metadata": {},
   "source": [
    "### log追踪\n",
    "##### git log查询最近的更改（必须成功commit了才行）\n",
    "##### git log --oneline 查看最近更改（只显示一行）\n",
    "##### git log -p -2检查最近两次提交内容的差异\n",
    "##### 之后可以查看版本线图，这个地方不常用\n",
    "##### git log --pretty会打印完整信息，git log --pretty=oneline和 git log --oneline的区别是前者会把哈希值打印完整\n",
    "##### git log --pretty=format:'%h - %an, %ar : %s' 按照定制格式打印版本信息，h哈希，an作者，ar修改时间，s描述\n",
    "##### git log --author='SharpeiEast'显示指定作者修改的版本，git log --author = 'SharpeiEast'这种多空格的是错的"
   ]
  },
  {
   "cell_type": "markdown",
   "id": "miniature-washington",
   "metadata": {},
   "source": []
  },
  {
   "cell_type": "code",
   "execution_count": null,
   "id": "loved-customer",
   "metadata": {},
   "outputs": [],
   "source": []
  }
 ],
 "metadata": {
  "kernelspec": {
   "display_name": "Python 3",
   "language": "python",
   "name": "python3"
  },
  "language_info": {
   "codemirror_mode": {
    "name": "ipython",
    "version": 3
   },
   "file_extension": ".py",
   "mimetype": "text/x-python",
   "name": "python",
   "nbconvert_exporter": "python",
   "pygments_lexer": "ipython3",
   "version": "3.7.7"
  }
 },
 "nbformat": 4,
 "nbformat_minor": 5
}
