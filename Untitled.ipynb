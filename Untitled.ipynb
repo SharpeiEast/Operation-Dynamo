{
 "cells": [
  {
   "cell_type": "code",
   "execution_count": 2,
   "id": "recent-intensity",
   "metadata": {},
   "outputs": [
    {
     "name": "stdout",
     "output_type": "stream",
     "text": [
      "5\n"
     ]
    }
   ],
   "source": [
    "# O(n) time, quick selection\n",
    "# 这个k是从零开始数的，可以理解为这堆数如果排好序，那么sorted_nums[k]是谁。\n",
    "def findKthLargest(nums, k):\n",
    "    # convert the kth largest to smallest\n",
    "    start = time.time()\n",
    "    rst = findKthSmallest(nums, len(nums)+1-k)\n",
    "    t = time.time() - start\n",
    "    return rst, len(nums), t\n",
    "    \n",
    "def findKthSmallest(nums, k):\n",
    "    if len(nums) < k:\n",
    "        return -1\n",
    "    if nums:\n",
    "        pos = partition(nums, 0, len(nums)-1)\n",
    "        if k > pos+1:\n",
    "            return findKthSmallest(nums[pos+1:], k-pos-1)\n",
    "        elif k < pos+1:\n",
    "            return findKthSmallest(nums[:pos], k)\n",
    "        else:\n",
    "            return nums[pos]\n",
    " \n",
    "# choose the right-most element as pivot   \n",
    "# r的索引对应的数被用来做比较的，l每次都会前移，但是low只有nums[l]大于nums[r]\n",
    "# 的时候才会前移，所以最后low之前的数字都是大于nums[r]的，l会走完整个数列到达r\n",
    "# 的位置然后跳出整个循环，这时把nums[r]替换到nums[low]的位置就行了，前面的数\n",
    "# 都比它小，后面的数都比它大。这个函数虽然没有return nums，但是其实对它进行了操作\n",
    "def partition(nums, l, r):\n",
    "    low = l\n",
    "    while l < r:\n",
    "        if nums[l] < nums[r]:\n",
    "            nums[l], nums[low] = nums[low], nums[l]\n",
    "            low += 1\n",
    "        l += 1\n",
    "    nums[low], nums[r] = nums[r], nums[low]\n",
    "    return low\n",
    "\n",
    "print(findKthSmallest([0,3,2,1,4,7,6,5], 6))"
   ]
  },
  {
   "cell_type": "code",
   "execution_count": 3,
   "id": "enabling-deposit",
   "metadata": {},
   "outputs": [
    {
     "data": {
      "text/plain": [
       "[1, 2, 3]"
      ]
     },
     "execution_count": 3,
     "metadata": {},
     "output_type": "execute_result"
    }
   ],
   "source": [
    "a = []\n",
    "b = [1,2,3]\n",
    "c = a or b\n",
    "c"
   ]
  },
  {
   "cell_type": "code",
   "execution_count": 1,
   "id": "experimental-privilege",
   "metadata": {},
   "outputs": [
    {
     "data": {
      "text/plain": [
       "1"
      ]
     },
     "execution_count": 1,
     "metadata": {},
     "output_type": "execute_result"
    }
   ],
   "source": [
    "a = b = 1\n",
    "b = 2\n",
    "a"
   ]
  },
  {
   "cell_type": "code",
   "execution_count": 2,
   "id": "rocky-sight",
   "metadata": {},
   "outputs": [
    {
     "ename": "SyntaxError",
     "evalue": "unexpected EOF while parsing (<ipython-input-2-6066bb6b676d>, line 4)",
     "output_type": "error",
     "traceback": [
      "\u001b[0;36m  File \u001b[0;32m\"<ipython-input-2-6066bb6b676d>\"\u001b[0;36m, line \u001b[0;32m4\u001b[0m\n\u001b[0;31m    \u001b[0m\n\u001b[0m    ^\u001b[0m\n\u001b[0;31mSyntaxError\u001b[0m\u001b[0;31m:\u001b[0m unexpected EOF while parsing\n"
     ]
    }
   ],
   "source": [
    "def mat_clock(mat):\n",
    "    result = []\n",
    "    while matrix:\n",
    "        "
   ]
  },
  {
   "cell_type": "code",
   "execution_count": 1,
   "id": "latter-madrid",
   "metadata": {},
   "outputs": [],
   "source": [
    "def longest_matrix(mat):\n",
    "#     visited = []\n",
    "#     idx = [[1,0],[-1,0],[0,1],[0,-1]]\n",
    "    result = [[1 for i in range(len(mat[0]))] for j in range(len(mat))]\n",
    "    \n",
    "    for i in range(len(mat)):\n",
    "        for j in range(len(mat[0])):\n",
    "            if j - 1 >= 0 and mat[i][j] > mat[i][j-1]:\n",
    "                result[i][j] = max(result[i][j-1] + 1, result[i][j])\n",
    "            if i - 1 >= 0 and mat[i][j] > mat[i-1][j]:\n",
    "                result[i][j] = max(result[i-1][j] + 1, result[i][j])\n",
    "    for i in range(len(mat)-1, -1, -1):\n",
    "        for j in range(len(mat[0]) - 1, -1, -1):\n",
    "            if j + 1 < len(mat) and mat[i][j] > mat[i][j+1]:\n",
    "                result[i][j] = max(result[i][j+1] + 1, result[i][j])\n",
    "            if i + 1 < len(mat) and mat[i][j] > mat[i+1][j]:\n",
    "                result[i][j] = max(result[i+1][j] + 1, result[i][j])\n",
    "    max_ = 0\n",
    "    for i in result:\n",
    "        for j in i:\n",
    "            max_ = max(j,max_)\n",
    "    return max_"
   ]
  },
  {
   "cell_type": "code",
   "execution_count": 1,
   "id": "pleased-responsibility",
   "metadata": {},
   "outputs": [
    {
     "name": "stdout",
     "output_type": "stream",
     "text": [
      "5\n"
     ]
    }
   ],
   "source": [
    "class Solution:\n",
    "    def longestIncreasingPath(self, matrix):\n",
    "        \"\"\"\n",
    "        :type matrix: List[List[int]]\n",
    "        :rtype: int\n",
    "        \"\"\"\n",
    "        a = len(matrix)\n",
    "        dic = {}\n",
    "        nums_max = 1\n",
    "        if a == 0:\n",
    "            nums_max = 0\n",
    "        else:\n",
    "            b = len(matrix[0])\n",
    "            for i in range(a):\n",
    "                for j in range(b):\n",
    "                    dic[(i,j)] = matrix[i][j]\n",
    "            v =  dic.keys()\n",
    "            nums1 = [[1 for i in range(b)] for j in range(a)]        \n",
    "            dic = sorted(dic.items(),key = lambda x:x[1])\n",
    "            for k in dic:\n",
    "                i = k[0][0]\n",
    "                j = k[0][1]\n",
    "                if (i+1,j) in v and matrix[i+1][j]<matrix[i][j] and nums1[i][j]<nums1[i+1][j]+1:\n",
    "                    nums1[i][j] = nums1[i+1][j] + 1\n",
    "                if (i,j+1) in v and matrix[i][j+1]<matrix[i][j] and nums1[i][j]<nums1[i][j+1]+1:\n",
    "                    nums1[i][j] = nums1[i][j+1] +1\n",
    "                if (i-1,j) in v and matrix[i-1][j]<matrix[i][j] and nums1[i][j]<nums1[i-1][j]+1:\n",
    "                    nums1[i][j] = nums1[i-1][j] +1\n",
    "                if (i,j-1) in v and matrix[i][j-1]<matrix[i][j] and nums1[i][j]<nums1[i][j-1]+1:\n",
    "                    nums1[i][j] = nums1[i][j-1] + 1    \n",
    "                nums_max = max(nums_max,nums1[i][j])              \n",
    "        return nums_max\n",
    "\n",
    "    \n",
    "grid = [[1,2,3],[4,5,6],[7,8,9]]\n",
    "S = Solution()\n",
    "print(S.longestIncreasingPath(grid))"
   ]
  },
  {
   "cell_type": "code",
   "execution_count": 50,
   "id": "fabulous-ebony",
   "metadata": {},
   "outputs": [
    {
     "name": "stdout",
     "output_type": "stream",
     "text": [
      "[[5, 6, 7], [4, 9, 8], [3, 2, 1]]\n"
     ]
    }
   ],
   "source": [
    "grid = [[1,2,3],[4,5,6],[7,8,9]]\n",
    "grid1 = [[5,4,3],[6,1,2],[7,8,9]]\n",
    "# print(longestIncreasingPath(grid))\n",
    "\n",
    "# 采用迭代方法的矩阵最长增长路径\n",
    "def longestIncreasingPath_iter(mat):\n",
    "    if not mat:\n",
    "        return 0\n",
    "    visited = [[-1] * len(mat[0]) for _ in mat]\n",
    "    idxs = [(1,0),(-1,0), (0,1),(0,-1)]\n",
    "    for i in range(len(mat)):\n",
    "        for j in range(len(mat[0])):\n",
    "            if visited[i][j] == -1:\n",
    "                cur = 1\n",
    "                queue = [(i,j,1)] # 全局信息记录可以放在visited中，局部信息要放在queue中\n",
    "                while queue:\n",
    "                    row, col, length = queue.pop()\n",
    "                    for r, c in idxs:\n",
    "                        r_new = r + row\n",
    "                        c_new = c + col\n",
    "                        if 0 <= r_new < len(mat) and 0<=c_new<len(mat[0]) and mat[r_new][c_new] > mat[row][col]:\n",
    "                            cur = max(length+1, cur)\n",
    "                            queue.append((r_new, c_new, length+1))\n",
    "                visited[i][j] = cur\n",
    "    return visited\n",
    "print(longestIncreasingPath_iter(grid1)) "
   ]
  },
  {
   "cell_type": "code",
   "execution_count": 51,
   "id": "leading-blanket",
   "metadata": {},
   "outputs": [
    {
     "data": {
      "text/plain": [
       "[1, 2, 3, 4, 8, 12, 16, 15, 14, 13, 9, 5, 6, 7, 11, 10]"
      ]
     },
     "execution_count": 51,
     "metadata": {},
     "output_type": "execute_result"
    }
   ],
   "source": []
  },
  {
   "cell_type": "code",
   "execution_count": 46,
   "id": "bigger-poster",
   "metadata": {},
   "outputs": [
    {
     "name": "stdout",
     "output_type": "stream",
     "text": [
      "[((1, 1), 1), ((1, 2), 2), ((0, 2), 3), ((0, 1), 4), ((0, 0), 5), ((1, 0), 6), ((2, 0), 7), ((2, 1), 8), ((2, 2), 9)]\n"
     ]
    },
    {
     "data": {
      "text/plain": [
       "9"
      ]
     },
     "execution_count": 46,
     "metadata": {},
     "output_type": "execute_result"
    }
   ],
   "source": []
  }
 ],
 "metadata": {
  "kernelspec": {
   "display_name": "Python 3",
   "language": "python",
   "name": "python3"
  },
  "language_info": {
   "codemirror_mode": {
    "name": "ipython",
    "version": 3
   },
   "file_extension": ".py",
   "mimetype": "text/x-python",
   "name": "python",
   "nbconvert_exporter": "python",
   "pygments_lexer": "ipython3",
   "version": "3.7.7"
  }
 },
 "nbformat": 4,
 "nbformat_minor": 5
}
