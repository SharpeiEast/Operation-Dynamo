{
 "cells": [
  {
   "cell_type": "code",
   "execution_count": null,
   "id": "recent-intensity",
   "metadata": {},
   "outputs": [],
   "source": []
  },
  {
   "cell_type": "code",
   "execution_count": null,
   "id": "enabling-deposit",
   "metadata": {},
   "outputs": [],
   "source": []
  },
  {
   "cell_type": "code",
   "execution_count": null,
   "id": "experimental-privilege",
   "metadata": {},
   "outputs": [],
   "source": []
  },
  {
   "cell_type": "code",
   "execution_count": null,
   "id": "rocky-sight",
   "metadata": {},
   "outputs": [],
   "source": []
  },
  {
   "cell_type": "code",
   "execution_count": null,
   "id": "latter-madrid",
   "metadata": {},
   "outputs": [],
   "source": []
  },
  {
   "cell_type": "code",
   "execution_count": 10,
   "id": "pleased-responsibility",
   "metadata": {},
   "outputs": [
    {
     "name": "stdout",
     "output_type": "stream",
     "text": [
      "5\n"
     ]
    }
   ],
   "source": [
    "class Solution:\n",
    "    def longestIncreasingPath(self, matrix):\n",
    "        \"\"\"\n",
    "        :type matrix: List[List[int]]\n",
    "        :rtype: int\n",
    "        \"\"\"\n",
    "        a = len(matrix)\n",
    "        dic = {}\n",
    "        nums_max = 1\n",
    "        if a == 0:\n",
    "            nums_max = 0\n",
    "        else:\n",
    "            b = len(matrix[0])\n",
    "            for i in range(a):\n",
    "                for j in range(b):\n",
    "                    dic[(i,j)] = matrix[i][j]\n",
    "            v =  dic.keys()\n",
    "            nums1 = [[1 for i in range(b)] for j in range(a)]        \n",
    "            dic = sorted(dic.items(),key = lambda x:x[1])\n",
    "            for k in dic:\n",
    "                i = k[0][0]\n",
    "                j = k[0][1]\n",
    "                if (i+1,j) in v and matrix[i+1][j]<matrix[i][j] and nums1[i][j]<nums1[i+1][j]+1:\n",
    "                    nums1[i][j] = nums1[i+1][j] + 1\n",
    "                if (i,j+1) in v and matrix[i][j+1]<matrix[i][j] and nums1[i][j]<nums1[i][j+1]+1:\n",
    "                    nums1[i][j] = nums1[i][j+1] +1\n",
    "                if (i-1,j) in v and matrix[i-1][j]<matrix[i][j] and nums1[i][j]<nums1[i-1][j]+1:\n",
    "                    nums1[i][j] = nums1[i-1][j] +1\n",
    "                if (i,j-1) in v and matrix[i][j-1]<matrix[i][j] and nums1[i][j]<nums1[i][j-1]+1:\n",
    "                    nums1[i][j] = nums1[i][j-1] + 1    \n",
    "                nums_max = max(nums_max,nums1[i][j])              \n",
    "        return nums_max\n",
    "\n",
    "    \n",
    "grid = [[1,2,3],[4,5,6],[7,8,9]]\n",
    "S = Solution()\n",
    "print(S.longestIncreasingPath(grid))"
   ]
  },
  {
   "cell_type": "code",
   "execution_count": null,
   "id": "fabulous-ebony",
   "metadata": {},
   "outputs": [],
   "source": []
  },
  {
   "cell_type": "code",
   "execution_count": null,
   "id": "leading-blanket",
   "metadata": {},
   "outputs": [],
   "source": []
  },
  {
   "cell_type": "code",
   "execution_count": null,
   "id": "bigger-poster",
   "metadata": {},
   "outputs": [],
   "source": []
  }
 ],
 "metadata": {
  "kernelspec": {
   "display_name": "Python 3",
   "language": "python",
   "name": "python3"
  },
  "language_info": {
   "codemirror_mode": {
    "name": "ipython",
    "version": 3
   },
   "file_extension": ".py",
   "mimetype": "text/x-python",
   "name": "python",
   "nbconvert_exporter": "python",
   "pygments_lexer": "ipython3",
   "version": "3.7.7"
  }
 },
 "nbformat": 4,
 "nbformat_minor": 5
}
