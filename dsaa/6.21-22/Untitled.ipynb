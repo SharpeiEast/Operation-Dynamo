{
 "cells": [
  {
   "cell_type": "code",
   "execution_count": 40,
   "id": "convenient-merchandise",
   "metadata": {},
   "outputs": [
    {
     "name": "stdout",
     "output_type": "stream",
     "text": [
      "True\n"
     ]
    }
   ],
   "source": [
    "# 判断二分图，检查图中所有结点是否可以分在两个区域且每个结点的所有邻居都是不同类的结点\n",
    "# 输入样例graph = [[1,3], [0,2], [1,3], [0,2]]；graph = [[1,2,3], [0,2], [0,1,3], [0,2]]\n",
    "# 判断这个图能不能成为二分图\n",
    "def isBipartite(graph):\n",
    "    color = {} # 等效visited，只要访问过就会被着色\n",
    "    if not graph:\n",
    "        return True\n",
    "    for i in range(len(graph)):\n",
    "        queue = [i]\n",
    "        while queue:\n",
    "            cur = queue.pop()\n",
    "            if cur not in color:\n",
    "                color[cur] = 1\n",
    "            for neig in graph[cur]:\n",
    "                if neig not in color:\n",
    "                    color[neig] = color[cur] * -1\n",
    "                else:\n",
    "                    if color[neig] != color[cur] * -1:\n",
    "                        return False\n",
    "    return True\n",
    "                \n",
    "\n",
    "print(isBipartite([[1,3], [0,2], [1,3], [0,2]]))"
   ]
  }
 ],
 "metadata": {
  "kernelspec": {
   "display_name": "Python 3",
   "language": "python",
   "name": "python3"
  },
  "language_info": {
   "codemirror_mode": {
    "name": "ipython",
    "version": 3
   },
   "file_extension": ".py",
   "mimetype": "text/x-python",
   "name": "python",
   "nbconvert_exporter": "python",
   "pygments_lexer": "ipython3",
   "version": "3.7.7"
  }
 },
 "nbformat": 4,
 "nbformat_minor": 5
}
