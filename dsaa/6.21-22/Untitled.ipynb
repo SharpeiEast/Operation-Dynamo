{
 "cells": [
  {
   "cell_type": "code",
   "execution_count": 42,
   "id": "executed-warning",
   "metadata": {},
   "outputs": [],
   "source": [
    "class Solution:\n",
    "    def longestIncreasingPath(self, matrix):\n",
    "        \"\"\"\n",
    "        :type matrix: List[List[int]]\n",
    "        :rtype: int\n",
    "        \"\"\"\n",
    "        a = len(matrix)\n",
    "        dic = {}\n",
    "        nums_max = 1\n",
    "        if a == 0:\n",
    "            nums_max = 0\n",
    "        else:\n",
    "            b = len(matrix[0])\n",
    "            for i in range(a):\n",
    "                for j in range(b):\n",
    "                    dic[(i,j)] = matrix[i][j]\n",
    "            v =  dic.keys()\n",
    "            nums1 = [[1 for i in range(b)] for j in range(a)]        \n",
    "            dic = sorted(dic.items(),key = lambda x:x[1])\n",
    "            for k in dic:\n",
    "                i = k[0][0]\n",
    "                j = k[0][1]\n",
    "                if (i+1,j) in v and matrix[i+1][j]<matrix[i][j] and nums1[i][j]<nums1[i+1][j]+1:\n",
    "                    nums1[i][j] = nums1[i+1][j] + 1\n",
    "                if (i,j+1) in v and matrix[i][j+1]<matrix[i][j] and nums1[i][j]<nums1[i][j+1]+1:\n",
    "                    nums1[i][j] = nums1[i][j+1] +1\n",
    "                if (i-1,j) in v and matrix[i-1][j]<matrix[i][j] and nums1[i][j]<nums1[i-1][j]+1:\n",
    "                    nums1[i][j] = nums1[i-1][j] +1\n",
    "                if (i,j-1) in v and matrix[i][j-1]<matrix[i][j] and nums1[i][j]<nums1[i][j-1]+1:\n",
    "                    nums1[i][j] = nums1[i][j-1] + 1    \n",
    "                nums_max = max(nums_max,nums1[i][j])              \n",
    "        return nums_max\n",
    "\n",
    "                \n",
    "            \n",
    "        \n",
    "   "
   ]
  },
  {
   "cell_type": "code",
   "execution_count": 45,
   "id": "theoretical-venice",
   "metadata": {},
   "outputs": [
    {
     "data": {
      "text/plain": [
       "6"
      ]
     },
     "execution_count": 45,
     "metadata": {},
     "output_type": "execute_result"
    }
   ],
   "source": [
    "nums = [\n",
    "  [9,9,4],\n",
    "  [6,6,8],\n",
    "  [2,1,1]\n",
    "] \n",
    "nums1 = [\n",
    "  [8,4,5],\n",
    "  [3,9,6],\n",
    "  [2,8,7]\n",
    "]\n",
    "\n",
    "S = Solution()\n",
    "S.longestIncreasingPath(nums1)\n",
    "\n"
   ]
  },
  {
   "cell_type": "code",
   "execution_count": 75,
   "id": "brave-basics",
   "metadata": {},
   "outputs": [
    {
     "name": "stdout",
     "output_type": "stream",
     "text": [
      "0 0 1\n",
      "0 1 1\n",
      "0 2 2\n",
      "1 0 2\n",
      "1 1 2\n",
      "1 2 2\n",
      "2 0 3\n",
      "2 1 4\n",
      "2 2 4\n"
     ]
    },
    {
     "data": {
      "text/plain": [
       "4"
      ]
     },
     "execution_count": 75,
     "metadata": {},
     "output_type": "execute_result"
    }
   ],
   "source": [
    "# 矩阵最长增长路径\n",
    "# 同样需要挨个访问每一个点\n",
    "def longestIncreasingPath(mat):\n",
    "    if not mat:\n",
    "        return 0\n",
    "    result = [[-1] * len(mat[0]) for _ in range(len(mat))]\n",
    "    res = 0\n",
    "    for i in range(len(mat)):\n",
    "        for j in range(len(mat[0])):\n",
    "            length = dfs_helper5(mat, i, j, result)\n",
    "            res = max(length, res)\n",
    "    return res\n",
    "def dfs_helper5(grid, i, j, record):\n",
    "    if record[i][j] != -1:\n",
    "        return record[i][j]\n",
    "    cur_length = 1\n",
    "    idxs = [(1,0), (-1,0), (0,-1), (0,1)]\n",
    "    for r, c in idxs:\n",
    "        r_new = i + r\n",
    "        c_new = j + c\n",
    "        if 0<=r_new<len(grid) and 0<=c_new<len(grid[0]) and grid[i][j] < grid[r_new][c_new]:\n",
    "            length = 1 + dfs_helper5(grid, r_new, c_new, record)\n",
    "            cur_length = max(length, cur_length)\n",
    "    record[i][j] = cur_length\n",
    "    return cur_length\n",
    "            \n",
    "nums = [\n",
    "  [9,9,4],\n",
    "  [6,6,8],\n",
    "  [2,1,1]\n",
    "]\n",
    "nums1 = [\n",
    "  [8,4,5],\n",
    "  [3,9,6],\n",
    "  [2,8,7]\n",
    "]\n",
    "longestIncreasingPath(nums)          \n",
    "    "
   ]
  },
  {
   "cell_type": "code",
   "execution_count": 58,
   "id": "modified-range",
   "metadata": {},
   "outputs": [
    {
     "data": {
      "text/plain": [
       "[[-1, -1, -1, -1, -1, -1, -1, -1, -1, -1]]"
      ]
     },
     "execution_count": 58,
     "metadata": {},
     "output_type": "execute_result"
    }
   ],
   "source": [
    "[[-1] * 10]\n"
   ]
  }
 ],
 "metadata": {
  "kernelspec": {
   "display_name": "Python 3",
   "language": "python",
   "name": "python3"
  },
  "language_info": {
   "codemirror_mode": {
    "name": "ipython",
    "version": 3
   },
   "file_extension": ".py",
   "mimetype": "text/x-python",
   "name": "python",
   "nbconvert_exporter": "python",
   "pygments_lexer": "ipython3",
   "version": "3.7.7"
  }
 },
 "nbformat": 4,
 "nbformat_minor": 5
}
