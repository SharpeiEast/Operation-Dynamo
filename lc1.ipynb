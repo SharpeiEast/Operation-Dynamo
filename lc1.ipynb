{
 "cells": [
  {
   "cell_type": "code",
   "execution_count": 11,
   "id": "super-chamber",
   "metadata": {},
   "outputs": [
    {
     "data": {
      "text/plain": [
       "'bb'"
      ]
     },
     "execution_count": 11,
     "metadata": {},
     "output_type": "execute_result"
    }
   ],
   "source": [
    "class Solution:\n",
    "    def longestPalindrome(self, s: str) -> str:\n",
    "        if len(s) < 2:\n",
    "            return s\n",
    "        def checklength_1(s, id):\n",
    "            res = s[id]\n",
    "            if id == 0 or id == len(s) - 1:\n",
    "                return res\n",
    "            l, r = id - 1, id + 1\n",
    "            while l >= 0 and r < len(s):\n",
    "                if s[l] == s[r]:\n",
    "                    res = s[l] + res + s[r]\n",
    "                    l -= 1\n",
    "                    r += 1\n",
    "                else:\n",
    "                    break\n",
    "            return res\n",
    "        def checklength_2(s, id):\n",
    "            res = s[id]\n",
    "            if id == len(s) - 1:\n",
    "                return res\n",
    "            if s[id] == s[id+1]:\n",
    "                res += s[id+1]\n",
    "            else:\n",
    "                return res\n",
    "            l, r = id - 1, id + 2\n",
    "            while l >= 0 and r < len(s):\n",
    "                if s[l] == s[r]:\n",
    "                    # length += 2\n",
    "                    res = s[l] + res + s[r]\n",
    "                    l -= 1\n",
    "                    r += 1\n",
    "                else:\n",
    "                    break\n",
    "            return res\n",
    "        str_res = ''\n",
    "        for i in range(len(s)):\n",
    "            str_1 = checklength_1(s,i)\n",
    "            str_2 = checklength_2(s,i)\n",
    "            str_pre = str_1 if len(str_1) > len(str_2) else str_2\n",
    "            str_res = str_res if len(str_res) > len(str_pre) else str_pre\n",
    "        return str_res\n",
    "S = Solution()\n",
    "S.longestPalindrome(\"abcdbbfcba\")"
   ]
  },
  {
   "cell_type": "code",
   "execution_count": 5,
   "id": "medieval-engagement",
   "metadata": {},
   "outputs": [
    {
     "data": {
      "text/plain": [
       "[1, 2, 3, 5]"
      ]
     },
     "execution_count": 5,
     "metadata": {},
     "output_type": "execute_result"
    }
   ],
   "source": [
    "# 加一\n",
    "\n",
    "class Solution:\n",
    "    def plusOne(self, digits):\n",
    "\n",
    "        idx = len(digits)-1\n",
    "        \n",
    "        while True:\n",
    "            digits[idx] += 1                # 当前位+1，这里的1既可以代表进位也可以代表数值+1\n",
    "            carry = digits[idx] // 10       # 获取进位\n",
    "\n",
    "            digits[idx] %= 10               # 更新当前位数值\n",
    "            idx -= 1                        # 下标前移\n",
    "\n",
    "            if not carry or idx < 0:        # 如果进位为零或者下标越界，跳出循环\n",
    "                break\n",
    "\n",
    "        if carry:                           # 如果进位不为零，需要增加一个最高位\n",
    "            digits.insert(0, 1)             # 在列表0位置处插入1\n",
    "\n",
    "        return digits\n",
    "    \n",
    "S = Solution()\n",
    "S.plusOne([1,2,3,4])"
   ]
  }
 ],
 "metadata": {
  "kernelspec": {
   "display_name": "Python 3",
   "language": "python",
   "name": "python3"
  },
  "language_info": {
   "codemirror_mode": {
    "name": "ipython",
    "version": 3
   },
   "file_extension": ".py",
   "mimetype": "text/x-python",
   "name": "python",
   "nbconvert_exporter": "python",
   "pygments_lexer": "ipython3",
   "version": "3.7.7"
  }
 },
 "nbformat": 4,
 "nbformat_minor": 5
}
