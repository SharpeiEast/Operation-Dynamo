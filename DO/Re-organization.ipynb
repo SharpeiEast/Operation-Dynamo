{
 "cells": [
  {
   "cell_type": "markdown",
   "id": "differential-signature",
   "metadata": {},
   "source": [
    "# 合并重组"
   ]
  },
  {
   "cell_type": "code",
   "execution_count": 2,
   "id": "published-premises",
   "metadata": {},
   "outputs": [],
   "source": [
    "# 九宫图\n",
    "# \n",
    "\n",
    "def magic_square(n):\n",
    "    magic = [[0] * (n) for i in range(n)]\n",
    "    row = n - 1\n",
    "    col = n//2\n",
    "    magic[row][col] = 1\n",
    "    \n",
    "    for i in range(2, n * n + 1):\n",
    "        try_row = (row + 1) % n\n",
    "        try_col = (col + 1) % n\n",
    "\n",
    "        if (magic[try_row][try_col] == 0):\n",
    "            row = try_row\n",
    "            col = try_col\n",
    "        else:\n",
    "            row = (row - 1 + n) % n\n",
    "        \n",
    "        magic[row][col] = i\n",
    "    \n",
    "    for x in magic:\n",
    "        print(x, sep=\" \")\n",
    "# magic_square(5)\n",
    "# magic_square(3)"
   ]
  },
  {
   "cell_type": "code",
   "execution_count": 3,
   "id": "victorian-spectacular",
   "metadata": {},
   "outputs": [
    {
     "name": "stdout",
     "output_type": "stream",
     "text": [
      "[0, 1, 2, 3, 4]\n",
      "[5, 6, 7, 8, 9]\n",
      "[10, 11, 12, 13, 14]\n",
      "[15, 16, 17, 18, 19]\n",
      "[20, 21, 22, 23, 24]\n",
      "[20, 15, 10, 5, 0]\n",
      "[21, 16, 11, 6, 1]\n",
      "[22, 17, 12, 7, 2]\n",
      "[23, 18, 13, 8, 3]\n",
      "[24, 19, 14, 9, 4]\n"
     ]
    }
   ],
   "source": [
    "# 旋转数组\n",
    "\n",
    "\n",
    "def rotate_in_place(matrix):\n",
    "    for x in matrix:\n",
    "        print(x, sep=' ') # 打印原来的\n",
    "        \n",
    "    n = len(matrix)\n",
    "    for layer in range(n//2):\n",
    "        first = layer\n",
    "        last = n - 1 - layer\n",
    "        for i in range(first, last):\n",
    "            offset = i - first\n",
    "            top = matrix[first][i]  # save top\n",
    "            \n",
    "            ## left->top\n",
    "            matrix[first][i] = matrix[last-offset][first]\n",
    "            \n",
    "            ##bottom -> left\n",
    "            matrix[last-offset][first] = matrix[last][last - offset];\n",
    "\n",
    "            # right -> bottom\n",
    "            matrix[last][last - offset] = matrix[i][last];\n",
    "\n",
    "            # top -> right\n",
    "            matrix[i][last] = top;  # right <- saved top            \n",
    "            \n",
    "    for x in matrix:\n",
    "        print(x, sep=\" \")\n",
    "        \n",
    "# matrix = [[i*5+j for j in range(5)] for i in range(5)]\n",
    "# rotate_in_place(matrix)"
   ]
  },
  {
   "cell_type": "code",
   "execution_count": null,
   "id": "tested-cambodia",
   "metadata": {},
   "outputs": [],
   "source": []
  }
 ],
 "metadata": {
  "kernelspec": {
   "display_name": "Python 3",
   "language": "python",
   "name": "python3"
  },
  "language_info": {
   "codemirror_mode": {
    "name": "ipython",
    "version": 3
   },
   "file_extension": ".py",
   "mimetype": "text/x-python",
   "name": "python",
   "nbconvert_exporter": "python",
   "pygments_lexer": "ipython3",
   "version": "3.7.7"
  }
 },
 "nbformat": 4,
 "nbformat_minor": 5
}
