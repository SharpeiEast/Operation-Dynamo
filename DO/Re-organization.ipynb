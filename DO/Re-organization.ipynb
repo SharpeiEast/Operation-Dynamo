{
 "cells": [
  {
   "cell_type": "markdown",
   "id": "differential-signature",
   "metadata": {},
   "source": [
    "# 合并重组"
   ]
  },
  {
   "cell_type": "code",
   "execution_count": 2,
   "id": "published-premises",
   "metadata": {},
   "outputs": [],
   "source": [
    "# 九宫图\n",
    "# \n",
    "\n",
    "def magic_square(n):\n",
    "    magic = [[0] * (n) for i in range(n)]\n",
    "    row = n - 1\n",
    "    col = n//2\n",
    "    magic[row][col] = 1\n",
    "    \n",
    "    for i in range(2, n * n + 1):\n",
    "        try_row = (row + 1) % n\n",
    "        try_col = (col + 1) % n\n",
    "\n",
    "        if (magic[try_row][try_col] == 0):\n",
    "            row = try_row\n",
    "            col = try_col\n",
    "        else:\n",
    "            row = (row - 1 + n) % n\n",
    "        \n",
    "        magic[row][col] = i\n",
    "    \n",
    "    for x in magic:\n",
    "        print(x, sep=\" \")\n",
    "# magic_square(5)\n",
    "# magic_square(3)"
   ]
  },
  {
   "cell_type": "code",
   "execution_count": 1,
   "id": "consolidated-steal",
   "metadata": {},
   "outputs": [
    {
     "data": {
      "text/plain": [
       "[1, 2, 3, 4, 8, 12, 16, 15, 14, 13, 9, 5, 6, 7, 11, 10]"
      ]
     },
     "execution_count": 1,
     "metadata": {},
     "output_type": "execute_result"
    }
   ],
   "source": [
    "# 顺时针打印矩阵，类比剥洋葱\n",
    "def spiralOrder(matrix):\n",
    "        if not matrix:return []\n",
    "        l,r,t,b = 0,len(matrix[0])-1,0,len(matrix)-1\n",
    "        res = []\n",
    "        while True:\n",
    "            for i in range(l,r+1):\n",
    "                res.append(matrix[t][i])\n",
    "            t += 1\n",
    "            if t>b:break\n",
    "            for i in range(t,b+1):\n",
    "                res.append(matrix[i][r])\n",
    "            r -= 1\n",
    "            if l>r:break\n",
    "            for i in range(r,l-1,-1):\n",
    "                res.append(matrix[b][i])\n",
    "            b -= 1\n",
    "            if t>b:break\n",
    "            for i in range(b,t-1,-1):\n",
    "                res.append(matrix[i][l])\n",
    "            l += 1\n",
    "            if l>r:break\n",
    "        return res\n",
    "    \n",
    "# matrix = [\n",
    "#     [1,2,3,4],\n",
    "#     [5,6,7,8],\n",
    "#     [9,10,11,12],\n",
    "#     [13,14,15,16]\n",
    "#   ]\n",
    "# spiralOrder(matrix)"
   ]
  },
  {
   "cell_type": "code",
   "execution_count": 3,
   "id": "victorian-spectacular",
   "metadata": {},
   "outputs": [
    {
     "name": "stdout",
     "output_type": "stream",
     "text": [
      "[0, 1, 2, 3, 4]\n",
      "[5, 6, 7, 8, 9]\n",
      "[10, 11, 12, 13, 14]\n",
      "[15, 16, 17, 18, 19]\n",
      "[20, 21, 22, 23, 24]\n",
      "[20, 15, 10, 5, 0]\n",
      "[21, 16, 11, 6, 1]\n",
      "[22, 17, 12, 7, 2]\n",
      "[23, 18, 13, 8, 3]\n",
      "[24, 19, 14, 9, 4]\n"
     ]
    }
   ],
   "source": [
    "# 旋转数组\n",
    "\n",
    "\n",
    "def rotate_in_place(matrix):\n",
    "    for x in matrix:\n",
    "        print(x, sep=' ') # 打印原来的\n",
    "        \n",
    "    n = len(matrix)\n",
    "    for layer in range(n//2):\n",
    "        first = layer\n",
    "        last = n - 1 - layer\n",
    "        for i in range(first, last):\n",
    "            offset = i - first\n",
    "            top = matrix[first][i]  # save top\n",
    "            \n",
    "            ## left->top\n",
    "            matrix[first][i] = matrix[last-offset][first]\n",
    "            \n",
    "            ##bottom -> left\n",
    "            matrix[last-offset][first] = matrix[last][last - offset];\n",
    "\n",
    "            # right -> bottom\n",
    "            matrix[last][last - offset] = matrix[i][last];\n",
    "\n",
    "            # top -> right\n",
    "            matrix[i][last] = top;  # right <- saved top            \n",
    "            \n",
    "    for x in matrix:\n",
    "        print(x, sep=\" \")\n",
    "        \n",
    "# matrix = [[i*5+j for j in range(5)] for i in range(5)]\n",
    "# rotate_in_place(matrix)"
   ]
  },
  {
   "cell_type": "code",
   "execution_count": 6,
   "id": "tested-cambodia",
   "metadata": {},
   "outputs": [
    {
     "data": {
      "text/plain": [
       "[1, 2, 3, 4, 5, 6, 7, 8]"
      ]
     },
     "execution_count": 6,
     "metadata": {},
     "output_type": "execute_result"
    }
   ],
   "source": [
    "# 二分逆序，链表也会用\n",
    "def binary_reverse(nums):\n",
    "    if len(nums) <= 1:\n",
    "        return nums\n",
    "    mid = len(nums) // 2\n",
    "    left = nums[:mid]\n",
    "    right = nums[mid:]\n",
    "    return binary_reverse(right) + binary_reverse(left)\n",
    "# binary_reverse([1,2,3,4,5,6,7])\n",
    "# 二分奇偶\n",
    "def binary_odd_even(nums):\n",
    "    if len(nums) <= 2:\n",
    "        return nums\n",
    "    mid = len(nums) // 2\n",
    "    mid2 = mid // 2\n",
    "    left = nums[:mid2] + nums[mid:mid + mid2]\n",
    "    right = nums[mid2:mid] + nums[mid+mid2:]\n",
    "    return binary_odd_even(left) + binary_odd_even(right)\n",
    "# 归并排序\n",
    "def merge_sort(nums):\n",
    "    if len(nums) < 2:\n",
    "        return nums\n",
    "    mid = len(nums) // 2\n",
    "    left = nums[:mid]\n",
    "    right = nums[mid:]\n",
    "    return merge(merge_sort(left), merge_sort(right))\n",
    "def merge(left, right):\n",
    "    result = []\n",
    "    while left and right:\n",
    "        if left[0] < right[0]:\n",
    "            result.append(left.pop(0))\n",
    "        else:\n",
    "            result.append(right.pop(0))\n",
    "    while left:\n",
    "        result.append(left.pop(0))\n",
    "    while right:\n",
    "        result.append(right.pop(0))\n",
    "    return result\n",
    "# merge_sort([2,4,6,7,1,3,5,8])"
   ]
  },
  {
   "cell_type": "markdown",
   "id": "dried-disease",
   "metadata": {},
   "source": [
    "# 两个乱序的list求交集，只能先排序，然后双指针法"
   ]
  },
  {
   "cell_type": "code",
   "execution_count": 7,
   "id": "protected-tennessee",
   "metadata": {},
   "outputs": [
    {
     "data": {
      "text/plain": [
       "[1, 2, 3, 4, 5, 6, 7, 8]"
      ]
     },
     "execution_count": 7,
     "metadata": {},
     "output_type": "execute_result"
    }
   ],
   "source": [
    "# 快排\n",
    "def quick_sort(nums):\n",
    "    if len(nums) < 2:\n",
    "        return nums\n",
    "    mid = len(nums) // 2\n",
    "    mid_va = nums.pop(mid)\n",
    "    left = []\n",
    "    right = []\n",
    "    for i in nums:\n",
    "        if i < mid_va:  # 这个地方小心，是中值，不是中间值的id\n",
    "            left.append(i)\n",
    "        else:\n",
    "            right.append(i)\n",
    "    return quick_sort(left) + [mid_va] + quick_sort(right)\n",
    "\n",
    "quick_sort([2,4,6,7,1,3,5,8])"
   ]
  },
  {
   "cell_type": "code",
   "execution_count": 2,
   "id": "cordless-vermont",
   "metadata": {},
   "outputs": [
    {
     "data": {
      "text/plain": [
       "8"
      ]
     },
     "execution_count": 2,
     "metadata": {},
     "output_type": "execute_result"
    }
   ],
   "source": [
    "# choose the right-most element as pivot   \n",
    "# 确认乱序数组中最后一个数字的大小排名\n",
    "# r的索引对应的数被用来做比较的，l每次都会前移，但是low只有nums[l]大于nums[r]\n",
    "# 的时候才会前移，所以最后low之前的数字都是大于nums[r]的，l会走完整个数列到达r\n",
    "# 的位置然后跳出整个循环，这时把nums[r]替换到nums[low]的位置就行了，前面的数\n",
    "# 都比它小，后面的数都比它大。这个函数虽然没有return nums，但是其实对它进行了操作\n",
    "def partition(nums,l,r):\n",
    "    low = l\n",
    "    while l < r:\n",
    "        if nums[l] < nums[r]:\n",
    "            nums[l], nums[low] = nums[low], nums[l]\n",
    "            low += 1\n",
    "        l += 1\n",
    "    nums[low], nums[r] = nums[r], nums[low]\n",
    "    return low  # 是id不是排名，也就是排名需要id+1\n",
    "\n",
    "# 乱序数组找到第K大的数值\n",
    "# O(n) time, quick selection\n",
    "# 这个k是从零开始数的，可以理解为这堆数如果排好序，那么sorted_nums[k]是谁\n",
    "def findKthsmallest(nums, K):\n",
    "    if len(nums) < K:\n",
    "        return -1\n",
    "    pos = partition(nums, 0, len(nums) - 1)\n",
    "    if pos + 1 < K:\n",
    "        return findKthsmallest(nums[pos + 1:], K - pos - 1)\n",
    "    elif pos + 1 > K:\n",
    "        return findKthsmallest(nums[:pos], K)\n",
    "    else:\n",
    "        return nums[pos]\n",
    "\n",
    "    \n",
    "findKthsmallest([0,1,2,3,4,5,6,7,8],9)"
   ]
  },
  {
   "cell_type": "markdown",
   "id": "sorted-omaha",
   "metadata": {},
   "source": [
    "### 如果有大量重复数组，想找某个target的起点和终点，在nums[mid] == target的时候更新right = mid可以找到第一个target，而使用left = mid可以找到最后一个target\n",
    "### 两个排好序的数组，只有一个地方不一样，那么可以采用二分法找到\n",
    "### 最近临点只能用排序解决，没有更快的\n",
    "### 供暖设备问题，先要把供暖设备排序，然后每个房子找它左边和右边最近的"
   ]
  },
  {
   "cell_type": "code",
   "execution_count": 10,
   "id": "comparative-business",
   "metadata": {},
   "outputs": [
    {
     "data": {
      "text/plain": [
       "4"
      ]
     },
     "execution_count": 10,
     "metadata": {},
     "output_type": "execute_result"
    }
   ],
   "source": [
    "# 找两个有序数拼起来之后的中值\n",
    "# 字节的面试会要求得到通项式，即求有序数组拼起来的第K值，nums[k]\n",
    "def find_two_mid(nums1, nums2):\n",
    "    n1, n2 = len(nums1), len(nums2)\n",
    "    if n1 > n2:\n",
    "        return find_two_mid(nums2, nums1)\n",
    "    k = (n1 + n2 + 1) // 2 # 这个地方多加了1，所以之后c1取左边两个最大值，c2取右边两个最小值\n",
    "    left, right = 0, n1\n",
    "    while left < right: # 用left去逼近\n",
    "        m1 = left + (right - left) // 2\n",
    "        m2 = k - m1\n",
    "        if nums1[m1] < nums2[m2-1]:  # 这里是m2 - 1\n",
    "            left = m1 + 1  # 这里是+1\n",
    "        else:\n",
    "            right = m1\n",
    "    m1 = left\n",
    "    m2 = k - m1\n",
    "    c1 = max(nums1[m1-1] if m1>0 else float('-inf'), nums2[m2-1] if m2 > 0 else float('-inf'))\n",
    "    if (n1 + n2) % 2 == 1:\n",
    "        return c1\n",
    "    c2 = min(nums[m1] if m1 < n1 else float('inf'), nums2[m2] if m2 < n2 else float('inf'))\n",
    "    return (c1 + c2)/2\n",
    "find_two_mid([1,2,3,4,5],[3,4,5,6])"
   ]
  },
  {
   "cell_type": "markdown",
   "id": "separated-wayne",
   "metadata": {},
   "source": [
    "### 数学表达式计算"
   ]
  },
  {
   "cell_type": "code",
   "execution_count": 13,
   "id": "greater-acrylic",
   "metadata": {},
   "outputs": [],
   "source": [
    "def infixToPostfix(infixexpr):\n",
    "    prec = {}\n",
    "    prec[\"*\"] = 3\n",
    "    prec[\"/\"] = 3\n",
    "    prec[\"+\"] = 2\n",
    "    prec[\"-\"] = 2\n",
    "    prec[\"(\"] = 1\n",
    "    opStack = []\n",
    "    postfixList = []\n",
    "    tokenList = infixexpr.split()\n",
    "\n",
    "    for token in tokenList:\n",
    "        if token in \"ABCDEFGHIJKLMNOPQRSTUVWXYZ\" or token in \"0123456789\":\n",
    "            postfixList.append(token)  # 如果是字母和数字，直接进入后处理区\n",
    "        elif token == '(':\n",
    "            opStack.append(token)   # 如果是前括号，先进入操作区间\n",
    "        elif token == ')':\n",
    "            topToken = opStack.pop()  # 如果是后括号，则开始清空操作区间，放入后处理区，直到操作区间出现前括号结束\n",
    "            while topToken != '(':\n",
    "                postfixList.append(topToken)\n",
    "                topToken = opStack.pop()\n",
    "        else:  # 如果是运算符号，则判断操作区是否为空集，如果不为空且优先级低于栈顶操作，则栈顶pop出放入后处理区\n",
    "            while (len(opStack) != 0) and \\\n",
    "               (prec[opStack[-1]] >= prec[token]):\n",
    "                postfixList.append(opStack.pop())\n",
    "            opStack.append(token)  # 无论优先级高于或是低于，本次得到的操作符号都应该放入操作区\n",
    "\n",
    "    while len(opStack) != 0:  # 最后清空操作区，挪入后处理区\n",
    "        postfixList.append(opStack.pop())\n",
    "    return \" \".join(postfixList)"
   ]
  },
  {
   "cell_type": "code",
   "execution_count": 14,
   "id": "framed-factory",
   "metadata": {},
   "outputs": [
    {
     "name": "stdout",
     "output_type": "stream",
     "text": [
      "A B * C D * +\n",
      "A B + C * D E - F G + * -\n",
      "A B C * + D E - F * - G +\n"
     ]
    }
   ],
   "source": [
    "print(infixToPostfix(\"A * B + C * D\"))\n",
    "print(infixToPostfix(\"( A + B ) * C - ( D - E ) * ( F + G )\"))\n",
    "print(infixToPostfix(\"A + B * C - ( D - E ) * F + G\"))"
   ]
  },
  {
   "cell_type": "code",
   "execution_count": 16,
   "id": "ready-bundle",
   "metadata": {},
   "outputs": [],
   "source": [
    "def postfixEval(postfixExpr):\n",
    "    operandStack = []\n",
    "    tokenList = postfixExpr.split()\n",
    "\n",
    "    for token in tokenList:\n",
    "        if token in \"0123456789\":\n",
    "            operandStack.append(int(token))  # 如果是数字就放入操作区\n",
    "        else:\n",
    "            operand2 = operandStack.pop()  # 如果是运算符号就进行计算，把最后结果放入操作区\n",
    "            operand1 = operandStack.pop()\n",
    "            result = doMath(token, operand1, operand2)\n",
    "            operandStack.append(result)\n",
    "    return operandStack.pop()  #最后操作区只剩下一个数，就是结果\n",
    "\n",
    "def doMath(op, op1, op2):\n",
    "    if op == \"*\":\n",
    "        return op1 * op2\n",
    "    elif op == \"/\":\n",
    "        return op1 / op2\n",
    "    elif op == \"+\":\n",
    "        return op1 + op2\n",
    "    else:\n",
    "        return op1 - op2"
   ]
  },
  {
   "cell_type": "code",
   "execution_count": 18,
   "id": "horizontal-healing",
   "metadata": {},
   "outputs": [
    {
     "name": "stdout",
     "output_type": "stream",
     "text": [
      "3.0\n",
      "14\n",
      "22\n",
      "20\n"
     ]
    }
   ],
   "source": [
    "print(postfixEval('7 8 + 3 2 + /'))\n",
    "print(postfixEval('1 2 * 3 4 * +'))\n",
    "print(postfixEval('1 2 + 3 * 4 5 - 6 7 + * -'))\n",
    "print(postfixEval('1 2 3 * + 4 5 - 6 * - 7 +'))"
   ]
  },
  {
   "cell_type": "code",
   "execution_count": 20,
   "id": "greater-might",
   "metadata": {},
   "outputs": [],
   "source": [
    "# 算式展开1\n",
    "# 2[abc]3[cd]ef -> abcabccdcdcdef\n",
    "# 3[a2[c]] -> accaccacc\n",
    "# 需要存储扩大系数和未完成算式，所以stack中应该放这两个东西，所以可以试试两个stack（当然stack中以list为元素也可以）\n",
    "def decodeString(S):\n",
    "    stack_num = []\n",
    "    stack_str = [''] # 只能这样，然后每次计算完了向stack_str并入\n",
    "    num = ''\n",
    "    \n",
    "    for i in S:\n",
    "        if i.isdigit():\n",
    "            num += i\n",
    "        elif i.isalpha():\n",
    "            stack_str[-1] += i\n",
    "        elif i == '[':\n",
    "            stack_num.append(int(num))\n",
    "            stack_str.append('')\n",
    "            num = ''\n",
    "        elif i == ']':\n",
    "            str_ = stack_str.pop()\n",
    "            stack_str[-1] += str_ * stack_num.pop()\n",
    "    return stack_str[0]\n",
    "\n",
    "# decodeString('2[b]3[ab]2[caaaa3[d]]')"
   ]
  },
  {
   "cell_type": "code",
   "execution_count": 21,
   "id": "announced-drill",
   "metadata": {},
   "outputs": [],
   "source": [
    "# 验证数学算式-括号排列-的正确性\n",
    "def isValid(s):\n",
    "    stack = []\n",
    "    for i in s:\n",
    "        if i in ['(','[','{']:\n",
    "            stack.append(i)\n",
    "        else:\n",
    "            if i == ')' and stack[-1] == '(' or i == ']' and stack[-1] == '[' or i == '}' and stack[-1] == '{':\n",
    "                ch = stack.pop()\n",
    "            else:\n",
    "                return False\n",
    "    if len(stack) != 0:\n",
    "        return False\n",
    "    return True"
   ]
  }
 ],
 "metadata": {
  "kernelspec": {
   "display_name": "Python 3",
   "language": "python",
   "name": "python3"
  },
  "language_info": {
   "codemirror_mode": {
    "name": "ipython",
    "version": 3
   },
   "file_extension": ".py",
   "mimetype": "text/x-python",
   "name": "python",
   "nbconvert_exporter": "python",
   "pygments_lexer": "ipython3",
   "version": "3.7.7"
  }
 },
 "nbformat": 4,
 "nbformat_minor": 5
}
