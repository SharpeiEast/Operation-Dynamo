{
 "cells": [
  {
   "cell_type": "markdown",
   "id": "solid-trustee",
   "metadata": {},
   "source": [
    "# 计算和推理"
   ]
  },
  {
   "cell_type": "code",
   "execution_count": 1,
   "id": "liable-match",
   "metadata": {},
   "outputs": [
    {
     "name": "stdout",
     "output_type": "stream",
     "text": [
      "14\n"
     ]
    }
   ],
   "source": [
    "# 摔鸡蛋问题\n",
    "# K个蛋，N层楼，求最少需要摔多少次，才能确定鸡蛋在哪层楼碎\n",
    "class Solution:\n",
    "    def superEggDrop(self, K, N):\n",
    "        # K egg, N floor;\n",
    "        dp = [[0 for _ in range(N + 1)] for _ in range(K + 1)]\n",
    "        for i in range(1, K + 1):\n",
    "            for step in range(1, N + 1):   # 摔的次数一定小于层数N\n",
    "                dp[i][step] = dp[i - 1][step - 1] + (dp[i][step - 1] + 1)\n",
    "                if dp[K][step] >= N:\n",
    "                    return step  \n",
    "        return 0\n",
    "SS = Solution()\n",
    "print(SS.superEggDrop(2,100))"
   ]
  },
  {
   "cell_type": "code",
   "execution_count": null,
   "id": "demonstrated-sullivan",
   "metadata": {},
   "outputs": [],
   "source": []
  },
  {
   "cell_type": "code",
   "execution_count": null,
   "id": "occupational-service",
   "metadata": {},
   "outputs": [],
   "source": []
  },
  {
   "cell_type": "code",
   "execution_count": null,
   "id": "superb-paint",
   "metadata": {},
   "outputs": [],
   "source": []
  },
  {
   "cell_type": "code",
   "execution_count": null,
   "id": "patent-court",
   "metadata": {},
   "outputs": [],
   "source": []
  },
  {
   "cell_type": "code",
   "execution_count": null,
   "id": "wrapped-exchange",
   "metadata": {},
   "outputs": [],
   "source": []
  },
  {
   "cell_type": "code",
   "execution_count": null,
   "id": "tested-plymouth",
   "metadata": {},
   "outputs": [],
   "source": []
  },
  {
   "cell_type": "code",
   "execution_count": null,
   "id": "olive-agriculture",
   "metadata": {},
   "outputs": [],
   "source": []
  }
 ],
 "metadata": {
  "kernelspec": {
   "display_name": "Python 3",
   "language": "python",
   "name": "python3"
  },
  "language_info": {
   "codemirror_mode": {
    "name": "ipython",
    "version": 3
   },
   "file_extension": ".py",
   "mimetype": "text/x-python",
   "name": "python",
   "nbconvert_exporter": "python",
   "pygments_lexer": "ipython3",
   "version": "3.7.7"
  }
 },
 "nbformat": 4,
 "nbformat_minor": 5
}
