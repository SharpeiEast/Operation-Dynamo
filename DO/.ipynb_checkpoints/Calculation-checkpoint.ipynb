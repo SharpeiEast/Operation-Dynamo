{
 "cells": [
  {
   "cell_type": "markdown",
   "id": "solid-trustee",
   "metadata": {},
   "source": [
    "# 计算和推理"
   ]
  },
  {
   "cell_type": "code",
   "execution_count": 1,
   "id": "liable-match",
   "metadata": {},
   "outputs": [
    {
     "name": "stdout",
     "output_type": "stream",
     "text": [
      "14\n"
     ]
    }
   ],
   "source": [
    "# 摔鸡蛋问题\n",
    "# K个蛋，N层楼，求最少需要摔多少次，才能确定鸡蛋在哪层楼碎\n",
    "class Solution:\n",
    "    def superEggDrop(self, K, N):\n",
    "        # K egg, N floor;\n",
    "        dp = [[0 for _ in range(N + 1)] for _ in range(K + 1)]\n",
    "        for i in range(1, K + 1):\n",
    "            for step in range(1, N + 1):   # 摔的次数一定小于层数N\n",
    "                dp[i][step] = dp[i - 1][step - 1] + (dp[i][step - 1] + 1)\n",
    "                if dp[K][step] >= N:\n",
    "                    return step  \n",
    "        return 0\n",
    "SS = Solution()\n",
    "print(SS.superEggDrop(2,100))"
   ]
  },
  {
   "cell_type": "code",
   "execution_count": 6,
   "id": "demonstrated-sullivan",
   "metadata": {},
   "outputs": [
    {
     "data": {
      "text/plain": [
       "216"
      ]
     },
     "execution_count": 6,
     "metadata": {},
     "output_type": "execute_result"
    }
   ],
   "source": [
    "# 分苹果问题\n",
    "# m个苹果放n个盘子，有多少种放法\n",
    "# 1）m < n 时等同于m个盘子，所以f(m,n) = f(m,m)\n",
    "# 2）m > n 时，思考是否有空盘子：至少有一个f(m,n) = f(m,n-1);没有空的f(m,n) = f(m-n,n)\n",
    "#    所以这里一共有f(m, n-1) + f(m-n , n)\n",
    "# 3) 边界条件 n = 1, f(m,n) = 1\n",
    "#            m = 0, f(m,n) = 1\n",
    "#            n = 0, f(m,n) = 0\n",
    "def solution(m,n):\n",
    "    if n <= 1:\n",
    "        return m\n",
    "    elif m <= 1:\n",
    "        return 1\n",
    "    else:\n",
    "        if n > m:\n",
    "            return solution(m, m)\n",
    "    return solution(m, n-1) + solution(m-n,n)\n",
    "\n",
    "# solution(12,15)"
   ]
  },
  {
   "cell_type": "code",
   "execution_count": 19,
   "id": "occupational-service",
   "metadata": {},
   "outputs": [
    {
     "data": {
      "text/plain": [
       "5"
      ]
     },
     "execution_count": 19,
     "metadata": {},
     "output_type": "execute_result"
    }
   ],
   "source": [
    "# 矩阵中的最长递增路径\n",
    "# 和最近0元素的那个矩阵问题不同，那道题只需要左上去右下，右下去左上跑两趟就行。\n",
    "# 本题需要先将矩阵在一维字典中排序，然后从最小的开始遍历其周围有没有小于自己的\n",
    "def longestIncreasingPath(mat):\n",
    "    a = len(mat)\n",
    "    dic = {}\n",
    "    nums_max = 0\n",
    "    if a == 0:\n",
    "        nums_max = 0\n",
    "    else:\n",
    "        for i in range(len(mat)):\n",
    "            for j in range(len(mat[0])):\n",
    "                dic[(i,j)] = mat[i][j]\n",
    "        v = dic.keys()\n",
    "        result = [[1 for i in range(len(mat[0]))] for j in range(len(mat))] \n",
    "        dic = sorted(dic.items(),key = lambda x:x[1])\n",
    "        for k in dic:\n",
    "            i = k[0][0]\n",
    "            j = k[0][1]\n",
    "            if (i+1,j) in v and mat[i][j] > mat[i+1][j]:\n",
    "                result[i][j] = max(result[i][j], result[i+1][j] + 1)\n",
    "            if (i,j+1) in v and mat[i][j] > mat[i][j+1]:\n",
    "                result[i][j] = max(result[i][j], result[i][j+1] + 1)\n",
    "            if (i-1,j) in v and mat[i][j] > mat[i-1][j]:\n",
    "                result[i][j] = max(result[i][j], result[i-1][j] + 1)\n",
    "            if (i,j-1) in v and mat[i][j] > mat[i][j-1]:\n",
    "                result[i][j] = max(result[i][j], result[i][j-1] + 1)\n",
    "            nums_max = max(result[i][j], nums_max)\n",
    "    return nums_max\n",
    "        \n",
    "# a11 = [[5,4,3],[6,1,2],[7,8,9]]\n",
    "# a12 = [[1,2,3],[4,5,6],[7,8,9]]\n",
    "# longestIncreasingPath(a12)"
   ]
  },
  {
   "cell_type": "code",
   "execution_count": 13,
   "id": "superb-paint",
   "metadata": {},
   "outputs": [
    {
     "name": "stdout",
     "output_type": "stream",
     "text": [
      "[[0, 0, 0], [0, 1, 0], [0, 0, 0]]\n"
     ]
    }
   ],
   "source": [
    "# 0-1矩阵寻找每个点到距离其最近的0元素的距离\n",
    "# DP左上去右下，右下去左上\n",
    "\n",
    "def updateMat(mat):\n",
    "    if not mat:\n",
    "        return [[]]\n",
    "    m, n =  len(mat), len(mat[0])\n",
    "    dp = [[m*n+1 if mat[i][j] != 0 else 0 for j in range(n)]for i in range(m)]\n",
    "    for i in range(m):\n",
    "        for j in range(n):\n",
    "            if i+1 < len(mat):\n",
    "                dp[i][j] = min(dp[i][j], dp[i+1][j] +1)\n",
    "            if j+1 < len(mat[0]):\n",
    "                dp[i][j] = min(dp[i][j], dp[i][j+1] +1)\n",
    "    for i in range(m-1,-1,-1):\n",
    "        for j in range(n-1, -1, -1):\n",
    "            if i-1 >= 0:\n",
    "                dp[i][j] = min(dp[i][j], dp[i-1][j]+1)\n",
    "            if j-1 >= 0:\n",
    "                dp[i][j] = min(dp[i][j], dp[i][j-1]+1)\n",
    "    return dp\n",
    "\n",
    "# matrix = [\n",
    "#     [0, 0, 0],\n",
    "#     [0, 1, 0],\n",
    "#     [0, 0, 0],\n",
    "# ]\n",
    "# matrix1 = [\n",
    "#     [0, 0, 0],\n",
    "#     [0, 1, 0],\n",
    "#     [1, 1, 1],\n",
    "# ]\n",
    "# print(updateMat(matrix))"
   ]
  },
  {
   "cell_type": "code",
   "execution_count": 1,
   "id": "patent-court",
   "metadata": {},
   "outputs": [
    {
     "name": "stdout",
     "output_type": "stream",
     "text": [
      "5\n",
      "4\n",
      "3\n",
      "2\n"
     ]
    }
   ],
   "source": [
    "for i in range(5,1,-1):\n",
    "    print(i)"
   ]
  },
  {
   "cell_type": "code",
   "execution_count": null,
   "id": "wrapped-exchange",
   "metadata": {},
   "outputs": [],
   "source": []
  },
  {
   "cell_type": "code",
   "execution_count": null,
   "id": "tested-plymouth",
   "metadata": {},
   "outputs": [],
   "source": []
  },
  {
   "cell_type": "code",
   "execution_count": null,
   "id": "olive-agriculture",
   "metadata": {},
   "outputs": [],
   "source": []
  }
 ],
 "metadata": {
  "kernelspec": {
   "display_name": "Python 3",
   "language": "python",
   "name": "python3"
  },
  "language_info": {
   "codemirror_mode": {
    "name": "ipython",
    "version": 3
   },
   "file_extension": ".py",
   "mimetype": "text/x-python",
   "name": "python",
   "nbconvert_exporter": "python",
   "pygments_lexer": "ipython3",
   "version": "3.7.7"
  }
 },
 "nbformat": 4,
 "nbformat_minor": 5
}
