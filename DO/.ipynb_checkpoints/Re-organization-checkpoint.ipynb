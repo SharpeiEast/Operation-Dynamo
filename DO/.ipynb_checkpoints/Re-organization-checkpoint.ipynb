{
 "cells": [
  {
   "cell_type": "markdown",
   "id": "differential-signature",
   "metadata": {},
   "source": [
    "# 合并重组"
   ]
  },
  {
   "cell_type": "code",
   "execution_count": 2,
   "id": "published-premises",
   "metadata": {},
   "outputs": [],
   "source": [
    "# 九宫图\n",
    "# \n",
    "\n",
    "def magic_square(n):\n",
    "    magic = [[0] * (n) for i in range(n)]\n",
    "    row = n - 1\n",
    "    col = n//2\n",
    "    magic[row][col] = 1\n",
    "    \n",
    "    for i in range(2, n * n + 1):\n",
    "        try_row = (row + 1) % n\n",
    "        try_col = (col + 1) % n\n",
    "\n",
    "        if (magic[try_row][try_col] == 0):\n",
    "            row = try_row\n",
    "            col = try_col\n",
    "        else:\n",
    "            row = (row - 1 + n) % n\n",
    "        \n",
    "        magic[row][col] = i\n",
    "    \n",
    "    for x in magic:\n",
    "        print(x, sep=\" \")\n",
    "# magic_square(5)\n",
    "# magic_square(3)"
   ]
  },
  {
   "cell_type": "code",
   "execution_count": 3,
   "id": "victorian-spectacular",
   "metadata": {},
   "outputs": [
    {
     "name": "stdout",
     "output_type": "stream",
     "text": [
      "[0, 1, 2, 3, 4]\n",
      "[5, 6, 7, 8, 9]\n",
      "[10, 11, 12, 13, 14]\n",
      "[15, 16, 17, 18, 19]\n",
      "[20, 21, 22, 23, 24]\n",
      "[20, 15, 10, 5, 0]\n",
      "[21, 16, 11, 6, 1]\n",
      "[22, 17, 12, 7, 2]\n",
      "[23, 18, 13, 8, 3]\n",
      "[24, 19, 14, 9, 4]\n"
     ]
    }
   ],
   "source": [
    "# 旋转数组\n",
    "\n",
    "\n",
    "def rotate_in_place(matrix):\n",
    "    for x in matrix:\n",
    "        print(x, sep=' ') # 打印原来的\n",
    "        \n",
    "    n = len(matrix)\n",
    "    for layer in range(n//2):\n",
    "        first = layer\n",
    "        last = n - 1 - layer\n",
    "        for i in range(first, last):\n",
    "            offset = i - first\n",
    "            top = matrix[first][i]  # save top\n",
    "            \n",
    "            ## left->top\n",
    "            matrix[first][i] = matrix[last-offset][first]\n",
    "            \n",
    "            ##bottom -> left\n",
    "            matrix[last-offset][first] = matrix[last][last - offset];\n",
    "\n",
    "            # right -> bottom\n",
    "            matrix[last][last - offset] = matrix[i][last];\n",
    "\n",
    "            # top -> right\n",
    "            matrix[i][last] = top;  # right <- saved top            \n",
    "            \n",
    "    for x in matrix:\n",
    "        print(x, sep=\" \")\n",
    "        \n",
    "# matrix = [[i*5+j for j in range(5)] for i in range(5)]\n",
    "# rotate_in_place(matrix)"
   ]
  },
  {
   "cell_type": "code",
   "execution_count": 6,
   "id": "tested-cambodia",
   "metadata": {},
   "outputs": [
    {
     "data": {
      "text/plain": [
       "[1, 2, 3, 4, 5, 6, 7, 8]"
      ]
     },
     "execution_count": 6,
     "metadata": {},
     "output_type": "execute_result"
    }
   ],
   "source": [
    "# 二分逆序，链表也会用\n",
    "def binary_reverse(nums):\n",
    "    if len(nums) <= 1:\n",
    "        return nums\n",
    "    mid = len(nums) // 2\n",
    "    left = nums[:mid]\n",
    "    right = nums[mid:]\n",
    "    return binary_reverse(right) + binary_reverse(left)\n",
    "# binary_reverse([1,2,3,4,5,6,7])\n",
    "# 二分奇偶\n",
    "def binary_odd_even(nums):\n",
    "    if len(nums) <= 2:\n",
    "        return nums\n",
    "    mid = len(nums) // 2\n",
    "    mid2 = mid // 2\n",
    "    left = nums[:mid2] + nums[mid:mid + mid2]\n",
    "    right = nums[mid2:mid] + nums[mid+mid2:]\n",
    "    return binary_odd_even(left) + binary_odd_even(right)\n",
    "# 归并排序\n",
    "def merge_sort(nums):\n",
    "    if len(nums) < 2:\n",
    "        return nums\n",
    "    mid = len(nums) // 2\n",
    "    left = nums[:mid]\n",
    "    right = nums[mid:]\n",
    "    return merge(merge_sort(left), merge_sort(right))\n",
    "def merge(left, right):\n",
    "    result = []\n",
    "    while left and right:\n",
    "        if left[0] < right[0]:\n",
    "            result.append(left.pop(0))\n",
    "        else:\n",
    "            result.append(right.pop(0))\n",
    "    while left:\n",
    "        result.append(left.pop(0))\n",
    "    while right:\n",
    "        result.append(right.pop(0))\n",
    "    return result\n",
    "# merge_sort([2,4,6,7,1,3,5,8])"
   ]
  },
  {
   "cell_type": "markdown",
   "id": "purple-surge",
   "metadata": {},
   "source": [
    "# 两个乱序的list求交集，只能先排序，然后双指针法"
   ]
  },
  {
   "cell_type": "code",
   "execution_count": 7,
   "id": "judicial-international",
   "metadata": {},
   "outputs": [
    {
     "data": {
      "text/plain": [
       "[1, 2, 3, 4, 5, 6, 7, 8]"
      ]
     },
     "execution_count": 7,
     "metadata": {},
     "output_type": "execute_result"
    }
   ],
   "source": [
    "# 快排\n",
    "def quick_sort(nums):\n",
    "    if len(nums) < 2:\n",
    "        return nums\n",
    "    mid = len(nums) // 2\n",
    "    mid_va = nums.pop(mid)\n",
    "    left = []\n",
    "    right = []\n",
    "    for i in nums:\n",
    "        if i < mid_va:  # 这个地方小心，是中值，不是中间值的id\n",
    "            left.append(i)\n",
    "        else:\n",
    "            right.append(i)\n",
    "    return quick_sort(left) + [mid_va] + quick_sort(right)\n",
    "\n",
    "quick_sort([2,4,6,7,1,3,5,8])"
   ]
  },
  {
   "cell_type": "code",
   "execution_count": 8,
   "id": "fiscal-issue",
   "metadata": {},
   "outputs": [
    {
     "data": {
      "text/plain": [
       "4"
      ]
     },
     "execution_count": 8,
     "metadata": {},
     "output_type": "execute_result"
    }
   ],
   "source": [
    "# 确认乱序数组中最后一个数字的大小排名\n",
    "def partition(nums,l,r):\n",
    "    low = l\n",
    "    while l < r:\n",
    "        if nums[l] < nums[r]:\n",
    "            nums[l], nums[low] = nums[low], nums[l]\n",
    "            low += 1\n",
    "        l += 1\n",
    "    nums[low], nums[r] = nums[r], nums[low]\n",
    "    return low  # 是id不是排名，也就是排名需要id+1\n",
    "\n",
    "# 乱序数组找到第K大的数值\n",
    "def findKthsmallest(nums, K):\n",
    "    if len(nums) < K:\n",
    "        return -1\n",
    "    pos = partition(nums, 0, len(nums) - 1)\n",
    "    if pos + 1 < K:\n",
    "        return findKthsmallest(nums[pos + 1:], K - pos - 1)\n",
    "    elif pos + 1 > K:\n",
    "        return findKthsmallest(nums[:pos], K)\n",
    "    else:\n",
    "        return nums[pos]\n",
    "\n",
    "    \n",
    "findKthsmallest([0,1,2,3,4,5,6,7,8],5)"
   ]
  },
  {
   "cell_type": "markdown",
   "id": "severe-supervisor",
   "metadata": {},
   "source": [
    "### 如果有大量重复数组，想找某个target的起点和终点，在nums[mid] == target的时候更新right = mid可以找到第一个target，而使用left = mid可以找到最后一个target\n",
    "### 两个排好序的数组，只有一个地方不一样，那么可以采用二分法找到\n",
    "### 最近临点只能用排序解决，没有更快的\n",
    "### 供暖设备问题，先要把供暖设备排序，然后每个房子找它左边和右边最近的"
   ]
  },
  {
   "cell_type": "code",
   "execution_count": 9,
   "id": "damaged-marathon",
   "metadata": {},
   "outputs": [
    {
     "data": {
      "text/plain": [
       "4"
      ]
     },
     "execution_count": 9,
     "metadata": {},
     "output_type": "execute_result"
    }
   ],
   "source": [
    "# 找两个有序数拼起来之后的中值\n",
    "def find_two_mid(nums1, nums2):\n",
    "    n1, n2 = len(nums1), len(nums2)\n",
    "    if n1 > n2:\n",
    "        return find_two_mid(nums2, nums1)\n",
    "    k = (n1 + n2 + 1) // 2 # 这个地方多加了1，所以之后c1取左边两个最大值，c2取右边两个最小值\n",
    "    left, right = 0, n1\n",
    "    while left < right: # 用left去逼近\n",
    "        m1 = left + (right - left) // 2\n",
    "        m2 = k - m1\n",
    "        if nums1[m1] < nums2[m2-1]:  # 这里是m2 - 1\n",
    "            left = m1 + 1  # 这里是+1\n",
    "        else:\n",
    "            right = m1\n",
    "    m1 = left\n",
    "    m2 = k - m1\n",
    "    c1 = max(nums1[m1-1] if m1>0 else float('-inf'), nums2[m2-1] if m2 > 0 else float('-inf'))\n",
    "    if (n1 + n2) % 2 == 1:\n",
    "        return c1\n",
    "    c2 = min(nums[m1] if m1 < n1 else float('inf'), nums2[m2] if m2 < n2 else float('inf'))\n",
    "    return (c1 + c2)/2\n",
    "find_two_mid([1,2,3,4,5],[3,4,5,6])"
   ]
  }
 ],
 "metadata": {
  "kernelspec": {
   "display_name": "Python 3",
   "language": "python",
   "name": "python3"
  },
  "language_info": {
   "codemirror_mode": {
    "name": "ipython",
    "version": 3
   },
   "file_extension": ".py",
   "mimetype": "text/x-python",
   "name": "python",
   "nbconvert_exporter": "python",
   "pygments_lexer": "ipython3",
   "version": "3.7.7"
  }
 },
 "nbformat": 4,
 "nbformat_minor": 5
}
