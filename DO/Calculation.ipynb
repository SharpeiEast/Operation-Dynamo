{
 "cells": [
  {
   "cell_type": "markdown",
   "id": "solid-trustee",
   "metadata": {},
   "source": [
    "# 计算和推理"
   ]
  },
  {
   "cell_type": "code",
   "execution_count": 1,
   "id": "liable-match",
   "metadata": {},
   "outputs": [
    {
     "name": "stdout",
     "output_type": "stream",
     "text": [
      "14\n"
     ]
    }
   ],
   "source": [
    "# 摔鸡蛋问题\n",
    "# K个蛋，N层楼，求最少需要摔多少次，才能确定鸡蛋在哪层楼碎\n",
    "class Solution:\n",
    "    def superEggDrop(self, K, N):\n",
    "        # K egg, N floor;\n",
    "        dp = [[0 for _ in range(N + 1)] for _ in range(K + 1)]\n",
    "        for i in range(1, K + 1):\n",
    "            for step in range(1, N + 1):   # 摔的次数一定小于层数N\n",
    "                dp[i][step] = dp[i - 1][step - 1] + (dp[i][step - 1] + 1)\n",
    "                if dp[K][step] >= N:\n",
    "                    return step  \n",
    "        return 0\n",
    "SS = Solution()\n",
    "print(SS.superEggDrop(2,100))"
   ]
  },
  {
   "cell_type": "code",
   "execution_count": 6,
   "id": "demonstrated-sullivan",
   "metadata": {},
   "outputs": [
    {
     "data": {
      "text/plain": [
       "216"
      ]
     },
     "execution_count": 6,
     "metadata": {},
     "output_type": "execute_result"
    }
   ],
   "source": [
    "# 分苹果问题\n",
    "# m个苹果放n个盘子，有多少种放法\n",
    "# 1）m < n 时等同于m个盘子，所以f(m,n) = f(m,m)\n",
    "# 2）m > n 时，思考是否有空盘子：至少有一个f(m,n) = f(m,n-1);没有空的f(m,n) = f(m-n,n)\n",
    "#    所以这里一共有f(m, n-1) + f(m-n , n)\n",
    "# 3) 边界条件 n = 1, f(m,n) = 1\n",
    "#            m = 0, f(m,n) = 1\n",
    "#            n = 0, f(m,n) = 0\n",
    "def solution(m,n):\n",
    "    if n <= 1:\n",
    "        return m\n",
    "    elif m <= 1:\n",
    "        return 1\n",
    "    else:\n",
    "        if n > m:\n",
    "            return solution(m, m)\n",
    "    return solution(m, n-1) + solution(m-n,n)\n",
    "\n",
    "# solution(12,15)"
   ]
  },
  {
   "cell_type": "code",
   "execution_count": 19,
   "id": "occupational-service",
   "metadata": {},
   "outputs": [
    {
     "data": {
      "text/plain": [
       "5"
      ]
     },
     "execution_count": 19,
     "metadata": {},
     "output_type": "execute_result"
    }
   ],
   "source": [
    "# 矩阵中的最长递增路径\n",
    "# 和最近0元素的那个矩阵问题不同，那道题只需要左上去右下，右下去左上跑两趟就行。\n",
    "# 本题需要先将矩阵在一维字典中排序，然后从最小的开始遍历其周围有没有小于自己的\n",
    "def longestIncreasingPath(mat):\n",
    "    a = len(mat)\n",
    "    dic = {}\n",
    "    nums_max = 0\n",
    "    if a == 0:\n",
    "        nums_max = 0\n",
    "    else:\n",
    "        for i in range(len(mat)):\n",
    "            for j in range(len(mat[0])):\n",
    "                dic[(i,j)] = mat[i][j]\n",
    "        v = dic.keys()\n",
    "        result = [[1 for i in range(len(mat[0]))] for j in range(len(mat))] \n",
    "        dic = sorted(dic.items(),key = lambda x:x[1])\n",
    "        for k in dic:\n",
    "            i = k[0][0]\n",
    "            j = k[0][1]\n",
    "            if (i+1,j) in v and mat[i][j] > mat[i+1][j]:\n",
    "                result[i][j] = max(result[i][j], result[i+1][j] + 1)\n",
    "            if (i,j+1) in v and mat[i][j] > mat[i][j+1]:\n",
    "                result[i][j] = max(result[i][j], result[i][j+1] + 1)\n",
    "            if (i-1,j) in v and mat[i][j] > mat[i-1][j]:\n",
    "                result[i][j] = max(result[i][j], result[i-1][j] + 1)\n",
    "            if (i,j-1) in v and mat[i][j] > mat[i][j-1]:\n",
    "                result[i][j] = max(result[i][j], result[i][j-1] + 1)\n",
    "            nums_max = max(result[i][j], nums_max)\n",
    "    return nums_max\n",
    "        \n",
    "# a11 = [[5,4,3],[6,1,2],[7,8,9]]\n",
    "# a12 = [[1,2,3],[4,5,6],[7,8,9]]\n",
    "# longestIncreasingPath(a12)"
   ]
  },
  {
   "cell_type": "code",
   "execution_count": 13,
   "id": "superb-paint",
   "metadata": {},
   "outputs": [
    {
     "name": "stdout",
     "output_type": "stream",
     "text": [
      "[[0, 0, 0], [0, 1, 0], [0, 0, 0]]\n"
     ]
    }
   ],
   "source": [
    "# 0-1矩阵寻找每个点到距离其最近的0元素的距离\n",
    "# DP左上去右下，右下去左上\n",
    "\n",
    "def updateMat(mat):\n",
    "    if not mat:\n",
    "        return [[]]\n",
    "    m, n =  len(mat), len(mat[0])\n",
    "    dp = [[m*n+1 if mat[i][j] != 0 else 0 for j in range(n)]for i in range(m)]\n",
    "    for i in range(m):\n",
    "        for j in range(n):\n",
    "            if i+1 < len(mat):\n",
    "                dp[i][j] = min(dp[i][j], dp[i+1][j] +1)\n",
    "            if j+1 < len(mat[0]):\n",
    "                dp[i][j] = min(dp[i][j], dp[i][j+1] +1)\n",
    "    for i in range(m-1,-1,-1):\n",
    "        for j in range(n-1, -1, -1):\n",
    "            if i-1 >= 0:\n",
    "                dp[i][j] = min(dp[i][j], dp[i-1][j]+1)\n",
    "            if j-1 >= 0:\n",
    "                dp[i][j] = min(dp[i][j], dp[i][j-1]+1)\n",
    "    return dp\n",
    "\n",
    "# matrix = [\n",
    "#     [0, 0, 0],\n",
    "#     [0, 1, 0],\n",
    "#     [0, 0, 0],\n",
    "# ]\n",
    "# matrix1 = [\n",
    "#     [0, 0, 0],\n",
    "#     [0, 1, 0],\n",
    "#     [1, 1, 1],\n",
    "# ]\n",
    "# print(updateMat(matrix))"
   ]
  },
  {
   "cell_type": "code",
   "execution_count": 1,
   "id": "patent-court",
   "metadata": {},
   "outputs": [
    {
     "name": "stdout",
     "output_type": "stream",
     "text": [
      "5\n",
      "4\n",
      "3\n",
      "2\n"
     ]
    }
   ],
   "source": [
    "# 换零钱，有多种面值的硬币可以无限使用，凑足给定面额的钱，求最少需要的硬币数\n",
    "def CoinCharge(coins, amount):\n",
    "    dp = {}\n",
    "    dp[0] = 0\n",
    "    for i in range(1, amount + 1):  # 初始化dp数组，每个元素为不可能出现的大数值\n",
    "        dp[i] = amount + 1\n",
    "    for i in range(1, amount + 1):\n",
    "        for coin in coins:\n",
    "            if i > coin:\n",
    "                dp[i] = min(dp[i], dp[i-coin]+1)\n",
    "    if dp[amount] == amount + 1:  #这是那种场景？？可能是coin数组为空\n",
    "        return -1\n",
    "    else:\n",
    "        return dp[amount]              "
   ]
  },
  {
   "cell_type": "code",
   "execution_count": 13,
   "id": "wrapped-exchange",
   "metadata": {},
   "outputs": [
    {
     "data": {
      "text/plain": [
       "11"
      ]
     },
     "execution_count": 13,
     "metadata": {},
     "output_type": "execute_result"
    }
   ],
   "source": [
    "# 打劫问题，数组表示每间屋子的价值，不能连续打劫相邻的两间屋子，求可以得到的最大价值\n",
    "def rob(nums):\n",
    "    n = len(nums)\n",
    "    dp = [[0] * 2 for _ in range(n)] #分别存储打劫和不打劫两种情况下会获得的最大收益\n",
    "    dp[0][0], dp[0][1] = 0, nums[0]\n",
    "    for i in range(1, n):\n",
    "        dp[i][0] = max(dp[i-1][0], dp[i-1][1])\n",
    "        dp[i][1] = max(dp[i-1][0] + nums[i], dp[i-1][1])\n",
    "    return max(dp[n-1][0], dp[n-1][1])\n",
    "\n",
    "# print(rob([2,7,9,3,1]))\n",
    "# 打劫问题（房间环形分布，意味着打劫第一间就不能打劫最后一间）\n",
    "# 那么相当于同样的问题，只不过比较一下考虑抢劫（1～n-1）这个范围还是（2～n）\n",
    "def rob_circle(nums):\n",
    "    n = len(nums)\n",
    "    result1 = rob(nums[1:])\n",
    "    result2 = rob(nums[:n-1])\n",
    "    return max(result1, result2)\n",
    "# rob_circle([2,7,9,3,1])"
   ]
  },
  {
   "cell_type": "code",
   "execution_count": null,
   "id": "tested-plymouth",
   "metadata": {},
   "outputs": [],
   "source": [
    "# 贴瓷砖问题，递推公式为f(n) = f(n-1) + f(n-2)，详见笔记本 "
   ]
  },
  {
   "cell_type": "code",
   "execution_count": 16,
   "id": "olive-agriculture",
   "metadata": {},
   "outputs": [],
   "source": [
    "# 最少过路费问题\n",
    "# 有一些关卡，或者台阶，总之一些通过需要付出代价的东西，每次可以移动到相邻的，或者隔一个的位置，求通过这个关卡序列需要的最少代价\n",
    "# 第一次可以从第一个或者第二个关卡出发，最后一个关卡也可以直接越过\n",
    "# 其实就是最小打劫问题\n",
    "def minCostClumbing(nums):\n",
    "    n = len(nums)\n",
    "    dp = [[max(nums) + 1] * 2 for _ in range(n)]\n",
    "    dp[0][0], dp[0][1] = 0, nums[0]\n",
    "    for i in range(1,n):\n",
    "        dp[i][0] = min(dp[i-1][1], dp[i][0])\n",
    "        dp[i][1] = min(dp[i-1][1] + nums[i], dp[i-1][0] + nums[i], dp[i][1])\n",
    "    print(dp)\n",
    "    return min(dp[n-1])\n",
    "\n",
    "# cost = [1, 100, 1, 1, 1, 100, 1, 1, 100, 1]\n",
    "# minCostClumbing(cost)"
   ]
  },
  {
   "cell_type": "code",
   "execution_count": 21,
   "id": "acute-conversation",
   "metadata": {},
   "outputs": [
    {
     "name": "stdout",
     "output_type": "stream",
     "text": [
      "3\n"
     ]
    }
   ],
   "source": [
    "# 解码短信，26个字母分别对应1～26个数字进行编码，给出一个数字，求可以通过多少种字母组合方式得到，如12可能来自AB或者L\n",
    "# 如果不加限制，本题就还是斐波那契数列问题，f(n) = f(n-1) + f(n-2)\n",
    "# 但是并不是所有两位数都能对应一个字母，超过26或者01，02这种以0开头则不行\n",
    "\n",
    "def numDecoding(s):\n",
    "    if s =='' or s[0] == '0':\n",
    "        return 0\n",
    "    dp = [1,1]\n",
    "    for i in range(2,len(s)+1):\n",
    "        result = 0\n",
    "        if 10 <= int(s[i-2:i]) <= 26:\n",
    "            result += dp[i-2]\n",
    "        if s[i-1] != '0':\n",
    "            result += dp[i-1]\n",
    "        dp.append(result)\n",
    "    return dp[len(s)]\n",
    "# print(numDecoding('123'))"
   ]
  },
  {
   "cell_type": "code",
   "execution_count": 22,
   "id": "perceived-server",
   "metadata": {},
   "outputs": [
    {
     "data": {
      "text/plain": [
       "2"
      ]
     },
     "execution_count": 22,
     "metadata": {},
     "output_type": "execute_result"
    }
   ],
   "source": [
    "# 二叉搜索树的构建方式，卡特兰数问题\n",
    "# 每个数i都可能做根结点，那么它的左树有i-1个结点，右树有n-i个结点\n",
    "# 那么左数有dp[i-1]种形状，右树有dp[n-i]种形状，i结点为根所以一共应该有dp[i-1] * dp[n-i]种形状\n",
    "\n",
    "def numTrees(n):\n",
    "    if n < 2:\n",
    "        return n\n",
    "    sol = [0] * (n+1)\n",
    "    sol[0], sol[1] = 1,1\n",
    "    for i in range(2, n+1):\n",
    "        for left in range(0,i):\n",
    "            sol[i] += sol[left] * sol[i-left-1]\n",
    "            \n",
    "    return sol[n]\n",
    "\n",
    "numTrees(2)   "
   ]
  },
  {
   "cell_type": "code",
   "execution_count": 39,
   "id": "banner-pontiac",
   "metadata": {},
   "outputs": [
    {
     "name": "stdout",
     "output_type": "stream",
     "text": [
      "1 2 2 2\n",
      "2 3 6 3\n",
      "3 4 24 4\n",
      "4 5 120 5\n",
      "5 -6 -6 -720\n",
      "6 -7 5040 -7\n",
      "5040\n"
     ]
    }
   ],
   "source": [
    "# 找出数组中乘积最大的子串（要连续的，不是挑数），返回这个乘积，由于存在负数乘以正数从而咸鱼翻身的可能，所以要同时记录最小值和最大值\n",
    "\n",
    "def maxProduct(nums):\n",
    "    if len(nums) == 0:\n",
    "        return 0\n",
    "    maximum, minimum, result = nums[0], nums[0], nums[0]\n",
    "    for i in range(1, len(nums)):\n",
    "        maximum, minimum = max(minimum * nums[i], maximum * nums[i], nums[i]), \\\n",
    "                           min(minimum * nums[i], maximum * nums[i], nums[i])\n",
    "        \n",
    "#         maximum = max(minimum * nums[i], maximum * nums[i], nums[i]) 不能这样写，否则maximum就会先于minimum被改变\n",
    "#         minimum = min(minimum * nums[i], maximum * nums[i], nums[i]) 这样计算minimum的时候用的就是新maximum了\n",
    "        print(i,nums[i],maximum,minimum)\n",
    "        result = max(result, maximum)\n",
    "    return result\n",
    "\n",
    "print(maxProduct([1,2,3,4,5,-6,-7]))"
   ]
  }
 ],
 "metadata": {
  "kernelspec": {
   "display_name": "Python 3",
   "language": "python",
   "name": "python3"
  },
  "language_info": {
   "codemirror_mode": {
    "name": "ipython",
    "version": 3
   },
   "file_extension": ".py",
   "mimetype": "text/x-python",
   "name": "python",
   "nbconvert_exporter": "python",
   "pygments_lexer": "ipython3",
   "version": "3.7.7"
  }
 },
 "nbformat": 4,
 "nbformat_minor": 5
}
