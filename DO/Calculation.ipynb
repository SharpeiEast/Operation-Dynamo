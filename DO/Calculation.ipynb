{
 "cells": [
  {
   "cell_type": "markdown",
   "id": "solid-trustee",
   "metadata": {},
   "source": [
    "# 计算和推理"
   ]
  },
  {
   "cell_type": "code",
   "execution_count": 1,
   "id": "liable-match",
   "metadata": {},
   "outputs": [
    {
     "name": "stdout",
     "output_type": "stream",
     "text": [
      "14\n"
     ]
    }
   ],
   "source": [
    "# 摔鸡蛋问题\n",
    "# K个蛋，N层楼，求最少需要摔多少次，才能确定鸡蛋在哪层楼碎\n",
    "class Solution:\n",
    "    def superEggDrop(self, K, N):\n",
    "        # K egg, N floor;\n",
    "        dp = [[0 for _ in range(N + 1)] for _ in range(K + 1)]\n",
    "        for i in range(1, K + 1):\n",
    "            for step in range(1, N + 1):   # 摔的次数一定小于层数N\n",
    "                dp[i][step] = dp[i - 1][step - 1] + (dp[i][step - 1] + 1)\n",
    "                if dp[K][step] >= N:\n",
    "                    return step  \n",
    "        return 0\n",
    "SS = Solution()\n",
    "print(SS.superEggDrop(2,100))"
   ]
  },
  {
   "cell_type": "code",
   "execution_count": 6,
   "id": "demonstrated-sullivan",
   "metadata": {},
   "outputs": [
    {
     "data": {
      "text/plain": [
       "216"
      ]
     },
     "execution_count": 6,
     "metadata": {},
     "output_type": "execute_result"
    }
   ],
   "source": [
    "# 分苹果问题\n",
    "# m个苹果放n个盘子，有多少种放法\n",
    "# 1）m < n 时等同于m个盘子，所以f(m,n) = f(m,m)\n",
    "# 2）m > n 时，思考是否有空盘子：至少有一个f(m,n) = f(m,n-1);没有空的f(m,n) = f(m-n,n)\n",
    "#    所以这里一共有f(m, n-1) + f(m-n , n)\n",
    "# 3) 边界条件 n = 1, f(m,n) = 1\n",
    "#            m = 0, f(m,n) = 1\n",
    "#            n = 0, f(m,n) = 0\n",
    "def solution(m,n):\n",
    "    if n <= 1:\n",
    "        return m\n",
    "    elif m <= 1:\n",
    "        return 1\n",
    "    else:\n",
    "        if n > m:\n",
    "            return solution(m, m)\n",
    "    return solution(m, n-1) + solution(m-n,n)\n",
    "\n",
    "# solution(12,15)"
   ]
  },
  {
   "cell_type": "code",
   "execution_count": 19,
   "id": "occupational-service",
   "metadata": {},
   "outputs": [
    {
     "data": {
      "text/plain": [
       "5"
      ]
     },
     "execution_count": 19,
     "metadata": {},
     "output_type": "execute_result"
    }
   ],
   "source": [
    "# 矩阵中的最长递增路径\n",
    "# 和最近0元素的那个矩阵问题不同，那道题只需要左上去右下，右下去左上跑两趟就行。\n",
    "# 本题需要先将矩阵在一维字典中排序，然后从最小的开始遍历其周围有没有小于自己的\n",
    "def longestIncreasingPath(mat):\n",
    "    a = len(mat)\n",
    "    dic = {}\n",
    "    nums_max = 0\n",
    "    if a == 0:\n",
    "        nums_max = 0\n",
    "    else:\n",
    "        for i in range(len(mat)):\n",
    "            for j in range(len(mat[0])):\n",
    "                dic[(i,j)] = mat[i][j]\n",
    "        v = dic.keys()\n",
    "        result = [[1 for i in range(len(mat[0]))] for j in range(len(mat))] \n",
    "        dic = sorted(dic.items(),key = lambda x:x[1])\n",
    "        for k in dic:\n",
    "            i = k[0][0]\n",
    "            j = k[0][1]\n",
    "            if (i+1,j) in v and mat[i][j] > mat[i+1][j]:\n",
    "                result[i][j] = max(result[i][j], result[i+1][j] + 1)\n",
    "            if (i,j+1) in v and mat[i][j] > mat[i][j+1]:\n",
    "                result[i][j] = max(result[i][j], result[i][j+1] + 1)\n",
    "            if (i-1,j) in v and mat[i][j] > mat[i-1][j]:\n",
    "                result[i][j] = max(result[i][j], result[i-1][j] + 1)\n",
    "            if (i,j-1) in v and mat[i][j] > mat[i][j-1]:\n",
    "                result[i][j] = max(result[i][j], result[i][j-1] + 1)\n",
    "            nums_max = max(result[i][j], nums_max)\n",
    "    return nums_max\n",
    "        \n",
    "# a11 = [[5,4,3],[6,1,2],[7,8,9]]\n",
    "# a12 = [[1,2,3],[4,5,6],[7,8,9]]\n",
    "# longestIncreasingPath(a12)"
   ]
  },
  {
   "cell_type": "code",
   "execution_count": 13,
   "id": "superb-paint",
   "metadata": {},
   "outputs": [
    {
     "name": "stdout",
     "output_type": "stream",
     "text": [
      "[[0, 0, 0], [0, 1, 0], [0, 0, 0]]\n"
     ]
    }
   ],
   "source": [
    "# 0-1矩阵寻找每个点到距离其最近的0元素的距离\n",
    "# DP左上去右下，右下去左上\n",
    "\n",
    "def updateMat(mat):\n",
    "    if not mat:\n",
    "        return [[]]\n",
    "    m, n =  len(mat), len(mat[0])\n",
    "    dp = [[m*n+1 if mat[i][j] != 0 else 0 for j in range(n)]for i in range(m)]\n",
    "    for i in range(m):\n",
    "        for j in range(n):\n",
    "            if i+1 < len(mat):\n",
    "                dp[i][j] = min(dp[i][j], dp[i+1][j] +1)\n",
    "            if j+1 < len(mat[0]):\n",
    "                dp[i][j] = min(dp[i][j], dp[i][j+1] +1)\n",
    "    for i in range(m-1,-1,-1):\n",
    "        for j in range(n-1, -1, -1):\n",
    "            if i-1 >= 0:\n",
    "                dp[i][j] = min(dp[i][j], dp[i-1][j]+1)\n",
    "            if j-1 >= 0:\n",
    "                dp[i][j] = min(dp[i][j], dp[i][j-1]+1)\n",
    "    return dp\n",
    "\n",
    "# matrix = [\n",
    "#     [0, 0, 0],\n",
    "#     [0, 1, 0],\n",
    "#     [0, 0, 0],\n",
    "# ]\n",
    "# matrix1 = [\n",
    "#     [0, 0, 0],\n",
    "#     [0, 1, 0],\n",
    "#     [1, 1, 1],\n",
    "# ]\n",
    "# print(updateMat(matrix))"
   ]
  },
  {
   "cell_type": "code",
   "execution_count": 1,
   "id": "patent-court",
   "metadata": {},
   "outputs": [
    {
     "name": "stdout",
     "output_type": "stream",
     "text": [
      "5\n",
      "4\n",
      "3\n",
      "2\n"
     ]
    }
   ],
   "source": [
    "# 换零钱，有多种面值的硬币可以无限使用，凑足给定面额的钱，求最少需要的硬币数\n",
    "def CoinCharge(coins, amount):\n",
    "    dp = {}\n",
    "    dp[0] = 0\n",
    "    for i in range(1, amount + 1):  # 初始化dp数组，每个元素为不可能出现的大数值\n",
    "        dp[i] = amount + 1\n",
    "    for i in range(1, amount + 1):\n",
    "        for coin in coins:\n",
    "            if i > coin:\n",
    "                dp[i] = min(dp[i], dp[i-coin]+1)\n",
    "    if dp[amount] == amount + 1:  #这是那种场景？？可能是coin数组为空\n",
    "        return -1\n",
    "    else:\n",
    "        return dp[amount]              "
   ]
  },
  {
   "cell_type": "code",
   "execution_count": 13,
   "id": "wrapped-exchange",
   "metadata": {},
   "outputs": [
    {
     "data": {
      "text/plain": [
       "11"
      ]
     },
     "execution_count": 13,
     "metadata": {},
     "output_type": "execute_result"
    }
   ],
   "source": [
    "# 打劫问题，数组表示每间屋子的价值，不能连续打劫相邻的两间屋子，求可以得到的最大价值\n",
    "def rob(nums):\n",
    "    n = len(nums)\n",
    "    dp = [[0] * 2 for _ in range(n)] #分别存储打劫和不打劫两种情况下会获得的最大收益\n",
    "    dp[0][0], dp[0][1] = 0, nums[0]\n",
    "    for i in range(1, n):\n",
    "        dp[i][0] = max(dp[i-1][0], dp[i-1][1])\n",
    "        dp[i][1] = max(dp[i-1][0] + nums[i], dp[i-1][1])\n",
    "    return max(dp[n-1][0], dp[n-1][1])\n",
    "\n",
    "# print(rob([2,7,9,3,1]))\n",
    "# 打劫问题（房间环形分布，意味着打劫第一间就不能打劫最后一间）\n",
    "# 那么相当于同样的问题，只不过比较一下考虑抢劫（1～n-1）这个范围还是（2～n）\n",
    "def rob_circle(nums):\n",
    "    n = len(nums)\n",
    "    result1 = rob(nums[1:])\n",
    "    result2 = rob(nums[:n-1])\n",
    "    return max(result1, result2)\n",
    "# rob_circle([2,7,9,3,1])"
   ]
  },
  {
   "cell_type": "code",
   "execution_count": null,
   "id": "tested-plymouth",
   "metadata": {},
   "outputs": [],
   "source": [
    "# 贴瓷砖问题，递推公式为f(n) = f(n-1) + f(n-2)，详见笔记本 "
   ]
  },
  {
   "cell_type": "code",
   "execution_count": 16,
   "id": "olive-agriculture",
   "metadata": {},
   "outputs": [],
   "source": [
    "# 最少过路费问题\n",
    "# 有一些关卡，或者台阶，总之一些通过需要付出代价的东西，每次可以移动到相邻的，或者隔一个的位置，求通过这个关卡序列需要的最少代价\n",
    "# 第一次可以从第一个或者第二个关卡出发，最后一个关卡也可以直接越过\n",
    "# 其实就是最小打劫问题\n",
    "def minCostClumbing(nums):\n",
    "    n = len(nums)\n",
    "    dp = [[max(nums) + 1] * 2 for _ in range(n)]\n",
    "    dp[0][0], dp[0][1] = 0, nums[0]\n",
    "    for i in range(1,n):\n",
    "        dp[i][0] = min(dp[i-1][1], dp[i][0])\n",
    "        dp[i][1] = min(dp[i-1][1] + nums[i], dp[i-1][0] + nums[i], dp[i][1])\n",
    "    print(dp)\n",
    "    return min(dp[n-1])\n",
    "\n",
    "# cost = [1, 100, 1, 1, 1, 100, 1, 1, 100, 1]\n",
    "# minCostClumbing(cost)"
   ]
  },
  {
   "cell_type": "code",
   "execution_count": 21,
   "id": "acute-conversation",
   "metadata": {},
   "outputs": [
    {
     "name": "stdout",
     "output_type": "stream",
     "text": [
      "3\n"
     ]
    }
   ],
   "source": [
    "# 解码短信，26个字母分别对应1～26个数字进行编码，给出一个数字，求可以通过多少种字母组合方式得到，如12可能来自AB或者L\n",
    "# 如果不加限制，本题就还是斐波那契数列问题，f(n) = f(n-1) + f(n-2)\n",
    "# 但是并不是所有两位数都能对应一个字母，超过26或者01，02这种以0开头则不行\n",
    "\n",
    "def numDecoding(s):\n",
    "    if s =='' or s[0] == '0':\n",
    "        return 0\n",
    "    dp = [1,1]\n",
    "    for i in range(2,len(s)+1):\n",
    "        result = 0\n",
    "        if 10 <= int(s[i-2:i]) <= 26:\n",
    "            result += dp[i-2]\n",
    "        if s[i-1] != '0':\n",
    "            result += dp[i-1]\n",
    "        dp.append(result)\n",
    "    return dp[len(s)]\n",
    "# print(numDecoding('123'))"
   ]
  },
  {
   "cell_type": "code",
   "execution_count": 22,
   "id": "perceived-server",
   "metadata": {},
   "outputs": [
    {
     "data": {
      "text/plain": [
       "2"
      ]
     },
     "execution_count": 22,
     "metadata": {},
     "output_type": "execute_result"
    }
   ],
   "source": [
    "# 二叉搜索树的构建方式，卡特兰数问题\n",
    "# 每个数i都可能做根结点，那么它的左树有i-1个结点，右树有n-i个结点\n",
    "# 那么左数有dp[i-1]种形状，右树有dp[n-i]种形状，i结点为根所以一共应该有dp[i-1] * dp[n-i]种形状\n",
    "\n",
    "def numTrees(n):\n",
    "    if n < 2:\n",
    "        return n\n",
    "    sol = [0] * (n+1)\n",
    "    sol[0], sol[1] = 1,1\n",
    "    for i in range(2, n+1):\n",
    "        for left in range(0,i):\n",
    "            sol[i] += sol[left] * sol[i-left-1]\n",
    "            \n",
    "    return sol[n]\n",
    "\n",
    "numTrees(2)   "
   ]
  },
  {
   "cell_type": "code",
   "execution_count": 1,
   "id": "banner-pontiac",
   "metadata": {},
   "outputs": [
    {
     "name": "stdout",
     "output_type": "stream",
     "text": [
      "1 2 2 2\n",
      "2 3 6 3\n",
      "3 4 24 4\n",
      "4 5 120 5\n",
      "5 -6 -6 -720\n",
      "6 -7 5040 -7\n",
      "5040\n"
     ]
    }
   ],
   "source": [
    "# 找出数组中乘积最大的子串（要连续的，不是挑数），返回这个乘积，由于存在负数乘以正数从而咸鱼翻身的可能，所以要同时记录最小值和最大值\n",
    "\n",
    "def maxProduct(nums):\n",
    "    if len(nums) == 0:\n",
    "        return 0\n",
    "    maximum, minimum, result = nums[0], nums[0], nums[0]\n",
    "    for i in range(1, len(nums)):\n",
    "        maximum, minimum = max(minimum * nums[i], maximum * nums[i], nums[i]), \\\n",
    "                           min(minimum * nums[i], maximum * nums[i], nums[i])\n",
    "        \n",
    "#         maximum = max(minimum * nums[i], maximum * nums[i], nums[i]) 不能这样写，否则maximum就会先于minimum被改变\n",
    "#         minimum = min(minimum * nums[i], maximum * nums[i], nums[i]) 这样计算minimum的时候用的就是新maximum了\n",
    "        print(i,nums[i],maximum,minimum)\n",
    "        result = max(result, maximum)\n",
    "    return result\n",
    "\n",
    "print(maxProduct([1,2,3,4,5,-6,-7]))"
   ]
  },
  {
   "cell_type": "code",
   "execution_count": 12,
   "id": "utility-orleans",
   "metadata": {},
   "outputs": [],
   "source": [
    "# 最大升序子集\n",
    "def func1(nums):\n",
    "    if not nums:\n",
    "        return 0\n",
    "    dp = [1] * len(nums)\n",
    "    for i in range(len(nums)):\n",
    "        for j in range(i):\n",
    "            if nums[i] > nums[j]:\n",
    "                dp[i] = max(dp[i], dp[j] + 1)\n",
    "    return max(dp)\n",
    "\n",
    "# func1([1,2,3,1,2,3,4,5])           \n",
    "# 最大升序子串，如果要求打印出这个子串，只要从最大位置处反向打印即可\n",
    "def func2(nums):\n",
    "    if not nums:\n",
    "        return 0\n",
    "    dp = [1] * len(nums)\n",
    "    for i in range(1,len(nums)):\n",
    "        if nums[i] > nums[i-1]:\n",
    "            dp[i] = dp[i-1] + 1\n",
    "    return max(dp)\n",
    "\n",
    "# func2([1,2,3,1,2,3,4,5]) "
   ]
  },
  {
   "cell_type": "code",
   "execution_count": 6,
   "id": "molecular-shoot",
   "metadata": {},
   "outputs": [],
   "source": [
    "# 最长公共子序列\n",
    "def LCS(X,Y):\n",
    "    m = len(X)\n",
    "    n = len(Y)\n",
    "    dp = [[0 for k in range(n+1)] for l in range(m+1)]\n",
    "    result = 0\n",
    "    for i in range(1,m+1):\n",
    "        for j in range(1, n+1):\n",
    "            if X[i-1] == Y[j-1]:\n",
    "                dp[i][j] = dp[i-1][j-1] + 1\n",
    "                result = max(result, dp[i][j])\n",
    "#             else:\n",
    "#                 dp[i][j] = max(dp[i-1][j], dp[i][j-1]) # 如果是子串就把这段注释取消\n",
    "    return result\n",
    "\n",
    "# print(LCS('abcde','abced'))\n"
   ]
  },
  {
   "cell_type": "markdown",
   "id": "united-wesley",
   "metadata": {},
   "source": [
    "##### 股票交易问题"
   ]
  },
  {
   "cell_type": "code",
   "execution_count": 12,
   "id": "composite-seating",
   "metadata": {},
   "outputs": [
    {
     "name": "stdout",
     "output_type": "stream",
     "text": [
      "6\n"
     ]
    }
   ],
   "source": [
    "# 只能进行一次交易\n",
    "def maxProfit(prices):\n",
    "    if len(prices) < 2:\n",
    "        return 0\n",
    "    min_price = prices[0]\n",
    "    profit = 0\n",
    "    for price in prices:\n",
    "        if price - min_price > profit:\n",
    "            profit = price - min_price\n",
    "        if min_price > price:\n",
    "            min_price = price\n",
    "    return profit\n",
    "\n",
    "# print(maxProfit([1,2,3,4,5,6,7,1,3]))"
   ]
  },
  {
   "cell_type": "code",
   "execution_count": 16,
   "id": "australian-process",
   "metadata": {},
   "outputs": [
    {
     "name": "stdout",
     "output_type": "stream",
     "text": [
      "6\n"
     ]
    }
   ],
   "source": [
    "# 可以进行无数次交易，本质上是找到数组中的全部上升序列\n",
    "def maxProfit2(prices):\n",
    "    profit = 0\n",
    "    for i in range(1,len(prices)):\n",
    "        if prices[i] > prices[i-1]:\n",
    "            profit += (prices[i] - prices[i-1])\n",
    "    return profit\n",
    "\n",
    "# print(maxProfit2([1,2,3,4,5,6,7]))"
   ]
  },
  {
   "cell_type": "code",
   "execution_count": 1,
   "id": "surgical-gathering",
   "metadata": {},
   "outputs": [],
   "source": [
    "# 只能进行两次交易，采用双指针，也就是数组的左右两边各完成一次交易，寻找分合适的分界\n",
    "# 先从左往右走一次，求得到每个点为止可以得到的最大收益，然后再从右往左遍历一次得到一个同样信息的数列\n",
    "# 最后寻找两个数列拼接的最大值就是了\n",
    "def maxProfit4(prices):\n",
    "    total_profit = 0\n",
    "    left_profit = [0] * len(prices)\n",
    "    min_price = prices[0]\n",
    "    for i in range(1, len(prices) - 1):\n",
    "        left_profit[i] = max(left_profit[i-1], prices[i] - min_prices)\n",
    "        min_prices = min(min_prices, prices[i])\n",
    "    right_profit = [0] * len(prices)\n",
    "    max_prices = prices[-1]\n",
    "    for j in range(len(prices) - 2, -1, -1):\n",
    "        right_profit[j] = max(right_profit[j+1], max_price-prices[j])\n",
    "        max_price = max(prices[j], max_price)\n",
    "    for k in range(1,len(prices)-1):\n",
    "        total_profit = max(total_profit, left_prices[k-1] + right_prices[k])\n",
    "    return total_profit"
   ]
  },
  {
   "cell_type": "code",
   "execution_count": 19,
   "id": "vertical-expansion",
   "metadata": {},
   "outputs": [],
   "source": [
    "# 可以无数次买卖，但是每次交易都会收手续费\n",
    "# 这就需要用dp了\n",
    "def maxProfit3(prices, fee):\n",
    "    if len(prices) < 2:\n",
    "        return 0\n",
    "    cash, hold = 0, -prices[0]\n",
    "    for i in range(1, len(prices)):\n",
    "        cash, hold = max(cash, hold + prices[i] - fee), max(hold, cash - prices[i]) # 这个地方不能分开写\n",
    "    return cash\n",
    "# print(maxProfit3([1,2,3,4,5,6,7,8,2,3,4,5],2))      "
   ]
  },
  {
   "cell_type": "code",
   "execution_count": 20,
   "id": "pending-rubber",
   "metadata": {},
   "outputs": [],
   "source": []
  },
  {
   "cell_type": "code",
   "execution_count": 1,
   "id": "conscious-intelligence",
   "metadata": {},
   "outputs": [],
   "source": [
    "# 交易次数为k次，求最大获利\n",
    "# 从两次推广到k次就需要更一般的解法了，依然考虑将状态拆分为持有现金和持有股票两种场景\n",
    "\n",
    "def maxProfit5(prices, k):\n",
    "    if not prices:\n",
    "        return 0\n",
    "    if len(prices) / 2 < k:\n",
    "        return   # 等同于可以无数次买卖的场景\n",
    "    \n",
    "    dp = [[[0] * (k+1),[0] * (k+1)] for _ in range(len(prices)) ]\n",
    "    for j in range(k+1):\n",
    "        dp[0][1][j] = -prices[0] # 无论交易多少次，第一天持有的场景下都是一样的-prices[0]\n",
    "    "
   ]
  },
  {
   "cell_type": "code",
   "execution_count": 5,
   "id": "durable-plane",
   "metadata": {},
   "outputs": [],
   "source": [
    "# 可以无数次交易，但是每次交易之后有1天（或者k天）冷冻期\n",
    "\n",
    "def maxProfit6(prices):\n",
    "    if not prices:\n",
    "        return 0\n",
    "    dp = [[0,0,0] for _ in range(len(prices))]\n",
    "    dp[0][1] = -prices[0] # 0 cash; 1 hold; 2 cool down\n",
    "    for i in range(1,len(prices)):\n",
    "        dp[i][0] = max(dp[i-1][0], dp[i-1][2])\n",
    "        dp[i][1] = max(dp[i-1][1], dp[i-1][0] - prices[i])\n",
    "        dp[i][2] = dp[i-1][1] + prices[i]\n",
    "    return max(dp[-1][0], dp[-1][2])\n",
    "\n",
    "# maxProfit6([1,2,3,4,5,6,7,8,9])"
   ]
  },
  {
   "cell_type": "markdown",
   "id": "bacterial-diploma",
   "metadata": {},
   "source": [
    "    1）矩阵左上角走到右下角的所有可行路径，采用dp。dp[i][j] = dp[i-1][j] + dp[i][j-1]\n",
    "    2）最大收获路径：从最上面一行走到最下面一行可行的最大路径的收益，其中每次移动可以选择下面一行的左中右三个方向的位置。dp[i][j] = max(dp[i-1][j-1], dp[i-1][j], dp[i-1][j+1]) + board[i][j]\n",
    "    3）矩阵中最大的正方形：给定一个0-1矩阵，寻找矩阵中由‘1’组成的面积（边长）最大的正方形。dp[i][j] = max(dp[i-1][j], dp[i-1][j-1], dp[i][j-1]) + 1"
   ]
  },
  {
   "cell_type": "code",
   "execution_count": null,
   "id": "fallen-snowboard",
   "metadata": {},
   "outputs": [],
   "source": []
  }
 ],
 "metadata": {
  "kernelspec": {
   "display_name": "Python 3",
   "language": "python",
   "name": "python3"
  },
  "language_info": {
   "codemirror_mode": {
    "name": "ipython",
    "version": 3
   },
   "file_extension": ".py",
   "mimetype": "text/x-python",
   "name": "python",
   "nbconvert_exporter": "python",
   "pygments_lexer": "ipython3",
   "version": "3.7.7"
  }
 },
 "nbformat": 4,
 "nbformat_minor": 5
}
