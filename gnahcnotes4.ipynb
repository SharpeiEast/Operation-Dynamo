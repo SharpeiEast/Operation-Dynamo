{
 "cells": [
  {
   "cell_type": "code",
   "execution_count": 12,
   "id": "given-blocking",
   "metadata": {},
   "outputs": [],
   "source": [
    "# 链表\n",
    "class Node:\n",
    "    def __init__(self, value):\n",
    "        self.val = value\n",
    "        self.next = None\n",
    "    \n",
    "class LL:\n",
    "    def __init__(self, node):\n",
    "        self.head = node\n",
    "    def add_at_head(self, val):\n",
    "        self.head = self._add_at_head(self.head, val)\n",
    "    def _add_at_head(self, node, val):\n",
    "        new_node = Node(val)\n",
    "        if node is None:\n",
    "            return new_node\n",
    "        else:\n",
    "            new_node.next = node.next\n",
    "            node.next = new_node\n",
    "            return node\n",
    "    def add_at_tail(self, val):\n",
    "        self.head = self._add_at_tail(self.head, val)\n",
    "    def _add_at_tail(self, node, val):\n",
    "        new_node = Node(val)\n",
    "        if node is None:\n",
    "            return new_node\n",
    "        while node.next:\n",
    "            node = node.next\n",
    "        node.next = new_node  # python中对对象的操作，是指针地址\n",
    "        return self.head            \n",
    "    def get_target(self, key):\n",
    "        return self._get_target(self.head, key)\n",
    "    def _get_target(self, node, key):\n",
    "        node_id = 0\n",
    "        while node:\n",
    "            if node.val == key:\n",
    "                return node_id\n",
    "            node = node.next\n",
    "            node_id += 1\n",
    "        else:\n",
    "            return None  \n",
    "    def remove_node(self, node_id):\n",
    "        return self._remove_node(self.head, node_id) # node_id 从0开始算，head是0号节点\n",
    "    def _remove_node(self, node, node_id):\n",
    "        dummy_node = Node(0)\n",
    "        dummy_node.next = node\n",
    "        if node is None:\n",
    "            return node\n",
    "        if node_id == 0:\n",
    "            self.head = node.next\n",
    "            return dummy_node.next\n",
    "        for i in range(node_id-1):\n",
    "            if node is None:\n",
    "                return None\n",
    "            node = node.next\n",
    "        if node.next is None:\n",
    "            return None\n",
    "        else:\n",
    "            node.next = node.next.next\n",
    "        return dummy_node.next\n",
    "    def print_ll(self):\n",
    "        if self.head is None:\n",
    "            return self.head\n",
    "        node = self.head\n",
    "        result = []\n",
    "        while node is not None:\n",
    "            result.append(node.val)\n",
    "            node = node.next\n",
    "        return result\n",
    "    def print_head(self):\n",
    "        return self.head.val\n",
    "            \n"
   ]
  },
  {
   "cell_type": "code",
   "execution_count": 46,
   "id": "stylish-dayton",
   "metadata": {},
   "outputs": [],
   "source": [
    "head = Node(0)\n",
    "ll1 = LL(head)\n",
    "ll1.add_at_head(3)\n",
    "ll1.add_at_head(2)\n",
    "ll1.add_at_head(1)\n",
    "ll1.add_at_tail(4)\n",
    "ll1.add_at_tail(5)\n",
    "for i in range(6,15):\n",
    "    ll1.add_at_tail(i)"
   ]
  },
  {
   "cell_type": "code",
   "execution_count": 47,
   "id": "appreciated-boulder",
   "metadata": {},
   "outputs": [
    {
     "data": {
      "text/plain": [
       "[0, 1, 2, 3, 4, 5, 6, 7, 8, 9, 10, 11, 12, 13, 14]"
      ]
     },
     "execution_count": 47,
     "metadata": {},
     "output_type": "execute_result"
    }
   ],
   "source": [
    "ll1.print_ll()"
   ]
  },
  {
   "cell_type": "code",
   "execution_count": 173,
   "id": "alone-courage",
   "metadata": {},
   "outputs": [
    {
     "data": {
      "text/plain": [
       "[5, 4, 3, 2, 1, 0]"
      ]
     },
     "execution_count": 173,
     "metadata": {},
     "output_type": "execute_result"
    }
   ],
   "source": [
    "# 反转链表\n",
    "def reverse_ll(lst):\n",
    "    cur = lst.head\n",
    "    Temp = None\n",
    "    while cur:\n",
    "        nxt = cur.next\n",
    "        cur.next = Temp\n",
    "        Temp = cur\n",
    "        cur = nxt\n",
    "    lst.head = Temp\n",
    "    return lst\n",
    "# ll2 = reverse_ll(ll1)\n",
    "# ll2.print_ll()"
   ]
  },
  {
   "cell_type": "code",
   "execution_count": 22,
   "id": "constitutional-lover",
   "metadata": {},
   "outputs": [
    {
     "name": "stdout",
     "output_type": "stream",
     "text": [
      "3\n",
      "2\n",
      "1\n",
      "0\n",
      "4\n",
      "5\n",
      "6\n",
      "7\n",
      "8\n",
      "9\n",
      "10\n",
      "11\n",
      "12\n",
      "13\n",
      "14\n"
     ]
    }
   ],
   "source": [
    "def reverse_ll_m_to_n(lst, m, n):\n",
    "    dummy_node = Node(0)\n",
    "    dummy_node.next = lst.head\n",
    "    pre = dummy_node\n",
    "    if n <= m:\n",
    "        return lst\n",
    "    # 假设n不超过链表长度，要不太无聊了\n",
    "    # 因为链表的head是第一位，所以从dummy向后推m-1下到达链表的第m-1位，也就是在这里埋一下pre\n",
    "    for i in range(m-1):\n",
    "        pre = pre.next\n",
    "    cur = pre.next\n",
    "    Temp = None\n",
    "    # 将cur会最终推到第n位后面一位,Temp在第n位\n",
    "    for j in range(n-m+1):\n",
    "        nxt = cur.next\n",
    "        cur.next = Temp\n",
    "        Temp = cur\n",
    "        cur = nxt\n",
    "    pre.next.next = cur\n",
    "    pre.next = Temp\n",
    "    # 同理，python对对象的修改是地址引用，所以传入的lst本身已经被修改，即使不return lst，lst也已经变了\n",
    "    # 但是这个地方如果return lst，当m设置为1时，返回会缺失数据，目前未找到原因\n",
    "    return dummy_node.next\n",
    "\n",
    "# ll3 = reverse_ll_m_to_n(ll1, 1,4)\n",
    "# while ll3:\n",
    "#     print(ll3.val)\n",
    "#     ll3 = ll3.next"
   ]
  },
  {
   "cell_type": "code",
   "execution_count": 49,
   "id": "supposed-companion",
   "metadata": {},
   "outputs": [
    {
     "name": "stdout",
     "output_type": "stream",
     "text": [
      "3\n",
      "2\n",
      "1\n",
      "0\n",
      "7\n",
      "6\n",
      "5\n",
      "4\n",
      "11\n",
      "10\n",
      "9\n",
      "8\n",
      "12\n",
      "13\n",
      "14\n"
     ]
    }
   ],
   "source": [
    "# k个一组反转链表\n",
    "\n",
    "def reverse_ll_group_K(lst, k):\n",
    "    if lst.head is None or k < 2:\n",
    "        return lst.head\n",
    "    iter_head = lst.head\n",
    "    for i in range(k-1):\n",
    "        iter_head = iter_head.next\n",
    "        if iter_head is None:\n",
    "            return lst.head\n",
    "    rst = iter_head  # 存储新链表的表头\n",
    "    current = lst.head\n",
    "    Temp = None\n",
    "    while iter_head:\n",
    "        tail = current  # 每次反转开始时存储一下头节点作为之后调用的尾巴\n",
    "        for i in range(k):\n",
    "            if iter_head:  # 这个地方不能是iter_head.next，否则while循环永远不会结束\n",
    "                iter_head = iter_head.next # 不断推进iter_head，这样每次结束之后iter_head就在下一段的头位置\n",
    "            nxt = current.next\n",
    "            current.next = Temp\n",
    "            Temp = current\n",
    "            current = nxt\n",
    "        tail.next = iter_head or current # 如果后面有足够的k个节点，那么就接上iter_head如果没有则接current\n",
    "    return rst\n",
    "\n",
    "\n",
    "# ll1.print_ll()\n",
    "# head_node = reverse_ll_group_K(ll1, 4)\n",
    "# while head_node:\n",
    "#     print(head_node.val)\n",
    "#     head_node = head_node.next"
   ]
  },
  {
   "cell_type": "code",
   "execution_count": null,
   "id": "roman-interim",
   "metadata": {},
   "outputs": [],
   "source": []
  },
  {
   "cell_type": "code",
   "execution_count": null,
   "id": "experimental-region",
   "metadata": {},
   "outputs": [],
   "source": []
  },
  {
   "cell_type": "markdown",
   "id": "extended-detective",
   "metadata": {},
   "source": [
    "### 链表的归并，快排，以及一些衍生要清楚。比如array能做的奇偶逆序，如何能in-place完成，毕竟不限制的话可以先做一个array，把array奇偶排序之后再生成新链表"
   ]
  },
  {
   "cell_type": "code",
   "execution_count": null,
   "id": "subject-people",
   "metadata": {},
   "outputs": [],
   "source": []
  }
 ],
 "metadata": {
  "kernelspec": {
   "display_name": "Python 3",
   "language": "python",
   "name": "python3"
  },
  "language_info": {
   "codemirror_mode": {
    "name": "ipython",
    "version": 3
   },
   "file_extension": ".py",
   "mimetype": "text/x-python",
   "name": "python",
   "nbconvert_exporter": "python",
   "pygments_lexer": "ipython3",
   "version": "3.7.7"
  }
 },
 "nbformat": 4,
 "nbformat_minor": 5
}
