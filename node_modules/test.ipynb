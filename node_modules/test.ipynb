{
 "cells": [
  {
   "cell_type": "code",
   "execution_count": null,
   "id": "1c5603f0",
   "metadata": {},
   "outputs": [],
   "source": [
    "# 排列组合，终止条件是nums中的所有元素都被使用\n",
    "def perm(nums):\n",
    "    lst = []\n",
    "    result = []\n",
    "    perm_helper(lst, result, nums)\n",
    "    return result\n",
    "def perm_helper(lst, result, nums):\n",
    "    if len(nums) == 0:\n",
    "        result.append(lst[:])\n",
    "    for i, num in enumerate(nums):\n",
    "        perm_helper(lst + [num], result, nums[:i] + nums[i+1:])\n",
    "perm([1,2,3])"
   ]
  },
  {
   "cell_type": "code",
   "execution_count": 3,
   "id": "27a77ed6",
   "metadata": {},
   "outputs": [
    {
     "name": "stdout",
     "output_type": "stream",
     "text": [
      "[[1, 2, 3], [1, 3, 2], [2, 1, 3], [2, 3, 1], [3, 1, 2], [3, 2, 1]]\n"
     ]
    }
   ],
   "source": [
    "def perm(nums):\n",
    "    lst = []\n",
    "    res = []\n",
    "    perm_helper(lst, res, nums)\n",
    "    return res\n",
    "def perm_helper(opr, coll, opts):\n",
    "    if not opts:\n",
    "        coll.append(opr[:])\n",
    "    for i, opt in enumerate(opts):\n",
    "        perm_helper(opr + [opt], coll, opts[:i] + opts[i+1:])\n",
    "        \n",
    "print(perm([1,2,3]))"
   ]
  }
 ],
 "metadata": {
  "kernelspec": {
   "display_name": "Python 3",
   "language": "python",
   "name": "python3"
  },
  "language_info": {
   "codemirror_mode": {
    "name": "ipython",
    "version": 3
   },
   "file_extension": ".py",
   "mimetype": "text/x-python",
   "name": "python",
   "nbconvert_exporter": "python",
   "pygments_lexer": "ipython3",
   "version": "3.9.12"
  }
 },
 "nbformat": 4,
 "nbformat_minor": 5
}
