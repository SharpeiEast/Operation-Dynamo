{
 "cells": [
  {
   "cell_type": "code",
   "execution_count": 34,
   "id": "decreased-swiss",
   "metadata": {},
   "outputs": [],
   "source": []
  },
  {
   "cell_type": "code",
   "execution_count": null,
   "id": "dated-taylor",
   "metadata": {},
   "outputs": [],
   "source": [
    "# 九宫图\n",
    "# \n",
    "\n",
    "def magic_square(n):\n",
    "    magic = [[0] * (n) for i in range(n)]\n",
    "    row = n - 1\n",
    "    col = n//2\n",
    "    magic[row][col] = 1\n",
    "    \n",
    "    for i in range(2, n * n + 1):\n",
    "        try_row = (row + 1) % n\n",
    "        try_col = (col + 1) % n\n",
    "\n",
    "        if (magic[try_row][try_col] == 0):\n",
    "            row = try_row\n",
    "            col = try_col\n",
    "        else:\n",
    "            row = (row - 1 + n) % n\n",
    "        \n",
    "        magic[row][col] = i\n",
    "    \n",
    "    for x in magic:\n",
    "        print(x, sep=\" \")\n",
    "# magic_square(5)\n",
    "# magic_square(3)"
   ]
  },
  {
   "cell_type": "code",
   "execution_count": 72,
   "id": "modular-custom",
   "metadata": {},
   "outputs": [
    {
     "name": "stdout",
     "output_type": "stream",
     "text": [
      "[0, 1, 2, 3, 4]\n",
      "[5, 6, 7, 8, 9]\n",
      "[10, 11, 12, 13, 14]\n",
      "[15, 16, 17, 18, 19]\n",
      "[20, 21, 22, 23, 24]\n",
      "[20, 15, 10, 5, 0]\n",
      "[21, 16, 11, 6, 1]\n",
      "[22, 17, 12, 7, 2]\n",
      "[23, 18, 13, 8, 3]\n",
      "[24, 19, 14, 9, 4]\n"
     ]
    }
   ],
   "source": [
    "# 旋转数组\n",
    "\n",
    "\n",
    "def rotate_in_place(matrix):\n",
    "    for x in matrix:\n",
    "        print(x, sep=' ') # 打印原来的\n",
    "        \n",
    "    n = len(matrix)\n",
    "    for layer in range(n//2):\n",
    "        first = layer\n",
    "        last = n - 1 - layer\n",
    "        for i in range(first, last):\n",
    "            offset = i - first\n",
    "            top = matrix[first][i]  # save top\n",
    "            \n",
    "            ## left->top\n",
    "            matrix[first][i] = matrix[last-offset][first]\n",
    "            \n",
    "            ##bottom -> left\n",
    "            matrix[last-offset][first] = matrix[last][last - offset];\n",
    "\n",
    "            # right -> bottom\n",
    "            matrix[last][last - offset] = matrix[i][last];\n",
    "\n",
    "            # top -> right\n",
    "            matrix[i][last] = top;  # right <- saved top            \n",
    "            \n",
    "    for x in matrix:\n",
    "        print(x, sep=\" \")\n",
    "        \n",
    "matrix = [[i*5+j for j in range(5)] for i in range(5)]\n",
    "rotate_in_place(matrix)"
   ]
  },
  {
   "cell_type": "code",
   "execution_count": 35,
   "id": "hispanic-binary",
   "metadata": {},
   "outputs": [
    {
     "data": {
      "text/plain": [
       "[[1, 2, 3, 3],\n",
       " [1, 3, 2, 3],\n",
       " [1, 3, 3, 2],\n",
       " [2, 1, 3, 3],\n",
       " [2, 3, 1, 3],\n",
       " [2, 3, 3, 1],\n",
       " [3, 1, 2, 3],\n",
       " [3, 1, 3, 2],\n",
       " [3, 2, 1, 3],\n",
       " [3, 2, 3, 1],\n",
       " [3, 3, 1, 2],\n",
       " [3, 3, 2, 1]]"
      ]
     },
     "execution_count": 35,
     "metadata": {},
     "output_type": "execute_result"
    }
   ],
   "source": [
    "# 排列组合\n",
    "def perm(nums):\n",
    "    lst = []\n",
    "    result = []\n",
    "    perm_helper(lst, result, nums)\n",
    "    return result\n",
    "def perm_helper(lst, result, nums):\n",
    "    if len(nums) == 0:\n",
    "        result.append(lst[:])\n",
    "    for i, num in enumerate(nums):\n",
    "        perm_helper(lst + [num], result, nums[:i] + nums[i+1:])\n",
    "# perm([1,2,3])\n",
    "# 有重复元素的情况\n",
    "def perm_dup(nums):\n",
    "    lst = []\n",
    "    result = []\n",
    "    nums.sort()\n",
    "    perm_dup_helper(lst, result, nums)\n",
    "    return result\n",
    "def perm_dup_helper(lst, result, nums):\n",
    "    if len(nums) == 0:\n",
    "        result.append(lst[:])\n",
    "    for i, num in enumerate(nums):\n",
    "        if i != 0 and nums[i] == nums[i-1]:\n",
    "            continue\n",
    "        perm_dup_helper(lst + [num], result, nums[:i] + nums[i+1:])\n",
    "# perm_dup([1,2,3,3])\n",
    "# 只取前k个数\n",
    "def perm_K(nums, k):\n",
    "    lst = []\n",
    "    result = []\n",
    "    perm_K_helper(lst, result, nums, k)\n",
    "    return result\n",
    "def perm_K_helper(lst, result, nums, pos):\n",
    "    if pos == 0:  # 这个地方就不是nums的长度等于零\n",
    "        result.append(lst[:])\n",
    "    for i, num in enumerate(nums):\n",
    "        perm_K_helper(lst + [num], result, nums[:i] + nums[i+1:], pos - 1)\n",
    "# perm_K([1,2,3,4],2)\n",
    "# 找子集\n",
    "def subset(nums):\n",
    "    lst = []\n",
    "    result = []\n",
    "    subset_helper(lst, result, nums, 0)\n",
    "    return result\n",
    "def subset_helper(lst, result, nums, pos):\n",
    "    result.append(lst[:])\n",
    "    for i in range(pos, len(nums)):\n",
    "        lst.append(nums[i])\n",
    "        subset_helper(lst, result, nums, i + 1)\n",
    "        lst.pop()\n",
    "# subset([1,2,3])\n",
    "# 找子集有重复数字的场景\n",
    "def subset_dup(nums):\n",
    "    lst = []\n",
    "    result = []\n",
    "    nums.sort()\n",
    "    subset_dup_helper(lst, result, nums, 0)\n",
    "    return result\n",
    "def subset_dup_helper(lst, result, nums, pos):\n",
    "    result.append(lst[:])\n",
    "    for i in range(pos, len(nums)):\n",
    "        if i != pos and nums[i] == nums[i-1]:\n",
    "            continue;\n",
    "        lst.append(nums[i])\n",
    "        subset_dup_helper(lst, result, nums, i + 1)\n",
    "        lst.pop()\n",
    "# subset_dup([1,2,3,3])"
   ]
  },
  {
   "cell_type": "code",
   "execution_count": 70,
   "id": "monthly-moderator",
   "metadata": {},
   "outputs": [],
   "source": [
    "# 子集变种-不定sum问题，找出nums中加起来等于target的子集\n",
    "# 当然蛮力法可以先把子集都找出来，然后挨个检查\n",
    "def subset_sum(nums, target):\n",
    "    lst = []\n",
    "    result = []\n",
    "    nums.sort()\n",
    "    subset_sum_helper(lst, result, nums, 0, target)\n",
    "    return result\n",
    "def subset_sum_helper(lst, result, nums, pos, remain):\n",
    "    if remain == 0:\n",
    "        result.append(lst[:])\n",
    "    if remain < 0:\n",
    "        return\n",
    "    for i in range(pos, len(nums)):\n",
    "        if i > pos and nums[i] == nums[i-1]:\n",
    "            continue\n",
    "        lst.append(nums[i])\n",
    "        subset_sum_helper(lst, result, nums, i+1, remain - nums[i])\n",
    "        lst.pop()\n",
    "# subset_sum([1,2,3,4], 5)\n",
    "# 八皇后问题\n",
    "def check_pos(nums, n):\n",
    "    for i in range(n):\n",
    "        if abs(nums[n] - nums[i]) == n - i or nums[n] == nums[i]:  # 绝对值\n",
    "            return False\n",
    "    return True\n",
    "def eight_Q(n):\n",
    "    lst = []\n",
    "    result = []\n",
    "    nums = [-1] * n\n",
    "    eight_Q_helper(lst, result, nums, 0)\n",
    "    return result\n",
    "def eight_Q_helper(lst, result, nums, pos):\n",
    "    if len(lst) == len(nums):\n",
    "        result.append(lst[:])\n",
    "        return   # 因为八皇后不会pop，所以必须找完了就return\n",
    "    for i in range(len(nums)):\n",
    "        nums[pos] = i\n",
    "        if check_pos(nums, pos):\n",
    "            eight_Q_helper(lst + [i], result, nums, pos+1)\n"
   ]
  },
  {
   "cell_type": "code",
   "execution_count": 71,
   "id": "blond-milwaukee",
   "metadata": {},
   "outputs": [
    {
     "data": {
      "text/plain": [
       "[[1, 3, 0, 2], [2, 0, 3, 1]]"
      ]
     },
     "execution_count": 71,
     "metadata": {},
     "output_type": "execute_result"
    }
   ],
   "source": [
    "eight_Q(4)"
   ]
  },
  {
   "cell_type": "code",
   "execution_count": 6,
   "id": "suburban-december",
   "metadata": {},
   "outputs": [],
   "source": [
    "# 括号卡特兰数\n",
    "def gene(n):\n",
    "    lst = []\n",
    "    result = []\n",
    "    gene_helper(lst, result, n, n)\n",
    "    return result\n",
    "def gene_helper(lst, result, left, right):\n",
    "    if right == 0:\n",
    "        result.append(lst[:])\n",
    "    if left < right:\n",
    "        gene_helper(lst + [')'], result, left, right - 1)\n",
    "    if left > 0:\n",
    "        gene_helper(lst + ['('], result, left - 1, right)\n",
    "    return result\n",
    "    "
   ]
  },
  {
   "cell_type": "code",
   "execution_count": 7,
   "id": "mighty-architect",
   "metadata": {},
   "outputs": [
    {
     "data": {
      "text/plain": [
       "[['(', ')', '(', ')', '(', ')', '(', ')'],\n",
       " ['(', ')', '(', ')', '(', '(', ')', ')'],\n",
       " ['(', ')', '(', '(', ')', ')', '(', ')'],\n",
       " ['(', ')', '(', '(', ')', '(', ')', ')'],\n",
       " ['(', ')', '(', '(', '(', ')', ')', ')'],\n",
       " ['(', '(', ')', ')', '(', ')', '(', ')'],\n",
       " ['(', '(', ')', ')', '(', '(', ')', ')'],\n",
       " ['(', '(', ')', '(', ')', ')', '(', ')'],\n",
       " ['(', '(', ')', '(', ')', '(', ')', ')'],\n",
       " ['(', '(', ')', '(', '(', ')', ')', ')'],\n",
       " ['(', '(', '(', ')', ')', ')', '(', ')'],\n",
       " ['(', '(', '(', ')', ')', '(', ')', ')'],\n",
       " ['(', '(', '(', ')', '(', ')', ')', ')'],\n",
       " ['(', '(', '(', '(', ')', ')', ')', ')']]"
      ]
     },
     "execution_count": 7,
     "metadata": {},
     "output_type": "execute_result"
    }
   ],
   "source": [
    "gene(4)"
   ]
  },
  {
   "cell_type": "code",
   "execution_count": null,
   "id": "constitutional-writer",
   "metadata": {},
   "outputs": [],
   "source": []
  }
 ],
 "metadata": {
  "kernelspec": {
   "display_name": "Python 3",
   "language": "python",
   "name": "python3"
  },
  "language_info": {
   "codemirror_mode": {
    "name": "ipython",
    "version": 3
   },
   "file_extension": ".py",
   "mimetype": "text/x-python",
   "name": "python",
   "nbconvert_exporter": "python",
   "pygments_lexer": "ipython3",
   "version": "3.7.7"
  }
 },
 "nbformat": 4,
 "nbformat_minor": 5
}
