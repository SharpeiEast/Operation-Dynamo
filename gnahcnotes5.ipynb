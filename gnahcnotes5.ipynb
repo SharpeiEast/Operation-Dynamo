{
 "cells": [
  {
   "cell_type": "markdown",
   "id": "dental-minimum",
   "metadata": {},
   "source": [
    "# 堆栈"
   ]
  },
  {
   "cell_type": "code",
   "execution_count": null,
   "id": "secondary-anatomy",
   "metadata": {},
   "outputs": [],
   "source": [
    "# 验证数学算式-括号排列-的正确性\n",
    "def isValid(s):\n",
    "    stack = []\n",
    "    for i in s:\n",
    "        if i in ['(','[','{']:\n",
    "            stack.append(i)\n",
    "        else:\n",
    "            if i == ')' and stack[-1] == '(' or i == ']' and stack[-1] == '[' or i == '}' and stack[-1] == '{':\n",
    "                ch = stack.pop()\n",
    "            else:\n",
    "                return False\n",
    "    if len(stack) != 0:\n",
    "        return False\n",
    "    return True"
   ]
  },
  {
   "cell_type": "code",
   "execution_count": 30,
   "id": "effective-venezuela",
   "metadata": {},
   "outputs": [
    {
     "data": {
      "text/plain": [
       "'bbabababcaaaadddcaaaaddd'"
      ]
     },
     "execution_count": 30,
     "metadata": {},
     "output_type": "execute_result"
    }
   ],
   "source": [
    "# 算式展开1\n",
    "# 2[abc]3[cd]ef -> abcabccdcdcdef\n",
    "# 3[a2[c]] -> accaccacc\n",
    "# 需要存储扩大系数和未完成算式，所以stack中应该放这两个东西，所以可以试试两个stack（当然stack中以list为元素也可以）\n",
    "def decodeString(S):\n",
    "    stack_num = []\n",
    "    stack_str = [''] # 只能这样，然后每次计算完了向stack_str并入\n",
    "    num = ''\n",
    "    \n",
    "    for i in S:\n",
    "        if i.isdigit():\n",
    "            num += i\n",
    "        elif i.isalpha():\n",
    "            stack_str[-1] += i\n",
    "        elif i == '[':\n",
    "            stack_num.append(int(num))\n",
    "            stack_str.append('')\n",
    "            num = ''\n",
    "        elif i == ']':\n",
    "            str_ = stack_str.pop()\n",
    "            stack_str[-1] += str_ * stack_num.pop()\n",
    "    return stack_str[0]\n",
    "\n",
    "# decodeString('2[b]3[ab]2[caaaa3[d]]')"
   ]
  },
  {
   "cell_type": "code",
   "execution_count": 43,
   "id": "recognized-swing",
   "metadata": {},
   "outputs": [],
   "source": [
    "# 数学表达式求解\n",
    "def domath(ope1, ope2, op):\n",
    "    if op == '*':\n",
    "        return ope1 * ope2\n",
    "    elif op == '/':\n",
    "        return ope1 / ope2\n",
    "    elif op == '+':\n",
    "        return ope1 + ope2\n",
    "    else:\n",
    "        return ope1 - ope2\n",
    "def infixTOpost(S):\n",
    "    prec = {'*' : 3, '/' : 3, '+' : 2, '-' : 2, '(' : 1}\n",
    "    op = []\n",
    "    post = []\n",
    "    tok = S.split()\n",
    "    for t in tok:\n",
    "        if t == '(':\n",
    "            op.append(t)\n",
    "        elif t.isdigit():\n",
    "            post.append(t)\n",
    "        elif t == ')':\n",
    "            toptoken = op.pop()\n",
    "            while toptoken != '(':\n",
    "                post.append(toptoken)\n",
    "                toptoken = op.pop()\n",
    "        else:\n",
    "            while op and prec[op[-1]] >= prec[t]:\n",
    "                post.append(op.pop())\n",
    "            op.append(t)\n",
    "    while op:\n",
    "        post.append(op.pop())\n",
    "    return post\n",
    "def calculate(post):\n",
    "    opstack = []\n",
    "    for i in post:\n",
    "        if i.isdigit():\n",
    "            opstack.append(int(i))\n",
    "        else:\n",
    "            op2 = opstack.pop()\n",
    "            op1 = opstack.pop()\n",
    "            opstack.append(domath(op1,op2,i))\n",
    "    return opstack.pop()\n",
    "        \n",
    "    "
   ]
  },
  {
   "cell_type": "code",
   "execution_count": 44,
   "id": "upper-justice",
   "metadata": {},
   "outputs": [
    {
     "name": "stdout",
     "output_type": "stream",
     "text": [
      "20\n"
     ]
    }
   ],
   "source": [
    "# print(infixTOpost(\"1 * 2 + 3 * 4\"))\n",
    "# print(infixTOpost(\"( 1 + 2 ) * 3 - ( 4 - 5 ) * ( 6 + 7 )\"))\n",
    "aa = infixTOpost(\"1 + 2 * 3 - ( 4 - 5 ) * 6 + 7\")\n",
    "print(calculate(aa))"
   ]
  },
  {
   "cell_type": "code",
   "execution_count": null,
   "id": "adjustable-blend",
   "metadata": {},
   "outputs": [],
   "source": []
  },
  {
   "cell_type": "code",
   "execution_count": null,
   "id": "pursuant-google",
   "metadata": {},
   "outputs": [],
   "source": []
  },
  {
   "cell_type": "code",
   "execution_count": null,
   "id": "herbal-monroe",
   "metadata": {},
   "outputs": [],
   "source": []
  }
 ],
 "metadata": {
  "kernelspec": {
   "display_name": "Python 3",
   "language": "python",
   "name": "python3"
  },
  "language_info": {
   "codemirror_mode": {
    "name": "ipython",
    "version": 3
   },
   "file_extension": ".py",
   "mimetype": "text/x-python",
   "name": "python",
   "nbconvert_exporter": "python",
   "pygments_lexer": "ipython3",
   "version": "3.7.7"
  }
 },
 "nbformat": 4,
 "nbformat_minor": 5
}
