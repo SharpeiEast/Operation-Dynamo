{
 "cells": [
  {
   "cell_type": "code",
   "execution_count": 1,
   "id": "hollywood-throw",
   "metadata": {},
   "outputs": [
    {
     "name": "stdout",
     "output_type": "stream",
     "text": [
      "[0, 0, 0, 0, 0, 0, 0, 0]\n",
      "[0, 0, 0, 0, 1, 1, 1, 1]\n",
      "[0, 1, 1, 1, 1, 2, 2, 2]\n",
      "[0, 1, 1, 2, 2, 2, 2, 3]\n",
      "[0, 1, 1, 2, 2, 3, 3, 3]\n",
      "[0, 1, 2, 2, 2, 3, 3, 3]\n",
      "[0, 1, 2, 2, 3, 3, 4, 4]\n",
      "[0, 1, 2, 2, 3, 4, 4, 4]\n",
      "[0, 1, 2, 3, 3, 4, 4, 5]\n",
      "\n",
      "[0, 0, 0, 0, 0, 0, 0, 0]\n",
      "[0, 'up', 'up', 'up', 'ok', 'left', 'ok', 'left']\n",
      "[0, 'ok', 'left', 'left', 'up', 'ok', 'left', 'left']\n",
      "[0, 'up', 'up', 'ok', 'left', 'up', 'up', 'ok']\n",
      "[0, 'ok', 'up', 'up', 'up', 'ok', 'left', 'up']\n",
      "[0, 'up', 'ok', 'up', 'up', 'up', 'up', 'up']\n",
      "[0, 'up', 'up', 'up', 'ok', 'up', 'ok', 'left']\n",
      "[0, 'ok', 'up', 'up', 'up', 'ok', 'up', 'up']\n",
      "[0, 'up', 'up', 'ok', 'up', 'up', 'up', 'ok']\n",
      "\n",
      "BCBAC\n"
     ]
    }
   ],
   "source": [
    "def lcs(a,b):\n",
    "# 动态规划解最长公共子序列(LCS)\n",
    "\tlena=len(a)\n",
    "\tlenb=len(b)\n",
    "\tc=[[0 for i in range(lenb+1)] for j in range(lena+1)] #初始化计数矩阵\n",
    "\tflag=[[0 for i in range(lenb+1)] for j in range(lena+1)] #初始化标记矩阵\n",
    "\tfor i in range(lena):\n",
    "\t\tfor j in range(lenb):\n",
    "\t\t\tif a[i]==b[j]:\n",
    "\t\t\t\tc[i+1][j+1]=c[i][j]+1\n",
    "\t\t\t\tflag[i+1][j+1]='ok'\n",
    "\t\t\telif c[i+1][j]>c[i][j+1]:\n",
    "\t\t\t\tc[i+1][j+1]=c[i+1][j]\n",
    "\t\t\t\tflag[i+1][j+1]='left'\n",
    "\t\t\telse:\n",
    "\t\t\t\tc[i+1][j+1]=c[i][j+1]\n",
    "\t\t\t\tflag[i+1][j+1]='up'\n",
    "\treturn c,flag  #c是矩阵，里面存每一对对应的数值； flag标记了回溯方向\n",
    "\n",
    "def printLcs(flag,a,i,j):\n",
    "\tif i==0 or j==0:\n",
    "\t\treturn\n",
    "\tif flag[i][j]=='ok':\n",
    "\t\tprintLcs(flag,a,i-1,j-1)\n",
    "\t\tprint(a[i-1],end='') #单行持续输出\n",
    "\telif flag[i][j]=='left':\n",
    "\t\tprintLcs(flag,a,i,j-1)\n",
    "\telse:\n",
    "\t\tprintLcs(flag,a,i-1,j)\n",
    "\t\t\n",
    "#inputa, inputb=\"AAACCGTGAGTTATTCGTTCTAGAA\", \"CACCCCTAAGGTACCTTTGGTTC\" #ACCTAGTACTTTG \n",
    "#inputa, inputb=\"houseboat\", \"computer\"#oue\n",
    "#inputa, inputb=\"2193588\", \"21943588\" #2193588\n",
    "a='ABCBDABC'\n",
    "b='BDCABAC'\n",
    "c,flag=lcs(a,b)\n",
    "for i in c:\n",
    "\tprint(i)\n",
    "print('')\n",
    "for j in flag:\n",
    "\tprint(j)\n",
    "print('')\n",
    "printLcs(flag,a,len(a),len(b))\n",
    "print('')"
   ]
  },
  {
   "cell_type": "code",
   "execution_count": 3,
   "id": "arabic-industry",
   "metadata": {},
   "outputs": [
    {
     "name": "stdout",
     "output_type": "stream",
     "text": [
      "3\n"
     ]
    }
   ],
   "source": [
    "# 最长公共子串\n",
    "def LCstring(string1,string2):\n",
    "    len1 = len(string1)\n",
    "    len2 = len(string2)\n",
    "    res = [[0 for i in range(len1+1)] for j in range(len2+1)]\n",
    "    result = 0\n",
    "    for i in range(1,len2+1):\n",
    "        for j in range(1,len1+1):\n",
    "            if string2[i-1] == string1[j-1]:\n",
    "                res[i][j] = res[i-1][j-1]+1\n",
    "                result = max(result,res[i][j])  \n",
    "    return result\n",
    "#print(LCstring(\"helloworld\",\"loop\"))\n",
    "print(LCstring('abcd','abcod'))"
   ]
  },
  {
   "cell_type": "code",
   "execution_count": 3,
   "id": "broadband-surgery",
   "metadata": {},
   "outputs": [
    {
     "name": "stdout",
     "output_type": "stream",
     "text": [
      "[[5, 9, 2, 4, 8, 1, 7, 6, 3], [4, 1, 3, 7, 6, 2, 9, 8, 5], [8, 6, 7, 3, 5, 9, 4, 1, 2], [6, 2, 4, 1, 9, 5, 3, 7, 8], [7, 5, 9, 8, 4, 3, 1, 2, 6], [1, 3, 8, 6, 2, 7, 5, 9, 4], [2, 7, 1, 5, 3, 8, 6, 4, 9], [3, 8, 6, 9, 1, 4, 2, 5, 7], [9, 4, 5, 2, 7, 6, 8, 3, 1]]\n"
     ]
    }
   ],
   "source": [
    "# 数独\n",
    "class Solution:\n",
    "\n",
    "    def isValue(self, board, x, y):\n",
    "        # 检查已经填入的坐标是否和列中有的元素相等\n",
    "        for i in range(9): \n",
    "            if i != x and board[i][y] == board[x][y]:\n",
    "                return False\n",
    "        # 检查已经填入的坐标是否和行中有的元素相等\n",
    "        for j in range(9): \n",
    "            if j != y and board[x][j] == board[x][y]:\n",
    "                return False\n",
    "\n",
    "        # 检查每个正方形是否符合（粗线框内只有1~9） \n",
    "        m, n = 3*(x // 3), 3*(y // 3)  # 这里求出的是3x3网格的左上角的坐标 \n",
    "        for i in range(3):\n",
    "            for j in range(3):\n",
    "                if(i+m != x or j+n != y) and board[i+m][j+n] == board[x][y]:\n",
    "                    return False  \n",
    "\n",
    "        return True\n",
    "\n",
    "    def dfs(self, board):\n",
    "\n",
    "        for i in range(9):\n",
    "            for j in range(9):\n",
    "                if board[i][j] == 0:\n",
    "                    for k in '123456789':  # 从里面选择一个\n",
    "                        board[i][j] = int(k)\n",
    "                        if self.isValue(board, i, j) and self.dfs(board):\n",
    "                            return True\n",
    "                        # 回溯\n",
    "                        board[i][j] = 0\n",
    "                    # 都不行，说明上次的数字不合理\n",
    "                    return False\n",
    "        # 全部便利完，返回True\n",
    "        return True\n",
    "\n",
    "\n",
    "board = [[0,9,2,4,8,1,7,6,3],\n",
    "        [4,1,3,7,6,2,9,8,5],\n",
    "        [8,6,7,3,5,9,4,1,2],\n",
    "        [6,2,4,1,9,5,3,7,8],\n",
    "        [7,5,9,8,4,3,1,2,6],\n",
    "        [1,3,8,6,2,7,5,9,4],\n",
    "        [2,7,1,5,3,8,6,4,9],\n",
    "        [3,8,6,9,1,4,2,5,7],\n",
    "        [0,4,5,2,7,6,8,3,1]]\n",
    "\n",
    "s = Solution()\n",
    "s.dfs(board)\n",
    "print(board)"
   ]
  },
  {
   "cell_type": "code",
   "execution_count": 1,
   "id": "united-bobby",
   "metadata": {},
   "outputs": [
    {
     "name": "stdout",
     "output_type": "stream",
     "text": [
      "2\n"
     ]
    }
   ],
   "source": [
    "# 素数伴侣\n",
    "\n",
    "def getPrimes(n):\n",
    "    \"\"\"获取2~n之间的素数，用于对素数进行判断\"\"\"\n",
    "    primes = [True for _ in range(n+1)]\n",
    "    for i in range(2, n+1):\n",
    "        if primes[i]:\n",
    "            yield i\n",
    "            for j in range(i+i, n+1, i):\n",
    "                primes[j] = False\n",
    "\n",
    "def splitNums(nums):\n",
    "    \"\"\"用于将数字分为奇数和偶数部分\"\"\"\n",
    "    odd = []\n",
    "    even = []\n",
    "    oddLen = 0\n",
    "    evenLen = 0\n",
    "    for num in nums:\n",
    "        if num % 2 == 0:\n",
    "            even.append(num)\n",
    "            evenLen += 1\n",
    "        else:\n",
    "            odd.append(num)\n",
    "            oddLen += 1\n",
    "    return odd, oddLen, even, evenLen \n",
    "\n",
    "def removeValue(data, n, i, k):\n",
    "    \"\"\"从data的第i行开始去掉数字i\"\"\"\n",
    "    for j in range(i, n):\n",
    "        if k in data[j]:\n",
    "            data[j].remove(k)\n",
    "    return data \n",
    "\n",
    "def countValue(data, n, i, d):\n",
    "    \"\"\"统计data从i行开始，d中的元素总共出现的次数\"\"\"\n",
    "    d = {k: 0 for k in d}\n",
    "    for j in range(i, n):\n",
    "        for value in data[j]:\n",
    "            if value in d:\n",
    "                d[value] += 1\n",
    "    return d \n",
    "\n",
    "def func(nums):\n",
    "    odd, oddLen, even, evenLen = splitNums(nums)\n",
    "    maxGroup = min(oddLen, evenLen)\n",
    "    if maxGroup == 0:   # 如果没有奇数或者偶数，那么直接必定不会出现素数伴侣\n",
    "        return 0 \n",
    "    primes = list(getPrimes(max(odd)+max(even)))\n",
    "    # 每一行代表1个偶数，每一列代表一个奇数\n",
    "    # 此处得到每个一行的偶数能和哪几个奇数组成素数伴侣\n",
    "    data = [[j for j in range(oddLen) if even[i] + odd[j] in primes] for i in range(evenLen)]\n",
    "    data = [row for row in data if row]  # 去掉不能和任何数字组成伴侣的偶数行\n",
    "    if not data:  # 为空表示没有任何偶数能和奇数组成伴侣\n",
    "        return 0 \n",
    "    stack = []  # 存储结果用容器\n",
    "    n = len(data)   \n",
    "    for i in range(n-1):  \n",
    "        # 分别对每一行进行迭代，判断改行是否符合一下的某一种情况（最后1行不需要判断，直接取最后1行的第一个数据即可）\n",
    "        # 1 如果这一行为空，那么直接忽略这一行\n",
    "        # 2 这一行只能和1个奇数 K 组成伴侣，那么就取这个偶数和K组成伴侣\n",
    "        # 3 若这一行可以和多个奇数组成伴侣，那么去查找K，要求：后面行重复使用到K的次数最少\n",
    "        # 4 去掉后面行用到的K\n",
    "        # 5 若出现情况如：[[1,2], [1], [2, 3], [2, 4]]，避免第一行取到1，\n",
    "        #    在每一次取数之前，将数据按照候选奇数的多少依次排列\n",
    "        data = data[:i] + sorted(data[i:], key=lambda x: len(x))\n",
    "        if len(data[i]) == 0:\n",
    "            continue\n",
    "        if len(data[i]) == 1:\n",
    "            stack.append(data[i][0])\n",
    "            data = removeValue(data, n, i+1, data[i][0])\n",
    "            continue\n",
    "        d = countValue(data, n, i+1, data[i])\n",
    "        minValue = data[i][0]\n",
    "        c = d[minValue]\n",
    "        if c == 0:\n",
    "            stack.append(data[i][0])\n",
    "            data = removeValue(data, n, i+1, data[i][0])\n",
    "            continue\n",
    "        for k, v in d.items():\n",
    "            if v < k:\n",
    "                minValue = k\n",
    "                c = v\n",
    "        stack.append(minValue)\n",
    "        if c == 0:\n",
    "            continue\n",
    "        data = removeValue(data, n, i+1, minValue)\n",
    "    if data[-1]:  # 最后1行不需要判断，直接取最后1行的第一个数据即可 \n",
    "        stack.append(data[-1][0])\n",
    "    return len(stack)\n",
    "\n",
    "\n",
    "n = 4\n",
    "nums = [2,5,6,13]\n",
    "print(func(nums))"
   ]
  },
  {
   "cell_type": "code",
   "execution_count": 2,
   "id": "solved-repair",
   "metadata": {},
   "outputs": [
    {
     "name": "stdout",
     "output_type": "stream",
     "text": [
      "False\n"
     ]
    }
   ],
   "source": [
    "# 24点\n",
    "d = {'3':3, '4':4, '5':5, '6':6, '7':7, '8':8, '9':9,\n",
    "    '10':10, 'J':11, 'Q':12, 'K':13, 'A':1, '2':2}\n",
    "def f(nums, target):\n",
    "    if len(nums) == 1:\n",
    "        if d[nums[0]] == target:\n",
    "            res.append(nums[0])\n",
    "            return True\n",
    "        else:\n",
    "            return False\n",
    "    for i in range(len(nums)):\n",
    "        a = nums[i]\n",
    "        b = nums[:i] + nums[i+1:]\n",
    "        if f(b, target + d[a]):\n",
    "            res.append('-' + a)\n",
    "            return True\n",
    "        elif f(b, target - d[a]):\n",
    "            res.append('+' + a)\n",
    "            return True\n",
    "        elif f(b, target * d[a]):\n",
    "            res.append('/' + a)\n",
    "            return True\n",
    "        elif target % d[a] == 0 and f(b, target // d[a]):\n",
    "            res.append('*' + a)\n",
    "            return True\n",
    "    return False\n",
    "\n",
    "nums = ['K','Q','6','K']\n",
    "print(f(nums, 24))"
   ]
  },
  {
   "cell_type": "code",
   "execution_count": 8,
   "id": "devoted-north",
   "metadata": {},
   "outputs": [
    {
     "name": "stdout",
     "output_type": "stream",
     "text": [
      "[1, 2, 4, 5]\n"
     ]
    }
   ],
   "source": [
    "# N皇后问题\n",
    "def solution(n):\n",
    "    scale = n\n",
    "    def safe(x):\n",
    "        for i in range(len(x)-1):\n",
    "            if (x[-1] == x[i]) or (abs(x[-1] - x[i]) == (len(x)-1) - i):\n",
    "                return False\n",
    "        return True\n",
    "    \n",
    "    def f(k):\n",
    "        if k == 1:\n",
    "            return [[x] for x in range(1, scale + 1)]\n",
    "        else:\n",
    "            last = f(k-1)\n",
    "            return list(filter(safe, [x+[y] for x in last for y in range(1, scale+1)]))\n",
    "    return f(n)\n",
    "aaa = len(solution(8))\n",
    "print(aaa)"
   ]
  },
  {
   "cell_type": "code",
   "execution_count": 3,
   "id": "daily-medication",
   "metadata": {},
   "outputs": [
    {
     "name": "stdout",
     "output_type": "stream",
     "text": [
      "一共有：14748种\n"
     ]
    }
   ],
   "source": [
    "# 一个射击运动员打靶，靶一共有10环，连开6枪打中45环的可能性有多少种?\n",
    "times = 0\n",
    "def biu(n,sum):\n",
    "    global times\n",
    "    if n<0:\n",
    "        return\n",
    "    elif (45-sum)>(10*(n)):\n",
    "        return\n",
    "    elif (sum==45)and (n==0):\n",
    "        times +=1\n",
    "        return\n",
    "    for i in range(11):\n",
    "        biu(n-1,sum+i)\n",
    "biu(6,0)\n",
    "print ('一共有：%d种'%times)\n"
   ]
  },
  {
   "cell_type": "code",
   "execution_count": 19,
   "id": "sophisticated-popularity",
   "metadata": {},
   "outputs": [
    {
     "name": "stdout",
     "output_type": "stream",
     "text": [
      "10\n"
     ]
    }
   ],
   "source": [
    "# 01背包问题\n",
    "w1 = [2,3,4,5]\n",
    "v1 = [3,4,5,6]\n",
    "c1 = 8\n",
    "\n",
    "def pack1a(w, v, C): #每个东西只能选择一次\n",
    "    dp = [[0 for _ in range(C+1)] for _ in range(len(w)+1)]\n",
    "    for i in range(1, len(w)+1):\n",
    "        for j in range(1, C+1):\n",
    "            if j < w[i-1]: #如果剩余容量不够新来的物体 直接等于之前的\n",
    "                dp[i][j] = dp[i-1][j]\n",
    "            else:\n",
    "                dp[i][j] = max(dp[i-1][j], dp[i-1][j-w[i-1]]+ v[i-1])\n",
    "    return dp[len(w)][C]\n",
    "\n",
    "def pack1b(w, v, c):\n",
    "    #它是先得到第一行的值，存到dp中，然后再直接用dp相当于就是上一行的值，所以下面必须用逆序\n",
    "    #否则dp[j-w[i-1]]可能会用到你本行的值，从大到小就不会\n",
    "    dp = [0 for _ in range(c+1)]\n",
    "    for i in range(1, len(w)+1):\n",
    "        for j in reversed(range(1, c+1)):#这里必须用逆序\n",
    "            if w[i-1] <= j:\n",
    "                dp[j] = max(dp[j], dp[j-w[i-1]]+v[i-1])\n",
    "    return dp[c]\n",
    "out1a = pack1a(w1,v1,c1)\n",
    "out1b = pack1b(w1,v1,c1)\n",
    "#print(out2)\n",
    "\n",
    "# 完全背包问题\n",
    "def pack2a(w, v, C): #每个东西能选择多次 完全背包问题\n",
    "    dp = [[0 for _ in range(C+1)] for _ in range(len(w)+1)]\n",
    "    for i in range(1, len(w)+1):\n",
    "        for j in range(1, C+1):\n",
    "            if j < w[i-1]:\n",
    "                dp[i][j] = dp[i-1][j]\n",
    "            else:\n",
    "                dp[i][j] = max(dp[i-1][j], dp[i][j-w[i-1]] + v[i-1])\n",
    "    return dp\n",
    "def pack2b(w, v, C):    \n",
    "    dp = [0 for _ in range(C+1)]\n",
    "    for i in range(1, len(w)+1):\n",
    "        for j in (range(1, C+1)):\n",
    "            if w[i-1] <= j:\n",
    "                dp[j] = max(dp[j], dp[j-w[i-1]]+v[i-1])\n",
    "    return dp\n",
    "out2a = pack2a([2,3,4,5], [3,4,5,6], 8)\n",
    "out2b = pack2b([2,3,4,5], [3,4,5,6], 8)\n",
    "\n",
    "# 多重背包问题\n",
    "s = [1,1,1,3]\n",
    "def pack3a(w, v, s, c):\n",
    "    dp = [0 for _ in range(c+1)]\n",
    "    for i in range(1, len(w)+1):\n",
    "        for j in reversed(range(1, c+1)):\n",
    "            for k in range(s[i-1] + 1):\n",
    "                if k*w[i-1] <= j:\n",
    "                    dp[j] = max(dp[j], dp[j-k*w[i-1]]+k*v[i-1])\n",
    "    return dp[c]\n",
    "def pack3b(w, v, s, c):\n",
    "    for i in range(len(s)):\n",
    "        k = 1\n",
    "        s_value = s[i]\n",
    "        while k<=s_value:\n",
    "            w2.append(k*w[i])\n",
    "            v2.append(k*v[i])\n",
    "            s_value -= k\n",
    "            k *= 2\n",
    "        if s_value>0:\n",
    "            w2.append(s_value*w[i])\n",
    "            v2.append(s_value*v[i])  \n",
    "    #前面是划分，后面是0，1背包\n",
    "    dp = [0 for _ in range(c+1)]\n",
    "    for i in range(1, len(w2)+1):\n",
    "        for j in reversed(range(1, c+1)):\n",
    "            if w2[i-1] <= j:\n",
    "                dp[j] = max(dp[j], dp[j-w2[i-1]]+v2[i-1])\n",
    "    return dp[c]\n",
    "out3a = pack3a(w1, v1, s, 8)\n",
    "out3b = pack3a(w1, v1, s, 8)\n",
    "#print(out3a)\n",
    "print(out3b)\n",
    "# 混合背包问题\n",
    "# 第一类物品只能用1次（01背包）；\n",
    "# 第二类物品可以用无限次（完全背包）；\n",
    "# 第三类物品最多只能用 sisi 次（多重背包）；\n",
    "# si=−1 表示第 ii 种物品只能用1次；\n",
    "# si=0 表示第 ii 种物品可以用无限次；\n",
    "# si>0 表示第 ii 种物品可以使用 si 次；\n",
    "def pack4(w, v, c, s):\n",
    "    w2 = []\n",
    "    v2 = []\n",
    "    s2 = []\n",
    "    for i in range(len(s)):\n",
    "        if s[i] == 0 or s[i] == -1:\n",
    "            w2.append(w[i])\n",
    "            v2.append(v[i])\n",
    "            s2.append(s[i])\n",
    "        else:\n",
    "            s_value = s[i]\n",
    "            k = 1\n",
    "            while k <= s_value:\n",
    "                w2.append(k*w[i])\n",
    "                v2.append(k*v[i])\n",
    "                s2.append(s[i])\n",
    "                s_value -= k\n",
    "                k *= 2\n",
    "            if s_value> 0:\n",
    "                w2.append(s_value*w[i])\n",
    "                v2.append(s_value*v[i])\n",
    "                s2.append(s[i])\n",
    "     #上面把si>0的背包拆分了（变成0，1背包）下面分成0，1背包和无限背包两种\n",
    "    dp = [0 for _ in range(c+1)]\n",
    "    for i in range(1, len(w2)+1):\n",
    "        if s2[i-1] == 0:\n",
    "            for j in (range(1, c+1)):\n",
    "                if j-w2[i-1]>=0:\n",
    "                    dp[j] = max(dp[j], dp[j-w2[i-1]]+v2[i-1])\n",
    "        else:\n",
    "            # print('i',i)\n",
    "            for j in reversed(range(1, c+1)):\n",
    "                if j-w2[i-1]>=0:\n",
    "                    # print('k', k)\n",
    "                    dp[j] = max(dp[j], dp[j-w2[i-1]]+v2[i-1])\n",
    "                    # print('dp['+str(j)+']', dp[j])\n",
    "        # print(dp)\n",
    "    print(dp[c])"
   ]
  },
  {
   "cell_type": "code",
   "execution_count": 35,
   "id": "played-divorce",
   "metadata": {},
   "outputs": [
    {
     "name": "stdout",
     "output_type": "stream",
     "text": [
      "[1, 2, 1, 2, 2, 3]\n"
     ]
    }
   ],
   "source": [
    "# 最大升序子序列\n",
    "def longest_upper(nums):\n",
    "    dp = [1]*len(nums)\n",
    "    for i in range(n):\n",
    "        for j in range(i):\n",
    "            if nums[j] < nums[i]:\n",
    "                dp[i] = max(dp[i],dp[j]+1)\n",
    "    return dp\n",
    "list_ = [2,5,1,5,4,5]\n",
    "#print(longest_upper(list_))\n",
    "\n",
    "def lis(arr):\n",
    "    n = len(arr)\n",
    "    m = [0]*n\n",
    "    for x in range(n-2,-1,-1):\n",
    "        for y in range(n-1,x,-1):\n",
    "            if arr[x] < arr[y] and m[x] <= m[y]:\n",
    "                m[x] += 1\n",
    "        max_value = max(m)\n",
    "        result = []\n",
    "        for i in range(n):\n",
    "            if m[i] == max_value:\n",
    "                result.append(arr[i])\n",
    "                max_value -= 1\n",
    "    return result\n",
    " \n",
    "arr = [10, 22, 9, 33, 21, 50, 41, 60, 80]\n",
    "#print(lis(arr))\n",
    "                    \n",
    "                    "
   ]
  },
  {
   "cell_type": "code",
   "execution_count": 18,
   "id": "comprehensive-bradley",
   "metadata": {},
   "outputs": [
    {
     "name": "stdout",
     "output_type": "stream",
     "text": [
      "2\n"
     ]
    }
   ],
   "source": [
    "# 面积\n",
    "'''\n",
    "n,e=list(map(int,input().split()))\n",
    "w=[]\n",
    "arr_s=[]\n",
    "for i in range(n):\n",
    "    w0=list(map(int,input().split()))\n",
    "    if len(w)==0:\n",
    "        w.append(w0)\n",
    "    else:\n",
    "        s=abs((w0[0]-w[-1][0])*w[-1][1])\n",
    "        arr_s.append(s)\n",
    "        w.append([w0[0],w0[1]+w[-1][1]])\n",
    "if w[-1][0]<e:\n",
    "    s=abs((e-w[-1][0])*w[-1][1])\n",
    "    arr_s.append(s)\n",
    "#print(w)\n",
    "#print(arr_s)\n",
    "#print(sum(arr_s))\n",
    "'''\n",
    "# 身高体重\n",
    "'''\n",
    "n=int(input())\n",
    "heights=[ [i+1,h]  for i,h in enumerate(map(int,input().split()))]\n",
    "weights=list(map(int,input().split()))\n",
    "heights_sort=sorted(heights,key=lambda x:x[1])\n",
    "for i in range(1,n):\n",
    "    h_c=heights_sort[i][1]\n",
    "    h_index=heights_sort[i][0]\n",
    "    h_w=heights_sort[i][0]\n",
    "    for j in range(i-1,-1,-1):\n",
    "        if heights_sort[j][1]==h_c:\n",
    "            h_w1=heights_sort[j][0]\n",
    "            if weights[h_w1-1]>weights[h_w-1]:\n",
    "                heights_sort[j+1],heights_sort[j]=heights_sort[j],heights_sort[j+1]\n",
    "            elif weights[h_w1-1]==weights[h_w-1]:\n",
    "                if h_index<heights_sort[j][0]:\n",
    "                    heights_sort[j + 1], heights_sort[j] = heights_sort[j], heights_sort[j + 1]\n",
    "            else:\n",
    "                break\n",
    "        else:\n",
    "            break\n",
    "result=[str(i) for i,h in heights_sort]\n",
    "print(\" \".join(result))\n",
    "'''\n",
    "# 广播站（集合合并）\n",
    "\n",
    "#row_data = input().split(',')\n",
    "row_data = ['110', '110', '001']\n",
    "#print(row_data)\n",
    "length_row = len(row_data)\n",
    "list_ = []\n",
    "result = []\n",
    "mark = []\n",
    "\n",
    "for i in range(length_row):\n",
    "    list_row = []\n",
    "    for j in row_data[i]:\n",
    "        list_row.append(int(j))\n",
    "    list_.append(list_row)\n",
    "\n",
    "def findgroup(index,res):\n",
    "    for i in range(length_row):\n",
    "        if(list_[index][i] == 1):\n",
    "            if(i not in res):\n",
    "                res.append(i)\n",
    "                findgroup(i,res)\n",
    "for i in range(length_row):\n",
    "    res = []\n",
    "    if i not in mark:\n",
    "        res.clear()\n",
    "        findgroup(i,res)\n",
    "        result.append(res)\n",
    "        mark.extend(res)\n",
    "print(len(result))\n"
   ]
  },
  {
   "cell_type": "code",
   "execution_count": 16,
   "id": "tired-pursuit",
   "metadata": {},
   "outputs": [
    {
     "name": "stdout",
     "output_type": "stream",
     "text": [
      "2\n"
     ]
    }
   ],
   "source": [
    "# 编辑距离\n",
    "def editDistance(str1, str2):\n",
    "    '''\n",
    "    计算字符串str1和str2的编辑距离\n",
    "    '''\n",
    "    edit = [[i+j for j in range(len(str2)+1)] for i in range(len(str1)+1)]\n",
    "    for i in range(1,len(str1)+1):\n",
    "        for j in range(1,len(str2)+1):\n",
    "            if str1[i-1] == str2[j-1]: # 这里的[i-1], [j-1]对应原字符串的i和j\n",
    "                d = 0\n",
    "            else:\n",
    "                d = 1\n",
    "            edit[i][j] = min(edit[i-1][j]+1,edit[i][j-1]+1,edit[i-1][j-1]+d)\n",
    "    return edit[len(str1)][len(str2)]\n",
    "\n",
    "while True:\n",
    "    try:\n",
    "        print(editDistance(input(), input()))\n",
    "    except:\n",
    "        break\n"
   ]
  },
  {
   "cell_type": "code",
   "execution_count": 29,
   "id": "transsexual-trigger",
   "metadata": {},
   "outputs": [
    {
     "data": {
      "text/plain": [
       "'apmnolkjihgfedcbq'"
      ]
     },
     "execution_count": 29,
     "metadata": {},
     "output_type": "execute_result"
    }
   ],
   "source": [
    "# 反转字符串\n",
    "class Solution(object):\n",
    "    def reverseParentheses(self, s):\n",
    "        \"\"\"\n",
    "        :type s: str\n",
    "        :rtype: str\n",
    "        \"\"\"\n",
    "        if not s or \")\" not in s:\n",
    "            return s\n",
    "        \n",
    "        stack = []\n",
    "        for i, char in enumerate(s):\n",
    "            if char == \"(\":\n",
    "                stack.append(i)\n",
    "            elif char == \")\":\n",
    "                left = stack.pop()\n",
    "                right = i\n",
    "                return self.reverseParentheses(s[:left] + s[left + 1:right][::-1] + s[right + 1:])\n",
    "s = Solution()\n",
    "s.reverseParentheses(\"a(bcdefghijkl(mno)p)q\")"
   ]
  },
  {
   "cell_type": "code",
   "execution_count": 42,
   "id": "indian-green",
   "metadata": {},
   "outputs": [
    {
     "data": {
      "text/plain": [
       "False"
      ]
     },
     "execution_count": 42,
     "metadata": {},
     "output_type": "execute_result"
    }
   ],
   "source": [
    "# 请设计一个函数，用来判断在一个矩阵中是否存在一条包含某字符串所有字符的路径\n",
    "ap = [['a','b','c','e'],\n",
    "      ['s','f','c','s'],\n",
    "      ['a','d','e','e']]\n",
    "char_ = 'abfccs'\n",
    "class Solution:\n",
    "    def exist(self, board, word) -> bool:\n",
    "        def dfs(i, j, k):#i行索引；j列索引；k当前目标字符在word中的索引\n",
    "            if not 0 <= i < len(board) or not 0 <= j < len(board[0]): return False#行/列索引越界\n",
    "            elif board[i][j] != word[k]: return False #board矩阵中 当前遍历元素和 word目标元素不相等\n",
    "            elif k == len(word) - 1: return True#word的第【len-1】个索引对于的元素也找到了，word遍历完成，找到目标字符串\n",
    "            #行列索引均未越界，且board矩阵中当前遍历元素和word目标元素相等时：\n",
    "            board[i][j] = ''#board矩阵当前元素，修改成空字符，代表此元素已访问过，防止之后搜索时重复访问\n",
    "            res = dfs(i + 1, j, k + 1) or dfs(i - 1, j, k + 1) or dfs(i, j + 1, k + 1) or dfs(i, j - 1, k + 1)#对board当前符合要求的元素，进行下、上、右、左 元素的搜寻，word索引加1\n",
    "            board[i][j] = word[k]#还原当前遍历元素 至初始值\n",
    "            return res\n",
    "\n",
    "        for i in range(len(board)):#i为行索引\n",
    "            for j in range(len(board[0])):#j为列索引\n",
    "                if dfs(i, j, 0): return True#该行代码只对【dfs函数返回True】这个情况进行操作，若【dfs函数返回False】，无操作，继续对board矩阵下一个元素进行遍历。\n",
    "        return False#未搜索到目标字符串\n",
    "sou = Solution()\n",
    "sou.exist(ap,char_)"
   ]
  },
  {
   "cell_type": "code",
   "execution_count": 4,
   "id": "sapphire-conspiracy",
   "metadata": {},
   "outputs": [
    {
     "name": "stdout",
     "output_type": "stream",
     "text": [
      "57\n"
     ]
    }
   ],
   "source": [
    "def TwoSum(L , K ):\n",
    "    for i in range(len(L)):\n",
    "        if L[i] <= K:\n",
    "            for j in range(len(L)):\n",
    "                if i != j and L[i]+L[j] < K:\n",
    "                    return L[i] + L[j]\n",
    "    return -1\n",
    "L1 = [34,23,1,25,75,33,54,8]\n",
    "K1 = 60\n",
    "print(TwoSum(L1 , K1 ))"
   ]
  },
  {
   "cell_type": "code",
   "execution_count": 5,
   "id": "cheap-procurement",
   "metadata": {},
   "outputs": [],
   "source": [
    "# 01矩阵距离\n",
    "import numpy as np\n",
    "def Mat_dist(mat):\n",
    "    row = len(mat)\n",
    "    col = len(mat[0])\n",
    "    "
   ]
  },
  {
   "cell_type": "code",
   "execution_count": 6,
   "id": "hollow-swaziland",
   "metadata": {},
   "outputs": [],
   "source": [
    "# 01矩阵距离问题\n",
    "# 先将0都填入，1的点设置为无穷大\n",
    "# 然后第一次遍历，[i][j]点取值为min([i][j], [i-1][j]+1, [i][j-1]+1)\n",
    "# 然后第二次遍历，注意要反向遍历，从右到左，从下到上，[i][j]点取值为min([i][j], [i+1][j]+1, [i][j+1]+1)"
   ]
  },
  {
   "cell_type": "code",
   "execution_count": 48,
   "id": "narrow-spyware",
   "metadata": {},
   "outputs": [
    {
     "name": "stdout",
     "output_type": "stream",
     "text": [
      "5\n"
     ]
    }
   ],
   "source": [
    "# 砝码\n",
    "def fama(n,weight,nums):\n",
    "    res = set()\n",
    "    for i in range(nums[0]+1):\n",
    "        res.add(i*weight[0])\n",
    "    for i in range(1,n):\n",
    "        tmp = list(res)\n",
    "        for j in range(1,nums[i]+1):\n",
    "            for wt in tmp:#变成list在这里才能遍历;tmp是在不断增加数据的\n",
    "                res.add(wt+j*weight[i])\n",
    "    return len(res)\n",
    "n = 2\n",
    "weight = [1,2]\n",
    "nums = [2,1]\n",
    "\n",
    "print(fama(n,weight, nums))"
   ]
  },
  {
   "cell_type": "code",
   "execution_count": 58,
   "id": "studied-winter",
   "metadata": {},
   "outputs": [
    {
     "name": "stdout",
     "output_type": "stream",
     "text": [
      "5\n"
     ]
    }
   ],
   "source": [
    "#中心寻找对称字符长度\n",
    "def longp(s):\n",
    "    res = ''\n",
    "    for i in range(len(s)):\n",
    "        #先判定奇数的，从i开始左右对比\n",
    "        tmp = helper(s,i,i)\n",
    "        if len(tmp) > len(res):res = tmp\n",
    "        #再判定偶数的，从i和i+1开始对比\n",
    "        tmp = helper(s,i,i+1)\n",
    "        if len(tmp) > len(res):res = tmp\n",
    "    print(len(res))\n",
    "\n",
    "def helper(s,l,r):\n",
    "    while l >= 0 and r < len(s) and s[l] == s[r]:\n",
    "        l -= 1\n",
    "        r += 1\n",
    "    return s[l+1:r]\n",
    "longp('cabac')"
   ]
  },
  {
   "cell_type": "code",
   "execution_count": 59,
   "id": "annual-conjunction",
   "metadata": {},
   "outputs": [],
   "source": [
    "# m个苹果n个盘子问题\n",
    "def f(m,n):\n",
    "    if m < 0 or n <= 0: return 0\n",
    "    elif m==1 or n==1: return 1\n",
    "    else:\n",
    "        return f(m,n-1) + f(m-n,n)"
   ]
  },
  {
   "cell_type": "code",
   "execution_count": 62,
   "id": "cutting-oliver",
   "metadata": {},
   "outputs": [
    {
     "name": "stdout",
     "output_type": "stream",
     "text": [
      "1 2 3\n",
      "1 3 2\n",
      "2 1 3\n",
      "2 3 1\n",
      "3 2 1\n"
     ]
    }
   ],
   "source": [
    "#火车进站\n",
    "def func(n, trains):\n",
    "    res = []\n",
    "    def rec_trains(cur_idx, in_trains, out_trains):\n",
    "        # 如果原始火车列表的最后一个元素已经进站，此时只能出站，将入站列表中的火车倒序加入出站火车中\n",
    "        if trains[-1] in in_trains:\n",
    "            res.append(' '.join(out_trains + in_trains[::-1]))\n",
    "            return\n",
    "        # 如果进站列表为空，此时只能进站，进站列表加上当前火车，出站列表不变\n",
    "        elif in_trains == []:\n",
    "            rec_trains(cur_idx + 1, in_trains + [trains[cur_idx]], out_trains)\n",
    "        # 否则，就既有可能进站也有可能出站\n",
    "        else:\n",
    "            # 出站，当前火车索引不变，进站火车列表减去最后一个元素，出站列表加上进站列表刚刚出站的火车\n",
    "            rec_trains(cur_idx, in_trains[:-1], out_trains + [in_trains[-1]])\n",
    "            # 进站，当前火车索引加1，进站列表加上当前火车，出站列表不变\n",
    "            rec_trains(cur_idx + 1, in_trains + [trains[cur_idx]], out_trains)\n",
    "\n",
    "    rec_trains(0, [], [])\n",
    "    res.sort()\n",
    "    print('\\n'.join(res))\n",
    "\n",
    "if __name__ == '__main__':\n",
    "    func(3,['1','2','3'])\n"
   ]
  },
  {
   "cell_type": "code",
   "execution_count": 70,
   "id": "dramatic-tracker",
   "metadata": {},
   "outputs": [
    {
     "name": "stdout",
     "output_type": "stream",
     "text": [
      "False\n"
     ]
    }
   ],
   "source": [
    "# 数字3和5分组, 查看某一组数字能不能挑选相加凑出来target\n",
    "def search(ll, target):\n",
    "    if target == 0:  #目标降为0\n",
    "        return True\n",
    "\n",
    "    if not ll:  #空集\n",
    "        return False\n",
    "\n",
    "    return search(ll[1:], target) or search(ll[1:], target - ll[0])\n",
    "\n",
    "print(search([1,2,3,4,5],16))"
   ]
  },
  {
   "cell_type": "code",
   "execution_count": 2,
   "id": "killing-northern",
   "metadata": {},
   "outputs": [
    {
     "name": "stdout",
     "output_type": "stream",
     "text": [
      "-0.7\n"
     ]
    }
   ],
   "source": [
    "# 二分法开立方\n",
    "num = -0.3\n",
    "if num < 0:\n",
    "    pos, num = 0, -num\n",
    "else:\n",
    "    pos = 1\n",
    "flag = False\n",
    "if num < 1:\n",
    "    flag, num = True, 1/num\n",
    "mid = num/2\n",
    "hi = num\n",
    "lo = 0\n",
    "# from decimal import Decimal, getcontext\n",
    "while True:\n",
    "    if hi-lo < 0.001:\n",
    "        if flag:\n",
    "            mid = 1/mid\n",
    "        if pos:\n",
    "            print('%.1f' % mid)\n",
    "        else:\n",
    "            print('-%.1f' % mid)\n",
    "        break\n",
    "    elif mid*mid*mid < num:\n",
    "        lo = mid\n",
    "        mid = (mid+hi)/2\n",
    "    elif mid*mid*mid > num:\n",
    "        hi = mid\n",
    "        mid = (mid+lo)/2"
   ]
  },
  {
   "cell_type": "code",
   "execution_count": 59,
   "id": "afraid-conversion",
   "metadata": {},
   "outputs": [
    {
     "data": {
      "text/plain": [
       "2"
      ]
     },
     "execution_count": 59,
     "metadata": {},
     "output_type": "execute_result"
    }
   ],
   "source": [
    "# class Solution:\n",
    "#     def strStr(self, haystack: str, needle: str) -> int:\n",
    "#         if haystack == needle:\n",
    "#             return 0\n",
    "#         for i in range(len(haystack) - len(needle)):\n",
    "#             if haystack[i:i+len(needle)] == needle:\n",
    "#                 return i\n",
    "#         return -1\n",
    "    \n",
    "class Solution:\n",
    "    def strStr(self, haystack: str, needle: str) -> int:\n",
    "        \"\"\"字符串相等，提前返0\"\"\"\n",
    "        if needle == haystack: return 0\n",
    "        \"\"\"按差值长度遍历，切片判断\"\"\"\n",
    "        ln = len(needle)\n",
    "        for i in range(len(haystack)-ln+1):\n",
    "            if haystack[i: i + ln] == needle:\n",
    "                return i\n",
    "                break   # 没有也可以\n",
    "            i += 1\n",
    "        return -1\n",
    "\n",
    "S = Solution()\n",
    "S.strStr(\"abc\",\"c\")"
   ]
  },
  {
   "cell_type": "code",
   "execution_count": 35,
   "id": "beginning-latest",
   "metadata": {},
   "outputs": [
    {
     "data": {
      "text/plain": [
       "[1, 2, 3, 4, 6, 7]"
      ]
     },
     "execution_count": 35,
     "metadata": {},
     "output_type": "execute_result"
    }
   ],
   "source": [
    "a = [1,2,3,4,5,6,7]\n",
    "a[:4]+a[5:]"
   ]
  }
 ],
 "metadata": {
  "kernelspec": {
   "display_name": "Python 3",
   "language": "python",
   "name": "python3"
  },
  "language_info": {
   "codemirror_mode": {
    "name": "ipython",
    "version": 3
   },
   "file_extension": ".py",
   "mimetype": "text/x-python",
   "name": "python",
   "nbconvert_exporter": "python",
   "pygments_lexer": "ipython3",
   "version": "3.7.7"
  }
 },
 "nbformat": 4,
 "nbformat_minor": 5
}
