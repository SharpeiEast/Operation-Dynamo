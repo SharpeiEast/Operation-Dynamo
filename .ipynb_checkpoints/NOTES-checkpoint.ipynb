{
 "cells": [
  {
   "cell_type": "code",
   "execution_count": 31,
   "id": "arranged-computer",
   "metadata": {},
   "outputs": [
    {
     "name": "stdout",
     "output_type": "stream",
     "text": [
      "8\n"
     ]
    },
    {
     "data": {
      "text/plain": [
       "'a'"
      ]
     },
     "execution_count": 31,
     "metadata": {},
     "output_type": "execute_result"
    }
   ],
   "source": [
    "a='hello nowcoder'\n",
    "b=a.split(\" \")[-1] #以空格为标志分割，输入list\n",
    "print(len(b))\n",
    "\n",
    "ord('a') # 返回ASCII码\n",
    "chr(97) # 返回ASCII码对应的字符"
   ]
  },
  {
   "cell_type": "code",
   "execution_count": 27,
   "id": "technical-trance",
   "metadata": {
    "scrolled": true
   },
   "outputs": [
    {
     "name": "stdout",
     "output_type": "stream",
     "text": [
      "[2, 2, 3, 3, 5]\n"
     ]
    }
   ],
   "source": [
    "import math\n",
    "def is_prime_number(num):\n",
    "    if num == 1:\n",
    "        return False\n",
    "    for i in range(2, int(math.sqrt(num)) + 1):\n",
    "        if num % i == 0:\n",
    "            return False\n",
    "    return True\n",
    "num = 180\n",
    "p_list = []\n",
    "i = 2\n",
    "while is_prime_number(num) != True:\n",
    "    while i <= math.sqrt(num) +1:\n",
    "        if num % i == 0 and is_prime_number(i):\n",
    "            num = num / i\n",
    "            p_list.append(i)\n",
    "            i = 1\n",
    "        i += 1\n",
    "p_list.append(int(num))\n",
    "print(p_list)"
   ]
  },
  {
   "cell_type": "code",
   "execution_count": 20,
   "id": "ahead-editing",
   "metadata": {},
   "outputs": [
    {
     "name": "stdout",
     "output_type": "stream",
     "text": [
      "1\n"
     ]
    }
   ],
   "source": [
    "#合并记录\n",
    "n= int(input())\n",
    "d = {}\n",
    "for i in range(n):\n",
    "    ab = input().split(\" \")\n",
    "    a,b = int(ab[0]), int(ab[1])  #键可以用整数，不一定字符串，用了整数还可以排序\n",
    "    if a not in d:\n",
    "        d[a] = b\n",
    "    else:\n",
    "        d[a] = d[a] + b\n",
    "for i in sorted(d.keys()):\n",
    "    print(i,d[i])\n",
    "#for p,q in d.items():\n",
    "#    print(p,q)"
   ]
  },
  {
   "cell_type": "code",
   "execution_count": 10,
   "id": "caroline-baker",
   "metadata": {},
   "outputs": [
    {
     "data": {
      "text/plain": [
       "2"
      ]
     },
     "execution_count": 10,
     "metadata": {},
     "output_type": "execute_result"
    }
   ],
   "source": [
    "num = input() \n",
    "res = '' \n",
    "n = len(num) \n",
    "for i in range(n-1,-1,-1): \n",
    "    if num[i] not in res: res = res+num[i] \n",
    "print(res)"
   ]
  },
  {
   "cell_type": "code",
   "execution_count": 32,
   "id": "automated-welcome",
   "metadata": {},
   "outputs": [
    {
     "name": "stdout",
     "output_type": "stream",
     "text": [
      "·\n",
      "1\n"
     ]
    }
   ],
   "source": [
    "def fun(string):\n",
    "    string_list=list(string)\n",
    "    temp=[]\n",
    "    for i in string_list:\n",
    "        if i not in temp:\n",
    "            temp.append(i)\n",
    "\n",
    "    print(len(temp))\n",
    "\n",
    "\n",
    "#fun(input())"
   ]
  },
  {
   "cell_type": "code",
   "execution_count": 33,
   "id": "reasonable-warehouse",
   "metadata": {},
   "outputs": [
    {
     "name": "stdout",
     "output_type": "stream",
     "text": [
      "['1', 'a']\n"
     ]
    }
   ],
   "source": [
    "a = ['1','a']\n",
    "a.sort()\n",
    "print(a)"
   ]
  },
  {
   "cell_type": "code",
   "execution_count": null,
   "id": "surprising-adrian",
   "metadata": {},
   "outputs": [],
   "source": []
  }
 ],
 "metadata": {
  "kernelspec": {
   "display_name": "Python 3",
   "language": "python",
   "name": "python3"
  },
  "language_info": {
   "codemirror_mode": {
    "name": "ipython",
    "version": 3
   },
   "file_extension": ".py",
   "mimetype": "text/x-python",
   "name": "python",
   "nbconvert_exporter": "python",
   "pygments_lexer": "ipython3",
   "version": "3.7.7"
  }
 },
 "nbformat": 4,
 "nbformat_minor": 5
}
