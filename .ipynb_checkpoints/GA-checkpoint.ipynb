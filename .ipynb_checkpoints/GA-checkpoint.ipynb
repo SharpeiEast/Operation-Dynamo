{
 "cells": [
  {
   "cell_type": "code",
   "execution_count": 2,
   "id": "appropriate-division",
   "metadata": {},
   "outputs": [
    {
     "data": {
      "text/plain": [
       "[50, 20, 20, 2, 1]"
      ]
     },
     "execution_count": 2,
     "metadata": {},
     "output_type": "execute_result"
    }
   ],
   "source": [
    "# 找硬币\n",
    "\n",
    "def minCoins(V):\n",
    "    available = [1, 2, 5, 10, 20, 50, 100, 500, 1000]\n",
    "    result = []\n",
    "    for i in available[::-1]:\n",
    "        while (V >= i):\n",
    "            V -= i\n",
    "            result.append(i)\n",
    "    \n",
    "    return result\n",
    "\n",
    "V = 93\n",
    "minCoins(V)"
   ]
  },
  {
   "cell_type": "code",
   "execution_count": 1,
   "id": "caring-garden",
   "metadata": {},
   "outputs": [
    {
     "name": "stdout",
     "output_type": "stream",
     "text": [
      "(3, 4)\n",
      "(5, 7)\n",
      "(8, 9)\n"
     ]
    }
   ],
   "source": [
    "# 寻找不冲突的活动集合\n",
    "# 为了达到活动尽可能多的目的，排序按照结束时间排序\n",
    "\n",
    "def printMaxActivities(acts):\n",
    "    n = len(acts)\n",
    "    sort_acts = sorted(acts, key=lambda x: x[1])\n",
    "    prev = sort_acts[0]\n",
    "#     print(prev)\n",
    "    for curr in sort_acts:\n",
    "        if curr[0] >= prev[1]:\n",
    "            print(curr)\n",
    "            prev = curr\n",
    "            \n",
    "acts = [(0,6),(3,4),(1,2),(5,7),(8,9),(5,9)]\n",
    "printMaxActivities(acts)"
   ]
  },
  {
   "cell_type": "code",
   "execution_count": 11,
   "id": "billion-invasion",
   "metadata": {},
   "outputs": [
    {
     "data": {
      "text/plain": [
       "3"
      ]
     },
     "execution_count": 11,
     "metadata": {},
     "output_type": "execute_result"
    }
   ],
   "source": [
    "# 最少站台数\n",
    "# 给出列车进站和出站的时间，求满足需求的最少停靠站台数\n",
    "# 其实这时候每辆列车的入站，出站时间不一定匹配，只要+1，-1就足够\n",
    "\n",
    "def findPlatform(arr, dep, n):\n",
    " \n",
    "    arr.sort()\n",
    "    dep.sort()\n",
    "  \n",
    "    # plat_needed indicates number of platforms needed at a time\n",
    "    plat_needed = 0\n",
    "    result = 0\n",
    "    i = 0\n",
    "    j = 0\n",
    "  \n",
    "    # Similar to merge in merge sort to process all events in sorted order\n",
    "    while (i < n and j < n):\n",
    "        if (arr[i] < dep[j]):\n",
    "            plat_needed += 1\n",
    "            i += 1\n",
    "  \n",
    "            result = max(result, plat_needed)\n",
    "  \n",
    "        else:\n",
    "            plat_needed -= 1\n",
    "            j += 1\n",
    "         \n",
    "    return result\n",
    "\n",
    "arr = [900, 940, 950, 1100, 1500, 1800]\n",
    "dep = [910, 1200, 1120, 1130, 1900, 2000]\n",
    "n = len(arr)\n",
    "findPlatform(arr, dep, n)"
   ]
  },
  {
   "cell_type": "code",
   "execution_count": 4,
   "id": "approved-canal",
   "metadata": {},
   "outputs": [
    {
     "name": "stdout",
     "output_type": "stream",
     "text": [
      "Smallest number is 108"
     ]
    }
   ],
   "source": [
    "# 最小数字\n",
    "# 给定未知数的位数和所有位数数字相加的和，求满足要求的最小数字\n",
    "# Ex sum = 9，n=2 -> 18\n",
    "\n",
    "def findSmallest(m, s):\n",
    " \n",
    "    if (s == 0):\n",
    "        if(m == 1) :\n",
    "              print(\"Smallest number is 0\") \n",
    "        else : \n",
    "              print(\"Not possible\")\n",
    "        return\n",
    "  \n",
    "    # 9999\n",
    "    if (s > 9 * m):\n",
    "        print(\"Not possible\")\n",
    "        return\n",
    "  \n",
    "    res = [0 for i in range(m + 1)]\n",
    "  \n",
    "    # deduct sum by one to account for cases later \n",
    "    # (There must be 1 left for the most significant digit)\n",
    "    s -= 1\n",
    "  \n",
    "    for i in range(m-1,0,-1):\n",
    "     \n",
    "        # If sum is still greater than 9, digit must be 9.\n",
    "        if (s > 9):\n",
    "            res[i] = 9\n",
    "            s -= 9\n",
    "        else:\n",
    "            res[i] = s\n",
    "            s = 0\n",
    "  \n",
    "    res[0] = s + 1\n",
    "  \n",
    "    print(\"Smallest number is \",end=\"\")\n",
    "    for i in range(m):\n",
    "        print(res[i],end=\"\")\n",
    "\n",
    "s = 9\n",
    "m = 3\n",
    "findSmallest(m, s)"
   ]
  },
  {
   "cell_type": "code",
   "execution_count": 5,
   "id": "described-composer",
   "metadata": {},
   "outputs": [],
   "source": [
    "# 给定一个数组，从中组成两个数字，要求计算这些可选的数字中，两数相加和最小的\n",
    "\n",
    "import heapq\n",
    "def minSum(a):\n",
    "    heapq.heapify(a)\n",
    "    num1 = 0\n",
    "    num2 = 0\n",
    "    while a:\n",
    "        num1 = num1 * 10 + heapq.heappop(a)\n",
    "        if a:\n",
    "            num2 = num2 * 10 + heapq.heappop(a)\n",
    "    \n",
    "    return num1 + num2  "
   ]
  },
  {
   "cell_type": "code",
   "execution_count": 9,
   "id": "potential-channel",
   "metadata": {},
   "outputs": [
    {
     "data": {
      "text/plain": [
       "82"
      ]
     },
     "execution_count": 9,
     "metadata": {},
     "output_type": "execute_result"
    }
   ],
   "source": [
    "# a = [6, 8, 4, 5, 2, 3]\n",
    "# minSum(a)\n",
    "a = [5, 3, 0, 7, 4]\n",
    "minSum(a)"
   ]
  },
  {
   "cell_type": "code",
   "execution_count": 10,
   "id": "subjective-village",
   "metadata": {},
   "outputs": [
    {
     "data": {
      "text/plain": [
       "12"
      ]
     },
     "execution_count": 10,
     "metadata": {},
     "output_type": "execute_result"
    }
   ],
   "source": [
    "# 连接绳子，输入一个list，各元素为绳子长度，任意两根相连的cost是二者的和，问将list中所有绳子连成一根最低cost\n",
    "# 解法是每次取最短的两根相连\n",
    "\n",
    "import heapq\n",
    "def ropeCost(ropes):\n",
    "    heapq.heapify(ropes)\n",
    "    total = 0\n",
    "    \n",
    "    while ropes:\n",
    "        first = heapq.heappop(ropes)\n",
    "        second = heapq.heappop(ropes)\n",
    "        local = first + second\n",
    "        total += local\n",
    "        if not ropes:\n",
    "            break\n",
    "        heapq.heappush(ropes, local)\n",
    "    return total  "
   ]
  }
 ],
 "metadata": {
  "kernelspec": {
   "display_name": "Python 3",
   "language": "python",
   "name": "python3"
  },
  "language_info": {
   "codemirror_mode": {
    "name": "ipython",
    "version": 3
   },
   "file_extension": ".py",
   "mimetype": "text/x-python",
   "name": "python",
   "nbconvert_exporter": "python",
   "pygments_lexer": "ipython3",
   "version": "3.7.7"
  }
 },
 "nbformat": 4,
 "nbformat_minor": 5
}
