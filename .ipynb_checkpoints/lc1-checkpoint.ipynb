{
 "cells": [
  {
   "cell_type": "code",
   "execution_count": 1,
   "id": "super-chamber",
   "metadata": {},
   "outputs": [
    {
     "data": {
      "text/plain": [
       "321"
      ]
     },
     "execution_count": 1,
     "metadata": {},
     "output_type": "execute_result"
    }
   ],
   "source": [
    "# 反转数字\n",
    "class Solution:\n",
    "    def reverse(self, x):\n",
    "        chars = list(str(x))    # 将输入数字转换成为字符串列表\n",
    "        if x < 0:\n",
    "            chars.remove('-')   # 去除负号\n",
    "            chars.reverse()     # 逆序\n",
    "            r = ''.join(chars)  # 合并成字符串\n",
    "            r = - int(r)     # 返回结果\n",
    "\n",
    "        else:\n",
    "            chars.reverse()     # 逆序\n",
    "            r = ''.join(chars)  # 合并成字符串\n",
    "            r = int(r)       # 返回结果\n",
    "\n",
    "        if not -pow(2, 31) <= r <= pow(2, 31) - 1:\n",
    "            r = 0\n",
    "        return r\n",
    "S = Solution()\n",
    "S.reverse(123)"
   ]
  },
  {
   "cell_type": "code",
   "execution_count": 5,
   "id": "medieval-engagement",
   "metadata": {},
   "outputs": [
    {
     "data": {
      "text/plain": [
       "[1, 2, 3, 5]"
      ]
     },
     "execution_count": 5,
     "metadata": {},
     "output_type": "execute_result"
    }
   ],
   "source": [
    "# 加一\n",
    "\n",
    "class Solution:\n",
    "    def plusOne(self, digits):\n",
    "\n",
    "        idx = len(digits)-1\n",
    "        \n",
    "        while True:\n",
    "            digits[idx] += 1                # 当前位+1，这里的1既可以代表进位也可以代表数值+1\n",
    "            carry = digits[idx] // 10       # 获取进位\n",
    "\n",
    "            digits[idx] %= 10               # 更新当前位数值\n",
    "            idx -= 1                        # 下标前移\n",
    "\n",
    "            if not carry or idx < 0:        # 如果进位为零或者下标越界，跳出循环\n",
    "                break\n",
    "\n",
    "        if carry:                           # 如果进位不为零，需要增加一个最高位\n",
    "            digits.insert(0, 1)             # 在列表0位置处插入1\n",
    "\n",
    "        return digits\n",
    "    \n",
    "S = Solution()\n",
    "S.plusOne([1,2,3,4])"
   ]
  }
 ],
 "metadata": {
  "kernelspec": {
   "display_name": "Python 3",
   "language": "python",
   "name": "python3"
  },
  "language_info": {
   "codemirror_mode": {
    "name": "ipython",
    "version": 3
   },
   "file_extension": ".py",
   "mimetype": "text/x-python",
   "name": "python",
   "nbconvert_exporter": "python",
   "pygments_lexer": "ipython3",
   "version": "3.7.7"
  }
 },
 "nbformat": 4,
 "nbformat_minor": 5
}
