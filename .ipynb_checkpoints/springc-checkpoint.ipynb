{
 "cells": [
  {
   "cell_type": "code",
   "execution_count": 8,
   "id": "0f527ea8",
   "metadata": {},
   "outputs": [
    {
     "ename": "SyntaxError",
     "evalue": "invalid syntax (<ipython-input-8-0dee79465e38>, line 15)",
     "output_type": "error",
     "traceback": [
      "\u001b[1;36m  File \u001b[1;32m\"<ipython-input-8-0dee79465e38>\"\u001b[1;36m, line \u001b[1;32m15\u001b[0m\n\u001b[1;33m    dp[][] = min(max())\u001b[0m\n\u001b[1;37m       ^\u001b[0m\n\u001b[1;31mSyntaxError\u001b[0m\u001b[1;31m:\u001b[0m invalid syntax\n"
     ]
    }
   ],
   "source": [
    "# building_&_egg\n",
    "\n",
    "# https://zhuanlan.zhihu.com/p/401503400\n",
    "\n",
    "def layer_egg(n,m): # n layers, m eggs\n",
    "    dp = [[-1] * m for _ in range(n)]\n",
    "    for j in range(n):\n",
    "        dp[j][1] = j\n",
    "    for i in range(m):\n",
    "        dp[0][i] = 0\n",
    "        dp[1][i] = 0\n",
    "    for p in range(2, n):\n",
    "        for q in range(2, m):\n",
    "            for k in range(2, p):\n",
    "                dp[][] = min(max())\n",
    "    return dp\n",
    "\n",
    "print(layer_egg(8,5))"
   ]
  },
  {
   "cell_type": "code",
   "execution_count": 1,
   "id": "63fa57e1",
   "metadata": {},
   "outputs": [
    {
     "name": "stdout",
     "output_type": "stream",
     "text": [
      "[1, 2, 3, 4, 5, 6, 7, 8, 9]\n"
     ]
    }
   ],
   "source": [
    "# merge_sort\n",
    "\n",
    "def merge(nums):\n",
    "    if len(nums) <=1:\n",
    "        return nums\n",
    "    else:\n",
    "        mid = len(nums) // 2\n",
    "        left = nums[:mid]\n",
    "        right = nums[mid:]\n",
    "#         return merge(left) + merge(right)\n",
    "    return merge_oper(merge(left), merge(right))\n",
    "    \n",
    "def merge_oper(left, right):\n",
    "    merge_list = []\n",
    "    while left and right:\n",
    "        if left[0] <= right[0]:\n",
    "            merge_list.append(left.pop(0))\n",
    "        else:\n",
    "            merge_list.append(right.pop(0))\n",
    "    if left:\n",
    "        merge_list += left\n",
    "\n",
    "    if right:\n",
    "        merge_list += right\n",
    "    return merge_list\n",
    "\n",
    "def merge_reverse(nums):\n",
    "    if len(nums)<2:\n",
    "        return nums\n",
    "    else:\n",
    "        mid = len(nums) // 2\n",
    "        left = nums[mid:]\n",
    "        right = nums[:mid]\n",
    "        return merge_reverse(left) + merge_reverse(right)\n",
    "def quick_sort(nums):\n",
    "    if len(nums) < 2:\n",
    "        return nums\n",
    "    mid = len(nums) // 2 \n",
    "    mid_va = nums[mid]\n",
    "    nums.pop(mid)\n",
    "#     nums.remove(mid_va)\n",
    "    left = []\n",
    "    right = []\n",
    "    for i in nums:\n",
    "        if i <= mid_va:\n",
    "            left.append(i)\n",
    "        else:\n",
    "            right.append(i)\n",
    "    return quick_sort(left) + [mid_va] + quick_sort(right)\n",
    "        \n",
    "# def draw_line(n,str_):\n",
    "#     if str_:\n",
    "#         print('\\n' + '-' * n + ' ' + str(str_) + '\\n')\n",
    "#     else:\n",
    "#         print('-' * n)\n",
    "\n",
    "\n",
    "a = [9,8,7,6,5,2,4,3,1]\n",
    "# print(merge(a))\n",
    "# print(merge_reverse(a))\n",
    "print(quick_sort(a))\n",
    "    "
   ]
  },
  {
   "cell_type": "code",
   "execution_count": 44,
   "id": "50f6ddf0",
   "metadata": {},
   "outputs": [
    {
     "name": "stdout",
     "output_type": "stream",
     "text": [
      "3 22 16 37 99 45 23 \n",
      "no such value\n",
      "99\n"
     ]
    }
   ],
   "source": [
    "# binary search tree\n",
    "\n",
    "class treenode:\n",
    "    def __init__(self, val):\n",
    "        self.val = val\n",
    "        self.left = None\n",
    "        self.right = None\n",
    "\n",
    "class operations:\n",
    "    def insert(self, root, val):\n",
    "        if root == None:\n",
    "            root = treenode(val)\n",
    "        elif val > root.val:\n",
    "            root.right = self.insert(root.right, val)\n",
    "        elif val <= root.val:\n",
    "            root.left = self.insert(root.left, val)\n",
    "        return root\n",
    "    def query_tree(self, root, val):\n",
    "        if root == None:\n",
    "            return 'no such value'\n",
    "        elif root.val == val:\n",
    "            return val\n",
    "        elif root.val > val:\n",
    "            return self.query_tree(root.left, val)\n",
    "        elif root.val <= val:\n",
    "            return self.query_tree(root.right, val)\n",
    "    def findmin(self,root):\n",
    "        if root.left == None:\n",
    "            return root.val\n",
    "        else:\n",
    "            return self.findmin(root.left)\n",
    "    def findmax(self,root):\n",
    "        if root.right == None:\n",
    "            return root.val\n",
    "        else:\n",
    "            return self.findmax(root.right)\n",
    "    def delete_node(self,root,val):\n",
    "        if root == None:\n",
    "            return \n",
    "        elif root.val > val:\n",
    "            root.left = self.delete_node(root.left, val)\n",
    "        elif root.val <= val:\n",
    "            root.right = self.delete_node(root.right, val)\n",
    "        if root.val == val:\n",
    "            if root.left and root.right:\n",
    "                temp = self.findmin(root.right)\n",
    "                root.val = temp.val\n",
    "                root.right = self.delete_node(root.right,temp.val)\n",
    "            elif root.right == None:\n",
    "                root = root.left\n",
    "            elif root.left == None:\n",
    "                root = root.right\n",
    "            else:\n",
    "                root = None\n",
    "        return root\n",
    "    def print_pre(self, root):\n",
    "        if root == None:\n",
    "            return\n",
    "        else:\n",
    "#             print(root.val, end = ' ')\n",
    "            self.print_pre(root.left)\n",
    "            print(root.val, end = ' ')\n",
    "            self.print_pre(root.right)\n",
    "#             print(root.val, end = ' ')\n",
    "\n",
    "# nums = [3,4,2,1,5,7,6,8,9,10]\n",
    "nums = [23,16,3, 22, 45, 37, 99]\n",
    "root = None\n",
    "op = operations()\n",
    "for i in nums:\n",
    "    root = op.insert(root, i)\n",
    "op.print_pre(root)\n",
    "print('')\n",
    "print(op.query_tree(root, 1))\n",
    "print(op.findmax(root))\n",
    "# root = op.delete_node(root, 11)\n",
    "# op.print_pre(root)\n",
    "# print(op.findmax(root))"
   ]
  },
  {
   "cell_type": "code",
   "execution_count": 37,
   "id": "81779701",
   "metadata": {},
   "outputs": [
    {
     "data": {
      "text/plain": [
       "[1, 2, 3, 5]"
      ]
     },
     "execution_count": 37,
     "metadata": {},
     "output_type": "execute_result"
    }
   ],
   "source": [
    "a = [1,2,3,4,5]\n",
    "b = [1,2,3,4]\n",
    "# al, bl = len(a), len(b)\n",
    "# b.append(a.pop(3))\n",
    "# a.pop(3)\n",
    "a.remove(4)\n",
    "a"
   ]
  },
  {
   "cell_type": "code",
   "execution_count": 38,
   "id": "4b590b03",
   "metadata": {},
   "outputs": [
    {
     "data": {
      "text/plain": [
       "1"
      ]
     },
     "execution_count": 38,
     "metadata": {},
     "output_type": "execute_result"
    }
   ],
   "source": [
    "2//2"
   ]
  }
 ],
 "metadata": {
  "kernelspec": {
   "display_name": "Python 3",
   "language": "python",
   "name": "python3"
  },
  "language_info": {
   "codemirror_mode": {
    "name": "ipython",
    "version": 3
   },
   "file_extension": ".py",
   "mimetype": "text/x-python",
   "name": "python",
   "nbconvert_exporter": "python",
   "pygments_lexer": "ipython3",
   "version": "3.8.8"
  }
 },
 "nbformat": 4,
 "nbformat_minor": 5
}
