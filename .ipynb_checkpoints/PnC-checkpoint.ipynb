{
 "cells": [
  {
   "cell_type": "markdown",
   "id": "political-massage",
   "metadata": {},
   "source": [
    "L2-L4\n",
    "决策模型\n",
    "马尔可夫模型\n",
    "数学\n",
    "路口博弈\n",
    "二次优化算法\n",
    "局部多项式算法，平滑处理\n",
    "全局规划算法\n",
    "控制算法（k2，PID，PC等）"
   ]
  }
 ],
 "metadata": {
  "kernelspec": {
   "display_name": "Python 3",
   "language": "python",
   "name": "python3"
  },
  "language_info": {
   "codemirror_mode": {
    "name": "ipython",
    "version": 3
   },
   "file_extension": ".py",
   "mimetype": "text/x-python",
   "name": "python",
   "nbconvert_exporter": "python",
   "pygments_lexer": "ipython3",
   "version": "3.7.7"
  }
 },
 "nbformat": 4,
 "nbformat_minor": 5
}
