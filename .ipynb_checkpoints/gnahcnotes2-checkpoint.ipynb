{
 "cells": [
  {
   "cell_type": "code",
   "execution_count": 38,
   "id": "technological-programmer",
   "metadata": {},
   "outputs": [
    {
     "data": {
      "text/plain": [
       "5"
      ]
     },
     "execution_count": 38,
     "metadata": {},
     "output_type": "execute_result"
    }
   ],
   "source": [
    "# 二分搜索\n",
    "def binary_search(nums, target):\n",
    "    if not nums:\n",
    "        return -1\n",
    "    left, right = 0, len(nums) - 1\n",
    "    while left + 1 < right:\n",
    "        mid = left + (right - left) // 2\n",
    "        if nums[mid] < target:\n",
    "            left = mid\n",
    "        elif nums[mid] > target:\n",
    "            right = mid\n",
    "        elif nums[mid] == target:\n",
    "            return mid\n",
    "    if nums[left] == target:\n",
    "        return left\n",
    "    if nums[right] == target:\n",
    "        return right\n",
    "    return -1\n",
    "# binary_search([1,2,3,4,5,6,7],1)\n",
    "def search_rota_min(alist):\n",
    "    if len(alist) == 0:\n",
    "        return -1    \n",
    "    left, right = 0, len(alist) - 1\n",
    "    while left + 1 < right: \n",
    "        if (alist[left] < alist[right]):\n",
    "            return alist[left];\n",
    "        mid = left + (right - left) // 2\n",
    "        if (alist[mid] > alist[left]):\n",
    "            left = mid \n",
    "        else:\n",
    "            right = mid\n",
    "    if alist[left] < alist[right]:\n",
    "        return alist[left]\n",
    "    if alist[left] > alist[right]:\n",
    "        return alist[right]\n",
    "    return -1\n",
    "# search([1,2,3,4,5,6,7,8,0])\n",
    "def serach_rota_target(nums, target):\n",
    "    if not nums:\n",
    "        return -1\n",
    "    left, right = 0, len(nums) - 1\n",
    "    while left + 1 < right:\n",
    "        mid = left + (right - left) // 2\n",
    "        if nums[mid] == target:\n",
    "            return mid\n",
    "        elif nums[mid] > nums[left]:\n",
    "            if target <= nums[mid] and target >= nums[left]:\n",
    "                right = mid\n",
    "            else:\n",
    "                left = mid\n",
    "        else:\n",
    "            if target <= nums[right] and target >= nums[mid]:\n",
    "                left = mid\n",
    "            else:\n",
    "                right = mid\n",
    "    if nums[left] == target:\n",
    "        return left\n",
    "    if nums[right] == target:\n",
    "        return right\n",
    "    return -1\n",
    "# serach_rota_target([5,6,7,8,9,1,2,3,4], 9)  \n",
    "def search_rank(nums, insert):\n",
    "    if len(nums) == 0:\n",
    "        return 0\n",
    "    left, right = 0, len(nums) - 1\n",
    "    while left + 1 < right:\n",
    "        mid = left + (right - left) // 2\n",
    "        if nums[mid] == insert:\n",
    "            return mid\n",
    "        elif nums[mid] < insert:\n",
    "            left = mid\n",
    "        else:\n",
    "            right = mid\n",
    "    if nums[left] >= insert:\n",
    "#         print(left, right)\n",
    "        return left\n",
    "    if nums[right] >= insert:\n",
    "        return right\n",
    "    return right + 1\n",
    "search_rank([1,2,3,4,5,6,7],5.9)\n",
    "# 这个规则一番搜索后只left和right是相邻的两个id，也就是说如果left对应的nums[left]大于等于插入值"
   ]
  },
  {
   "cell_type": "code",
   "execution_count": 59,
   "id": "political-hobby",
   "metadata": {},
   "outputs": [
    {
     "data": {
      "text/plain": [
       "[1, 2, 3, 4, 5, 6, 7, 8]"
      ]
     },
     "execution_count": 59,
     "metadata": {},
     "output_type": "execute_result"
    }
   ],
   "source": [
    "# 二分逆序，链表也会用\n",
    "def binary_reverse(nums):\n",
    "    if len(nums) <= 1:\n",
    "        return nums\n",
    "    mid = len(nums) // 2\n",
    "    left = nums[:mid]\n",
    "    right = nums[mid:]\n",
    "    return binary_reverse(right) + binary_reverse(left)\n",
    "# binary_reverse([1,2,3,4,5,6,7])\n",
    "# 二分奇偶\n",
    "def binary_odd_even(nums):\n",
    "    if len(nums) <= 2:\n",
    "        return nums\n",
    "    mid = len(nums) // 2\n",
    "    mid2 = mid // 2\n",
    "    left = nums[:mid2] + nums[mid:mid + mid2]\n",
    "    right = nums[mid2:mid] + nums[mid+mid2:]\n",
    "    return binary_odd_even(left) + binary_odd_even(right)\n",
    "# 归并排序\n",
    "def merge_sort(nums):\n",
    "    if len(nums) < 2:\n",
    "        return nums\n",
    "    mid = len(nums) // 2\n",
    "    left = nums[:mid]\n",
    "    right = nums[mid:]\n",
    "    return merge(merge_sort(left), merge_sort(right))\n",
    "def merge(left, right):\n",
    "    result = []\n",
    "    while left and right:\n",
    "        if left[0] < right[0]:\n",
    "            result.append(left.pop(0))\n",
    "        else:\n",
    "            result.append(right.pop(0))\n",
    "    while left:\n",
    "        result.append(left.pop(0))\n",
    "    while right:\n",
    "        result.append(right.pop(0))\n",
    "    return result\n",
    "# merge_sort([2,4,6,7,1,3,5,8])"
   ]
  },
  {
   "cell_type": "markdown",
   "id": "historical-magazine",
   "metadata": {},
   "source": [
    "### 两个乱序的list求交集，只能先排序，然后双指针法"
   ]
  },
  {
   "cell_type": "code",
   "execution_count": 63,
   "id": "threaded-genesis",
   "metadata": {},
   "outputs": [
    {
     "data": {
      "text/plain": [
       "[1, 2, 3, 4, 5, 6, 7, 8]"
      ]
     },
     "execution_count": 63,
     "metadata": {},
     "output_type": "execute_result"
    }
   ],
   "source": [
    "# 快排\n",
    "def quick_sort(nums):\n",
    "    if len(nums) < 2:\n",
    "        return nums\n",
    "    mid = len(nums) // 2\n",
    "    mid_va = nums.pop(mid)\n",
    "    left = []\n",
    "    right = []\n",
    "    for i in nums:\n",
    "        if i < mid_va:  # 这个地方小心，是中值，不是中间值的id\n",
    "            left.append(i)\n",
    "        else:\n",
    "            right.append(i)\n",
    "    return quick_sort(left) + [mid_va] + quick_sort(right)\n",
    "\n",
    "quick_sort([2,4,6,7,1,3,5,8])"
   ]
  },
  {
   "cell_type": "code",
   "execution_count": 64,
   "id": "economic-attempt",
   "metadata": {},
   "outputs": [
    {
     "data": {
      "text/plain": [
       "6"
      ]
     },
     "execution_count": 64,
     "metadata": {},
     "output_type": "execute_result"
    }
   ],
   "source": [
    "# 确认乱序数组中最后一个数字的大小排名\n",
    "def partition(nums,l,r):\n",
    "    low = l\n",
    "    while l < r:\n",
    "        if nums[l] < nums[r]:\n",
    "            nums[l], nums[low] = nums[low], nums[l]\n",
    "            low += 1\n",
    "        l += 1\n",
    "    nums[low], nums[r] = nums[r], nums[low]\n",
    "    return low  # 是id不是排名，也就是排名需要id+1"
   ]
  },
  {
   "cell_type": "code",
   "execution_count": 73,
   "id": "packed-speaker",
   "metadata": {},
   "outputs": [
    {
     "data": {
      "text/plain": [
       "4"
      ]
     },
     "execution_count": 73,
     "metadata": {},
     "output_type": "execute_result"
    }
   ],
   "source": [
    "# 乱序数组找到第K大的数值\n",
    "def findKthsmallest(nums, K):\n",
    "    if len(nums) < K:\n",
    "        return -1\n",
    "    pos = partition(nums, 0, len(nums) - 1)\n",
    "    if pos + 1 < K:\n",
    "        return findKthsmallest(nums[pos + 1:], K - pos - 1)\n",
    "    elif pos + 1 > K:\n",
    "        return findKthsmallest(nums[:pos], K)\n",
    "    else:\n",
    "        return nums[pos]\n",
    "\n",
    "    \n",
    "findKthsmallest([0,1,2,3,4,5,6,7,8],5)"
   ]
  },
  {
   "cell_type": "markdown",
   "id": "caring-draft",
   "metadata": {},
   "source": [
    "### 如果有大量重复数组，想找某个target的起点和终点，在nums[mid] == target的时候更新right = mid可以找到第一个target，而使用left = mid可以找到最后一个target\n",
    "### 两个排好序的数组，只有一个地方不一样，那么可以采用二分法找到\n",
    "### 最近临点只能用排序解决，没有更快的\n",
    "### 供暖设备问题，先要把供暖设备排序，然后每个房子找它左边和右边最近的"
   ]
  },
  {
   "cell_type": "code",
   "execution_count": 75,
   "id": "objective-crisis",
   "metadata": {},
   "outputs": [
    {
     "data": {
      "text/plain": [
       "4"
      ]
     },
     "execution_count": 75,
     "metadata": {},
     "output_type": "execute_result"
    }
   ],
   "source": [
    "# 找两个有序数拼起来之后的中值\n",
    "def find_two_mid(nums1, nums2):\n",
    "    n1, n2 = len(nums1), len(nums2)\n",
    "    if n1 > n2:\n",
    "        return find_two_mid(nums2, nums1)\n",
    "    k = (n1 + n2 + 1) // 2 # 这个地方多加了1，所以之后c1取左边两个最大值，c2取右边两个最小值\n",
    "    left, right = 0, n1\n",
    "    while left < right: # 用left去逼近\n",
    "        m1 = left + (right - left) // 2\n",
    "        m2 = k - m1\n",
    "        if nums1[m1] < nums2[m2-1]:  # 这里是m2 - 1\n",
    "            left = m1 + 1  # 这里是+1\n",
    "        else:\n",
    "            right = m1\n",
    "    m1 = left\n",
    "    m2 = k - m1\n",
    "    c1 = max(nums1[m1-1] if m1>0 else float('-inf'), nums2[m2-1] if m2 > 0 else float('-inf'))\n",
    "    if (n1 + n2) % 2 == 1:\n",
    "        return c1\n",
    "    c2 = min(nums[m1] if m1 < n1 else float('inf'), nums2[m2] if m2 < n2 else float('inf'))\n",
    "    return (c1 + c2)/2\n",
    "find_two_mid([1,2,3,4,5],[3,4,5,6])"
   ]
  },
  {
   "cell_type": "code",
   "execution_count": 74,
   "id": "earned-racing",
   "metadata": {},
   "outputs": [
    {
     "data": {
      "text/plain": [
       "True"
      ]
     },
     "execution_count": 74,
     "metadata": {},
     "output_type": "execute_result"
    }
   ],
   "source": [
    "# 摔鸡蛋问题\n",
    "# K个蛋，N层楼，求最少需要摔多少次，才能确定鸡蛋在哪层楼碎\n",
    "class Solution:\n",
    "    def superEggDrop(self, K, N):\n",
    "        # K egg, N floor;\n",
    "        dp = [[0 for _ in range(N + 1)] for _ in range(K + 1)]\n",
    "        for i in range(1, K + 1):\n",
    "            for step in range(1, N + 1):   # 摔的次数一定小于层数N\n",
    "                dp[i][step] = dp[i - 1][step - 1] + (dp[i][step - 1] + 1)\n",
    "                if dp[K][step] >= N:\n",
    "                    return step  \n",
    "        return 0\n",
    "SS = Solution()\n",
    "print(SS.superEggDrop(2,100))"
   ]
  },
  {
   "cell_type": "code",
   "execution_count": null,
   "id": "joined-muscle",
   "metadata": {},
   "outputs": [],
   "source": []
  }
 ],
 "metadata": {
  "kernelspec": {
   "display_name": "Python 3",
   "language": "python",
   "name": "python3"
  },
  "language_info": {
   "codemirror_mode": {
    "name": "ipython",
    "version": 3
   },
   "file_extension": ".py",
   "mimetype": "text/x-python",
   "name": "python",
   "nbconvert_exporter": "python",
   "pygments_lexer": "ipython3",
   "version": "3.7.7"
  }
 },
 "nbformat": 4,
 "nbformat_minor": 5
}
