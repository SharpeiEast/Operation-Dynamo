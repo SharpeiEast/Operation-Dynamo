{
 "cells": [
  {
   "cell_type": "markdown",
   "id": "direct-thursday",
   "metadata": {},
   "source": [
    "# Git 笔记"
   ]
  },
  {
   "cell_type": "markdown",
   "id": "italic-performance",
   "metadata": {},
   "source": [
    "### 常规shell命令\n",
    "##### ls -la\n",
    "##### touch\n",
    "##### open .\n",
    "##### rm -rf 文件名 （##### rm -rf .git 删除，重新生成一个 git init）之后检查一下如果已经有云端仓空的时候这样重新init会有什么问题"
   ]
  },
  {
   "cell_type": "markdown",
   "id": "written-links",
   "metadata": {},
   "source": [
    "### add\n",
    "##### git add . 是追踪全部\n",
    "##### git add * 是追踪新文件\n"
   ]
  },
  {
   "cell_type": "markdown",
   "id": "casual-avenue",
   "metadata": {},
   "source": [
    "### Commit\n",
    "##### commit就一定会生成一个版本，有git commit、git commit -m、git commit -am （add和commit两部并一步，只对已经被追踪的文件有效）；\n",
    "##### commit之后，push之前，修改了git也会显示，所以需要再次git add .，如果只commit -m是无效的，需要commit -am。但是这种情况下git status 会告知内容是被修改了。只有git status显示nothing to commit, working tree clean才说明全部就绪\n",
    "\n"
   ]
  },
  {
   "cell_type": "markdown",
   "id": "productive-resistance",
   "metadata": {},
   "source": [
    "### log追踪\n",
    "##### git log查询最近的更改（必须成功commit了才行）\n",
    "##### git log --oneline 查看最近更改（只显示一行）\n",
    "##### git log -p -2检查最近两次提交内容的差异\n",
    "##### 之后可以查看版本线图，这个地方不常用\n",
    "##### git log --pretty会打印完整信息，git log --pretty=oneline和 git log --oneline的区别是前者会把哈希值打印完整\n",
    "##### git log --pretty=format:'%h - %an, %ar : %s' 按照定制格式打印版本信息，h哈希，an作者，ar修改时间，s描述\n",
    "##### git log --author='SharpeiEast'显示指定作者修改的版本，git log --author = 'SharpeiEast'这种多空格的是错的\n",
    "##### git config --global user.name 's2'可以创建一个新名字（有没有引号好像都行），git config --global user.name SharpeiEast可以切换回来存在的用户"
   ]
  },
  {
   "cell_type": "markdown",
   "id": "transsexual-suicide",
   "metadata": {},
   "source": [
    "### Diff\n",
    "##### commit之前检查做了哪些调整 git diff 或者git diff 文件名，这个是仅仅修改之后\n",
    "##### add之后的话依然可以查询，只要没有commit， git diff --staged\n"
   ]
  },
  {
   "cell_type": "markdown",
   "id": "structured-adaptation",
   "metadata": {},
   "source": [
    "### 删除，重命名，移动\n",
    "##### git rm 文件名，删除之后commit\n",
    "##### git mv 文件名 移动后位置/文件名，如果不加移动后位置等同于原地重命名"
   ]
  },
  {
   "cell_type": "markdown",
   "id": "liberal-trunk",
   "metadata": {},
   "source": [
    "### 文件忽略\n",
    "##### .gitignore, /node_modules忽略node_modules文件夹下的所有文件，*.log忽略.log结尾的文件\n",
    "##### .gitignore文件中写进不想被追踪的文件、文件夹，但是如果在修改.gitignore文件之前就已经commit提交了则是无效的，所以在这种情况下要先将文件剔除git rm -r --cached 文件名或者 . 就是把缓存文件全剔除。之后再重新add，commit，push\n",
    "##### 文件已经被追踪的状态，上述忽略命令是无效的，需要git rm -r --cached.来实现\n",
    "##### 如果创建了一个空文件夹，git status不会获取这个空文件夹\n"
   ]
  },
  {
   "cell_type": "markdown",
   "id": "approved-process",
   "metadata": {},
   "source": [
    "### 还原\n",
    "##### git checkout --文件名  这是在没有commit时候使用的回到过去，同时这个文件必须已经被追踪。返回到上一次commit之后的状态\n",
    "##### git reset HEAD 文件名  如果已经add了，就需要回到add之前的状态，然后可以git checkout -- 文件名\n",
    "##### commit之后会退版本，git reset --hard HEAD^ （回退上一个版本），git reset --hard HEAD^^（回退上上个版本）\n",
    "##### git reset --hard 版本的哈希值  回到指定版本\n",
    "##### git reflog 查询HEAD指向的地址\n",
    "##### 回到某个版本，会保留所有的版本号，但是版本回退不会保留版本号，尝试一下git reset --hard之后还能不能看到之前的版本\n",
    "##### git checkout 版本哈希 -- .  恢复全部；git checkout 版本哈希 -- 文件名 恢复指定文件到特定版本"
   ]
  },
  {
   "cell_type": "markdown",
   "id": "comic-uganda",
   "metadata": {},
   "source": [
    "### 分支\n",
    "##### git branch [name]\n",
    "##### git branch -a 查询全部分支\n",
    "##### git checkout [branch name]\n",
    "##### git checkout -b [branch name]\n",
    "##### git branch -d  [name] （不能删除当前状态分支）\n",
    "##### git branch -D [name] \n",
    "##### git branch [name] 哈希值 （找回被删除的分支）\n",
    "##### 对分支中文件进行修改的过程中不要切换版本，否则会把切换进入的版本的内容也修改。没有合并的分支无法用-d删除。\n",
    "##### 分支可以近似理解为一个移动硬盘\n",
    "### 分支合并\n",
    "##### git merge [branch name] 似乎合并了并没有修改其他内容，只有多的文件会进来\n",
    "##### 发生冲突时候可以 git merge --abort来放弃，或者解决冲突，但是似乎只能通过ide来解决，解决之后git add . 再git commit不需要-m，运行之后会出现一个记录\n",
    "##### git log --oneline --graph （--all）查看版本线图\n",
    "##### git reset --hard ORIG_HEAD  回退到合并之前\n",
    "##### git merge --no-ff  （快转机制  fast-forward）\n",
    "##### git merge --no-ff --no-commit\n",
    "##### git merge --squash [name] 压缩合并，但是合并之后需要commit，这样合并之后只会显示master的版本轨迹图\n",
    "##### git branch --merged 查看已经合并过的分支，--no-merged 查看未合并的分支\n",
    "##### git branch --merged | egrep -v \"(^\\*|master|develop)\" 删除除了master、develop以外其他没有合并过的分支\n",
    "\n",
    "\n",
    "\n"
   ]
  },
  {
   "cell_type": "markdown",
   "id": "protecting-chapel",
   "metadata": {},
   "source": [
    "### github\n",
    "##### git remote 检查远端是否存在仓库\n",
    "##### git remote add origin http://github.com/.......git 可以替换origin为任意，用来代表后面的链接地址\n",
    "##### git remote remove [name] 清除远端链接，比如origin。然后就可以换其他远端仓库用来上传\n",
    "##### 建立一个和自己名字一样 .github.io 这样就可以做一个简单的远端服务器\n",
    "##### clone的会带 .git 文件\n",
    "##### git push -u origin develop 向远端推其他分支\n",
    "##### git push --all 向远端推全部分支，即使还没有建立远端分支\n",
    "##### git pull 先拉远端，然后再push\n",
    "##### 远端分支存在，pull之后会出现远端追踪分支，但是本地不存在对应分针，可以直接git checkout [远端分支名]就可以直接建立一个本地分支，而不需要通过checkout -b来建立。删除的时候，本地分支正常git branch -d [name]进行删除，远端分支、和远端追踪分支使用命令git push origin --delete [name]删除\n",
    "##### git remote -v查看当前对应的远端地址，git remote set-url origin http://..... 更改远端仓库地址，这样再次push --all就会push进新的远端仓库地址"
   ]
  },
  {
   "cell_type": "markdown",
   "id": "scenic-scratch",
   "metadata": {},
   "source": [
    "### SSH\n",
    "##### 公钥私钥\n",
    "##### ssh git@github.com直接连接会显示权限被否决。"
   ]
  },
  {
   "cell_type": "markdown",
   "id": "opening-chance",
   "metadata": {},
   "source": [
    "##### text"
   ]
  },
  {
   "cell_type": "markdown",
   "id": "governing-advice",
   "metadata": {},
   "source": [
    "##### text2"
   ]
  },
  {
   "cell_type": "markdown",
   "id": "charitable-lloyd",
   "metadata": {},
   "source": []
  },
  {
   "cell_type": "markdown",
   "id": "electronic-status",
   "metadata": {},
   "source": []
  }
 ],
 "metadata": {
  "kernelspec": {
   "display_name": "Python 3",
   "language": "python",
   "name": "python3"
  },
  "language_info": {
   "codemirror_mode": {
    "name": "ipython",
    "version": 3
   },
   "file_extension": ".py",
   "mimetype": "text/x-python",
   "name": "python",
   "nbconvert_exporter": "python",
   "pygments_lexer": "ipython3",
   "version": "3.7.7"
  }
 },
 "nbformat": 4,
 "nbformat_minor": 5
}
