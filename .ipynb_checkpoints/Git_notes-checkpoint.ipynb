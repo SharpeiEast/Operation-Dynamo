{
 "cells": [
  {
   "cell_type": "markdown",
   "id": "direct-thursday",
   "metadata": {},
   "source": [
    "# Git 笔记"
   ]
  },
  {
   "cell_type": "markdown",
   "id": "residential-delight",
   "metadata": {},
   "source": [
    "### add\n",
    "##### git add . 是追踪全部\n",
    "##### git add * 是追踪新文件\n"
   ]
  },
  {
   "cell_type": "markdown",
   "id": "universal-broadcasting",
   "metadata": {},
   "source": [
    "### Commit\n",
    "##### commit就一定会生成一个版本，有git commit、git commit -m、git commit -am；\n",
    "##### commit之后，push之前，修改了git也会显示\n",
    "\n"
   ]
  },
  {
   "cell_type": "code",
   "execution_count": null,
   "id": "banner-berry",
   "metadata": {},
   "outputs": [],
   "source": []
  },
  {
   "cell_type": "code",
   "execution_count": null,
   "id": "intended-maldives",
   "metadata": {},
   "outputs": [],
   "source": []
  }
 ],
 "metadata": {
  "kernelspec": {
   "display_name": "Python 3",
   "language": "python",
   "name": "python3"
  },
  "language_info": {
   "codemirror_mode": {
    "name": "ipython",
    "version": 3
   },
   "file_extension": ".py",
   "mimetype": "text/x-python",
   "name": "python",
   "nbconvert_exporter": "python",
   "pygments_lexer": "ipython3",
   "version": "3.7.7"
  }
 },
 "nbformat": 4,
 "nbformat_minor": 5
}
