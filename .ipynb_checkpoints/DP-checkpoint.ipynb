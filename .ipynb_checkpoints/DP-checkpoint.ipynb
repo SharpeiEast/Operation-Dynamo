{
 "cells": [
  {
   "cell_type": "code",
   "execution_count": 9,
   "id": "generic-percentage",
   "metadata": {},
   "outputs": [
    {
     "data": {
      "text/plain": [
       "3"
      ]
     },
     "execution_count": 9,
     "metadata": {},
     "output_type": "execute_result"
    }
   ],
   "source": [
    "# 凑足一定价值的钱所用最少硬币数量\n",
    "class Solution:\n",
    "    def coinChange(self, coins: list, amount: int) -> int:\n",
    "        dp = {}\n",
    "        dp[0] = 0  # 目标金额为0时，所需硬币数量为0\n",
    "        for i in range(1, amount+1):  # 初始化数组\n",
    "            dp[i] = amount+1\n",
    "\n",
    "        for i in range(1, amount+1):\n",
    "            for j in range(len(coins)):  # 每拼凑成一定金额，都来自某种面值硬币\n",
    "                if coins[j] <= i:  # 如果当前硬币的面额可以凑\n",
    "                    dp[i] = min(dp[i], dp[i-coins[j]]+1)  # 状态转移方程：dp[i] = min{dp[i-coins[j]]}+1\n",
    "        # 如果dp[amount]的数值没有更新，说明不满足coins[j] <= i，凑不出结果\n",
    "        if dp[amount] == amount+1: return -1\n",
    "        else:   return dp[amount]\n",
    "S = Solution()\n",
    "S.coinChange([1,2,5],11)"
   ]
  },
  {
   "cell_type": "code",
   "execution_count": 10,
   "id": "dried-skirt",
   "metadata": {},
   "outputs": [],
   "source": [
    "def rob(nums):\n",
    "    n = len(nums)\n",
    "    dp = [ [0] * 2 for _ in range(n + 1)]\n",
    "    for i in range(1, n + 1):\n",
    "        dp[i][0] = max(dp[i - 1][0], dp[i - 1][1])  # forget it\n",
    "        dp[i][1] = nums[i - 1] + dp[i - 1][0]       # let's do it\n",
    "    return max(dp[n][0], dp[n][1])  "
   ]
  },
  {
   "cell_type": "code",
   "execution_count": 12,
   "id": "raised-mount",
   "metadata": {},
   "outputs": [
    {
     "data": {
      "text/plain": [
       "12"
      ]
     },
     "execution_count": 12,
     "metadata": {},
     "output_type": "execute_result"
    }
   ],
   "source": [
    "nums = [2,7,9,3,1]\n",
    "rob(nums)"
   ]
  },
  {
   "cell_type": "code",
   "execution_count": 2,
   "id": "paperback-therapy",
   "metadata": {},
   "outputs": [],
   "source": [
    "def rob2(nums):\n",
    "    n = len(nums)\n",
    "    dp = [ [0] * 2 for _ in range(n + 1)]\n",
    "    for i in range(1, n):\n",
    "        dp[i][0] = max(dp[i - 1][0], dp[i - 1][1])  # forget it\n",
    "        dp[i][1] = nums[i - 1] + dp[i - 1][0]       # let's do it\n",
    "    case1 =  max(dp[n-1][0], dp[n-1][1])\n",
    "    dp = [ [0] * 2 for _ in range(n + 1)]\n",
    "    for i in range(2, n+1):\n",
    "        dp[i][0] = max(dp[i - 1][0], dp[i - 1][1])  # forget it\n",
    "        dp[i][1] = nums[i - 1] + dp[i - 1][0]       # let's do it\n",
    "    case2 = max(dp[n][0], dp[n][1])\n",
    "    return max(case1, case2)"
   ]
  },
  {
   "cell_type": "code",
   "execution_count": 3,
   "id": "vocal-burns",
   "metadata": {},
   "outputs": [
    {
     "data": {
      "text/plain": [
       "11"
      ]
     },
     "execution_count": 3,
     "metadata": {},
     "output_type": "execute_result"
    }
   ],
   "source": [
    "nums = [2,7,9,3,1]\n",
    "rob2(nums)"
   ]
  },
  {
   "cell_type": "code",
   "execution_count": 12,
   "id": "actual-annual",
   "metadata": {},
   "outputs": [],
   "source": [
    "# 只能进行一次股票买卖\n",
    "\n",
    "def maxProfit(prices):\n",
    "    if len(prices) < 2:\n",
    "        return 0\n",
    "    min_price = prices[0]\n",
    "    max_profit = 0\n",
    "    for price in prices:\n",
    "        if price < min_price:\n",
    "            min_price = price\n",
    "        if price - min_price > max_profit:\n",
    "            max_profit = price - min_price\n",
    "    return max_profit\n",
    "\n",
    "def maxProfit_a(prices):\n",
    "    if len(prices) < 2:\n",
    "        return 0\n",
    "    min_price = prices[0]\n",
    "    max_profit = 0\n",
    "    for i in prices[1:]:\n",
    "        max_profit = max(max_profit, i - min_price)\n",
    "        min_price = min(i, min_price)\n",
    "    return max_profit\n",
    "    \n"
   ]
  },
  {
   "cell_type": "code",
   "execution_count": 13,
   "id": "necessary-printing",
   "metadata": {},
   "outputs": [
    {
     "data": {
      "text/plain": [
       "5"
      ]
     },
     "execution_count": 13,
     "metadata": {},
     "output_type": "execute_result"
    }
   ],
   "source": [
    "prices = [7,1,5,3,6,4,0]\n",
    "# maxProfit(prices)\n",
    "maxProfit_a(prices)"
   ]
  },
  {
   "cell_type": "code",
   "execution_count": 7,
   "id": "judicial-blocking",
   "metadata": {},
   "outputs": [],
   "source": [
    "# 只能进行一次股票买卖 DP方法\n",
    "\n",
    "def maxProfitDP(prices):\n",
    "    if len(prices) < 2:\n",
    "        return 0\n",
    "    minPrice = prices[0]\n",
    "    dp = [0] * len(prices)\n",
    "    for i in range(len(prices)):\n",
    "        dp[i] = max(dp[i-1], prices[i] - minPrice)\n",
    "        minPrice = min(minPrice, prices[i])\n",
    "    return dp[-1]"
   ]
  },
  {
   "cell_type": "code",
   "execution_count": 9,
   "id": "capable-outline",
   "metadata": {},
   "outputs": [
    {
     "data": {
      "text/plain": [
       "5"
      ]
     },
     "execution_count": 9,
     "metadata": {},
     "output_type": "execute_result"
    }
   ],
   "source": [
    "prices = [7,1,5,3,6,4]\n",
    "maxProfitDP(prices)"
   ]
  },
  {
   "cell_type": "code",
   "execution_count": 45,
   "id": "improving-helena",
   "metadata": {},
   "outputs": [],
   "source": [
    "# 可以无数次买卖股票，这个问题其实不考虑总持仓数量，只是考虑单股的收益，那的确没有长期持有的意义\n",
    "def maxProfit2(prices):\n",
    "    max_profit = 0\n",
    "    for i in range(1, len(prices)):\n",
    "        max_profit += max(0, prices[i] - prices[i - 1])\n",
    "    return max_profit"
   ]
  },
  {
   "cell_type": "code",
   "execution_count": 46,
   "id": "chronic-consumer",
   "metadata": {},
   "outputs": [
    {
     "data": {
      "text/plain": [
       "5"
      ]
     },
     "execution_count": 46,
     "metadata": {},
     "output_type": "execute_result"
    }
   ],
   "source": [
    "prices = [1,4,6]\n",
    "maxProfit2(prices)"
   ]
  },
  {
   "cell_type": "code",
   "execution_count": 27,
   "id": "collected-vitamin",
   "metadata": {},
   "outputs": [
    {
     "data": {
      "text/plain": [
       "3"
      ]
     },
     "execution_count": 27,
     "metadata": {},
     "output_type": "execute_result"
    }
   ],
   "source": [
    "# 可以无数次买卖股票，有手续费。不能直接用maxProfit2直接减交易费，因为要控制交易次数。也就是说\n",
    "# 要抄底然后等到最高点，这样抛才能有最大利润，只交一次手续费。所有有点类似找到全部的升序子序列\n",
    "# 不过这里是用了dp方法，每天有cash和hold两种状态，cash是昨天就有cash和今天变了现\n",
    "# hold是昨天也是hold和今天满了仓\n",
    "# 然后每一种都希望它最大\n",
    "# 初始条件，第一天最多的cash就是初始cash，最大的hold，就是买当天股票\n",
    "def maxProfit3(prices, fee):\n",
    "    cash, hold = 0, -prices[0]\n",
    "    for i in range(1, len(prices)):\n",
    "        cash, hold = max(cash, hold + prices[i] - fee), max(hold, cash - prices[i])\n",
    "    return cash\n",
    "prices = [1,4,6]\n",
    "fee = 2\n",
    "maxProfit3(prices, fee)"
   ]
  },
  {
   "cell_type": "code",
   "execution_count": 29,
   "id": "certified-yield",
   "metadata": {},
   "outputs": [
    {
     "data": {
      "text/plain": [
       "6"
      ]
     },
     "execution_count": 29,
     "metadata": {},
     "output_type": "execute_result"
    }
   ],
   "source": [
    "# 只能进行两次交易\n",
    "# 这个就不能去数全部升序子序列然后找最大的了，因为只能进行两次交易\n",
    "# 可能有可能买入和卖出分别对应两段不同的子序列\n",
    "# 采用双指针，左右各一段区域完成一次买卖\n",
    "# 找加和最大的场景\n",
    "\n",
    "def maxProfit4(prices):\n",
    "    total_max_profit = 0\n",
    "    n = len(prices)\n",
    "    left_profits = [0] * n\n",
    "    min_price = float('inf')\n",
    "\n",
    "    for i in range(n):\n",
    "        min_price = min(min_price, prices[i])\n",
    "        total_max_profit = max(total_max_profit, prices[i] - min_price)\n",
    "        left_profits[i] = total_max_profit  # 更新数组\n",
    "\n",
    "    max_profit = 0\n",
    "    max_price = float('-inf')\n",
    "    for i in range(n - 1, 0, -1):\n",
    "        max_price = max(max_price, prices[i])\n",
    "        max_profit = max(max_profit, max_price - prices[i])\n",
    "        total_max_profit = max(total_max_profit, max_profit + left_profits[i - 1]) # 这里考虑了放弃第二次买卖机会的场景\n",
    "    return total_max_profit\n",
    "prices = [3,3,5,0,0,3,1,4]\n",
    "# maxProfit4(prices)\n",
    "\n",
    "# 下面这个是自己写的便于理解的双指针\n",
    "def maxProfit4a(prices):\n",
    "    total_max_profit = 0\n",
    "    left_profit = [0] * len(prices)\n",
    "    min_price = prices[0]\n",
    "    for i in range(1, len(prices)):\n",
    "        left_profit[i] = max(left_profit[i-1], prices[i] - min_price)\n",
    "        min_price = min(min_price, prices[i])\n",
    "        \n",
    "    right_profit = [0] * len(prices)\n",
    "    max_price = prices[-1]\n",
    "    for j in range(len(prices) - 2, -1, -1):\n",
    "        right_profit[j] = max(right_profit[j+1], max_price - prices[j])\n",
    "        max_price = max(max_price, prices[j])\n",
    "    \n",
    "    for k in range(1, len(prices)-1):\n",
    "        total_max_profit = max(total_max_profit, left_profit[k-1] + right_profit[k])\n",
    "        \n",
    "    return total_max_profit\n",
    "\n",
    "maxProfit4a(prices)"
   ]
  },
  {
   "cell_type": "code",
   "execution_count": 26,
   "id": "higher-contract",
   "metadata": {},
   "outputs": [
    {
     "name": "stdout",
     "output_type": "stream",
     "text": [
      "5\n",
      "4\n",
      "3\n",
      "2\n",
      "1\n",
      "0\n"
     ]
    }
   ],
   "source": [
    "for i in range(5,-1,-1):\n",
    "    print(i)"
   ]
  },
  {
   "cell_type": "code",
   "execution_count": null,
   "id": "printable-empire",
   "metadata": {},
   "outputs": [],
   "source": []
  },
  {
   "cell_type": "code",
   "execution_count": 73,
   "id": "turned-robertson",
   "metadata": {},
   "outputs": [
    {
     "name": "stdout",
     "output_type": "stream",
     "text": [
      "10\n"
     ]
    }
   ],
   "source": [
    "def stock3(prices,k):\n",
    "    \n",
    "    if len(prices)<2:\n",
    "        return 0\n",
    "    if len(prices)/2 < k:\n",
    "        return maxProfit2(prices)\n",
    "    \n",
    "    dp = [[[0]*(k+1),[0]*(k+1)] for _ in range(len(prices))]\n",
    "    #dp[i][0][j]表示第i天，第j次不持有股票的最大利润\n",
    "    #dp[i][1][j]表示第i天，第j次持有股票的最大利润\n",
    "    \n",
    "    for j in range(1,k+1): #第l天持有股票，利润都为负数\n",
    "        dp[0][1][j] = -prices[0]\n",
    "    \n",
    "    for i in range(1,len(prices)):\n",
    "        for j in range(1,k+1):\n",
    "            dp[i][0][j] = max(dp[i-1][0][j],dp[i-1][1][j]+prices[i]) #第i天，第j次不持有股票只能由前一天的相同状态转化而成，或由前一天第j次持有股票的状态卖出股票转化而成\n",
    "            dp[i][1][j] = max(dp[i-1][1][j],dp[i-1][0][j-1]-prices[i]) #同上，但需要注意的是，前一天第j-1次不持有股票的状态，买入股票后，转换为当前状态。\n",
    "            \n",
    "#     print(dp)\n",
    "    return dp[len(prices)-1][0][k]\n",
    "\n",
    "prices = [2,5,7,1,4,3,1,3]\n",
    "k = 3\n",
    "print(stock3(prices, 3))"
   ]
  },
  {
   "cell_type": "code",
   "execution_count": 80,
   "id": "lined-geneva",
   "metadata": {},
   "outputs": [
    {
     "data": {
      "text/plain": [
       "3"
      ]
     },
     "execution_count": 80,
     "metadata": {},
     "output_type": "execute_result"
    }
   ],
   "source": [
    "# 任意多次交易，有冷冻期\n",
    "# 0 cash in hand; 1 stock in hand; 2 freeze\n",
    "\n",
    "class Solution:\n",
    "    def maxProfit(self, prices):\n",
    "        if not prices:\n",
    "            return 0\n",
    "        dp = [[0,0,0] for _ in range(len(prices))]\n",
    "        dp[0][1] = -prices[0]\n",
    "        for i in range(1, len(prices)):\n",
    "            dp[i][0] = max(dp[i-1][0], dp[i-1][2])\n",
    "            dp[i][1] = max(dp[i-1][1], dp[i-1][0] - prices[i])\n",
    "            dp[i][2] = dp[i-1][1] + prices[i]\n",
    "        return max(dp[-1][0], dp[-1][2]) # 注意区别，这里要考虑冷冻状态\n",
    "\n",
    "prices = [1,2,3,0,2]\n",
    "S = Solution()\n",
    "S.maxProfit(prices)"
   ]
  },
  {
   "cell_type": "code",
   "execution_count": 83,
   "id": "intelligent-terminal",
   "metadata": {},
   "outputs": [
    {
     "data": {
      "text/plain": [
       "10"
      ]
     },
     "execution_count": 83,
     "metadata": {},
     "output_type": "execute_result"
    }
   ],
   "source": [
    "def uniquePaths(m, n):\n",
    "    aux = [[1 for x in range(n)] for x in range(m)]\n",
    "    for i in range(1, m):\n",
    "        for j in range(1, n):\n",
    "            aux[i][j] = aux[i][j-1]+aux[i-1][j]\n",
    "    return aux[-1][-1]\n",
    "\n",
    "# 优化的本质是第一行默认都是1，然后每次更新的时候自己的值是上一行的，自己前面位置的值是更新过的前面的值\n",
    "# 所以直接aux[j] = aux[j-1] + aux[j]了\n",
    "def uniquePaths2(m, n):\n",
    "    aux = [1 for x in range(n)]\n",
    "    for i in range(1, m):\n",
    "        for j in range(1, n):\n",
    "            aux[j] = aux[j]+aux[j-1]\n",
    "    return aux[-1]\n",
    "uniquePaths2(3, 4)"
   ]
  },
  {
   "cell_type": "code",
   "execution_count": 85,
   "id": "australian-constitutional",
   "metadata": {},
   "outputs": [
    {
     "data": {
      "text/plain": [
       "7"
      ]
     },
     "execution_count": 85,
     "metadata": {},
     "output_type": "execute_result"
    }
   ],
   "source": [
    "# 中间有障碍的情况，直接等于0即可，其他规则不变正常上面加左边\n",
    "\n",
    "def uniquePathsWithObstacles(obstacleGrid):\n",
    "    M, N = len(obstacleGrid), len(obstacleGrid[0])\n",
    "    dp = [1] + [0] * (N-1)\n",
    "    for i in range(M):\n",
    "        for j in range(N):\n",
    "            if obstacleGrid[i][j] == 1:\n",
    "                dp[j] = 0\n",
    "            elif j > 0:\n",
    "                dp[j] += dp[j-1]\n",
    "    return dp[N-1]\n",
    "grid = [\n",
    "    [0,0,0,0,0,0,0],\n",
    "    [0,0,1,0,0,0,0],\n",
    "    [0,0,0,0,1,0,0]\n",
    "]\n",
    "uniquePathsWithObstacles(grid)"
   ]
  },
  {
   "cell_type": "code",
   "execution_count": 86,
   "id": "challenging-ghost",
   "metadata": {},
   "outputs": [],
   "source": [
    "# 给定一个带权重矩阵，每个元素表示价值\n",
    "# 求从最上面一行任意点出发到最下面一行任意点结束得到的最大价值之和\n",
    "# 采用动态规划，求解到达每个点的最大价值dp[i][j]\n",
    "# 同样地，也可以用上一行的数值迭代，所以可以压缩空间复杂度为一维\n",
    "def movingBoard(board):\n",
    "    result = board\n",
    "    m = len(board)\n",
    "    n = len(board[0])\n",
    "    for i in range(1, m):\n",
    "        for j in range (0, n):\n",
    "            result[i][j] = max(0 if j == 0 else result[i-1][j-1], \\\n",
    "                               result[i-1][j], \\\n",
    "                               0 if j == n-1 else result[i-1][j+1] ) \\\n",
    "                            + board[i][j]\n",
    "    return max(result[-1])"
   ]
  },
  {
   "cell_type": "code",
   "execution_count": 88,
   "id": "designed-taxation",
   "metadata": {},
   "outputs": [
    {
     "data": {
      "text/plain": [
       "12"
      ]
     },
     "execution_count": 88,
     "metadata": {},
     "output_type": "execute_result"
    }
   ],
   "source": [
    "board = [\n",
    "    [3,-2, 6,-3, 4, 1, 2],\n",
    "    [0, 4, 1, 3,-1, 4, 3],\n",
    "    [2, 2,-1, 3, 2, 0, 2]\n",
    "]\n",
    "movingBoard(board)"
   ]
  },
  {
   "cell_type": "code",
   "execution_count": 91,
   "id": "medium-spray",
   "metadata": {},
   "outputs": [
    {
     "data": {
      "text/plain": [
       "4"
      ]
     },
     "execution_count": 91,
     "metadata": {},
     "output_type": "execute_result"
    }
   ],
   "source": [
    "# 拼凑最大正方形\n",
    "# 等于左上三个最小值加1\n",
    "\n",
    "def maximalSquare(matrix):\n",
    "    if matrix == []:\n",
    "        return 0\n",
    "    m, n = len(matrix), len(matrix[0])\n",
    "    dp = [[0] * n for x in range(m)]\n",
    "    ans = 0\n",
    "    for x in range(m):\n",
    "        for y in range(n):\n",
    "            dp[x][y] = int(matrix[x][y])\n",
    "            if x and y and dp[x][y]:\n",
    "                dp[x][y] = min(dp[x - 1][y - 1], dp[x][y - 1], dp[x - 1][y]) + 1\n",
    "            ans = max(ans, dp[x][y])\n",
    "    return ans * ans\n",
    "\n",
    "matrix = [\n",
    "    [1,0,1,0,0],\n",
    "    [1,0,1,1,1],\n",
    "    [1,1,1,1,1],\n",
    "    [1,0,0,1,0]\n",
    "]\n",
    "maximalSquare(matrix)"
   ]
  },
  {
   "cell_type": "code",
   "execution_count": 94,
   "id": "accepting-english",
   "metadata": {},
   "outputs": [],
   "source": [
    "# 0-1背包问题\n",
    "\n",
    "def knapSack(W, wt, val, n):\n",
    "    K = [[0 for x in range(W+1)] for x in range(n+1)]\n",
    " \n",
    "    # Build table K[][] in bottom up manner\n",
    "    # 遍历可选物品个数和背包容量\n",
    "    for i in range(n+1):\n",
    "        for w in range(W+1):\n",
    "            if i==0 or w==0:\n",
    "                K[i][w] = 0\n",
    "            elif wt[i-1] <= w:\n",
    "                K[i][w] = max(val[i-1] + K[i-1][w-wt[i-1]],  K[i-1][w])\n",
    "            else:\n",
    "                K[i][w] = K[i-1][w]\n",
    " \n",
    "    return K[n][W]"
   ]
  },
  {
   "cell_type": "code",
   "execution_count": 96,
   "id": "southwest-michigan",
   "metadata": {},
   "outputs": [
    {
     "name": "stdout",
     "output_type": "stream",
     "text": [
      "9\n"
     ]
    }
   ],
   "source": [
    "val = [5, 3, 4]\n",
    "wt = [3, 2, 1]\n",
    "W = 5\n",
    "n = len(val)\n",
    "print(knapSack(W, wt, val, n))"
   ]
  },
  {
   "cell_type": "code",
   "execution_count": 7,
   "id": "tough-jacob",
   "metadata": {},
   "outputs": [
    {
     "data": {
      "text/plain": [
       "3"
      ]
     },
     "execution_count": 7,
     "metadata": {},
     "output_type": "execute_result"
    }
   ],
   "source": [
    "# 最长公共子序列，只要遇见相等的，就等于左上角加一\n",
    "# 如果不相等，等于左和上的最大值\n",
    "def LCS(X, Y, m, n):\n",
    "     \n",
    "    matrix = [[0 for k in range(n+1)] for l in range(m+1)]\n",
    "     \n",
    "    result = 0\n",
    " \n",
    "    for i in range(m + 1):\n",
    "        for j in range(n + 1):\n",
    "            if (i == 0 or j == 0):\n",
    "                matrix[i][j] = 0\n",
    "            elif (X[i-1] == Y[j-1]):\n",
    "                matrix[i][j] = matrix[i-1][j-1] + 1\n",
    "                result = max(result, matrix[i][j])\n",
    "            else:\n",
    "                matrix[i][j] = 0\n",
    "#                 matrix[i][j] = max(matrix[i-1][j], matrix[i][j-1])\n",
    "    return result\n",
    "X = 'AGGTABTA'\n",
    "Y = 'GXTXAYBTA'\n",
    " \n",
    "m = len(X)\n",
    "n = len(Y)\n",
    "LCS(X, Y, m, n)"
   ]
  },
  {
   "cell_type": "code",
   "execution_count": 3,
   "id": "governing-taste",
   "metadata": {},
   "outputs": [
    {
     "name": "stdout",
     "output_type": "stream",
     "text": [
      "5\n"
     ]
    }
   ],
   "source": [
    "\n",
    "def func(l):\n",
    "  '''\n",
    "  type: l: list\n",
    "  rtype: result: int\n",
    "  '''\n",
    "\n",
    "  #第一步创建保存右边比左边大的初始值，每个值的初始值都为1\n",
    "  dp = [1]*len(l)\n",
    "\n",
    "  for i in range(len(l)):\n",
    "    for j in range(i):\n",
    "      if l[i] > l[j]:\n",
    "        #相当于选择排序，轮到该值的时候和前面的值进行依次比较，如果比前值大，dp列表中就在前值的基础上加1\n",
    "        dp[i] = dp[j]+1\n",
    "\n",
    "  print(max(dp))\n",
    "\n",
    "\n",
    "def func2(l):\n",
    "  '''\n",
    "  type: l: list\n",
    "  rtype: result: int\n",
    "  '''\n",
    "\n",
    "  #第一步创建保存右边比左边大的初始值，每个值的初始值都为1\n",
    "  dp = [1]*len(l)\n",
    "\n",
    "  for i in range(1,len(l)):\n",
    "    if l[i] > l[i-1]:\n",
    "      dp[i] = dp[i-1]+1\n",
    "  \n",
    "  print(max(dp))\n",
    "    \n",
    "l = [1,5,3,4,6,9,7,8,10,11,12,0]\n",
    "# func(l)\n",
    "func2(l)"
   ]
  }
 ],
 "metadata": {
  "kernelspec": {
   "display_name": "Python 3",
   "language": "python",
   "name": "python3"
  },
  "language_info": {
   "codemirror_mode": {
    "name": "ipython",
    "version": 3
   },
   "file_extension": ".py",
   "mimetype": "text/x-python",
   "name": "python",
   "nbconvert_exporter": "python",
   "pygments_lexer": "ipython3",
   "version": "3.7.7"
  }
 },
 "nbformat": 4,
 "nbformat_minor": 5
}
