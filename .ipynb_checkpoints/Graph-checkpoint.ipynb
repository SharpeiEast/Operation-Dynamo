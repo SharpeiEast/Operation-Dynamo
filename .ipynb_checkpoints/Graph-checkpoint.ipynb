{
 "cells": [
  {
   "cell_type": "code",
   "execution_count": 3,
   "id": "angry-digit",
   "metadata": {},
   "outputs": [],
   "source": [
    "# 数岛屿数，很奇怪，如果子函数return count就可以计数，但是如果不return，子函数中对c的操作又写不到主函数上，\n",
    "# 但是子集问题时候的同样操作方式又可以得到合适的结果\n",
    "def numIslands(grid):\n",
    "    if not grid:\n",
    "        return 0\n",
    "    count = 0\n",
    "    for i in range(len(grid)):\n",
    "        for j in range(len(grid[0])):\n",
    "            if grid[i][j] == 1:\n",
    "                count = dfs(grid, i, j, count)\n",
    "#                 count += 1\n",
    "    return count\n",
    "\n",
    "def dfs(grid, i, j, c):\n",
    "    if i < 0 or j < 0 or i >= len(grid) or j >= len(grid[0]) or grid[i][j] != 1:\n",
    "        return\n",
    "    grid[i][j] = '#'\n",
    "    dfs(grid, i + 1, j, c)\n",
    "    dfs(grid, i - 1, j, c)\n",
    "    dfs(grid, i, j + 1, c)\n",
    "    dfs(grid, i, j - 1, c)\n",
    "    c += 1\n",
    "    return c\n",
    "    \n",
    "#     return c\n",
    "#     count += 1\n",
    "#     return count"
   ]
  },
  {
   "cell_type": "code",
   "execution_count": 4,
   "id": "perceived-verification",
   "metadata": {},
   "outputs": [
    {
     "name": "stdout",
     "output_type": "stream",
     "text": [
      "111 0\n"
     ]
    },
    {
     "data": {
      "text/plain": [
       "0"
      ]
     },
     "execution_count": 4,
     "metadata": {},
     "output_type": "execute_result"
    }
   ],
   "source": [
    "M = [\n",
    "     [1,1,0,1,0],\n",
    "     [1,1,0,1,0],\n",
    "     [0,0,1,0,1],\n",
    "     [1,1,0,1,0]\n",
    "]\n",
    "numIslands(M)"
   ]
  },
  {
   "cell_type": "code",
   "execution_count": 22,
   "id": "adaptive-division",
   "metadata": {},
   "outputs": [
    {
     "name": "stdout",
     "output_type": "stream",
     "text": [
      "[[], ['a'], ['a', 'b'], ['a', 'b', 'c'], ['a', 'c'], ['b'], ['b', 'c'], ['c']]\n"
     ]
    }
   ],
   "source": [
    "# 子集\n",
    "def subset(nums):\n",
    "    lst = []\n",
    "    result = []\n",
    "    subset_helper(lst, result, nums, 0)\n",
    "    return result\n",
    "def subset_helper(lst, result, nums, pos):\n",
    "    result.append(lst[:])\n",
    "    for i in range(pos, len(nums)):\n",
    "        lst.append(nums[i])\n",
    "        subset_helper(lst, result, nums, i+1)\n",
    "        lst.pop()\n",
    "\n",
    "print(subset(['a','b','c']))"
   ]
  },
  {
   "cell_type": "code",
   "execution_count": 65,
   "id": "valid-motion",
   "metadata": {},
   "outputs": [],
   "source": [
    "def maxAreaOfIsland(grid):\n",
    "    m, n = len(grid), len(grid[0])\n",
    "    result = 0\n",
    "    for x in range(m):\n",
    "        for y in range(n):\n",
    "            if grid[x][y]:\n",
    "                result = max(result, dfs(x, y, m, n, grid))\n",
    "    return result\n",
    "\n",
    "def dfs(i, j, m, n, grid):\n",
    "        if 0 <= i < m and 0 <= j < n and grid[i][j]:\n",
    "            grid[i][j] = 0\n",
    "            a = dfs(i - 1, j, m, n, grid)\n",
    "            b = dfs(i, j + 1, m, n, grid)\n",
    "            c = dfs(i + 1, j, m, n, grid)\n",
    "            d = dfs(i, j - 1, m, n, grid)\n",
    "            return a + b + c + d + 1\n",
    "        return 0"
   ]
  },
  {
   "cell_type": "code",
   "execution_count": 1,
   "id": "elder-alberta",
   "metadata": {},
   "outputs": [
    {
     "ename": "NameError",
     "evalue": "name 'maxAreaOfIsland' is not defined",
     "output_type": "error",
     "traceback": [
      "\u001b[0;31m---------------------------------------------------------------------------\u001b[0m",
      "\u001b[0;31mNameError\u001b[0m                                 Traceback (most recent call last)",
      "\u001b[0;32m<ipython-input-1-fbbf9220d81a>\u001b[0m in \u001b[0;36m<module>\u001b[0;34m\u001b[0m\n\u001b[1;32m      7\u001b[0m ]\n\u001b[1;32m      8\u001b[0m \u001b[0;34m\u001b[0m\u001b[0m\n\u001b[0;32m----> 9\u001b[0;31m \u001b[0mmaxAreaOfIsland\u001b[0m\u001b[0;34m(\u001b[0m\u001b[0mmatrix\u001b[0m\u001b[0;34m)\u001b[0m\u001b[0;34m\u001b[0m\u001b[0;34m\u001b[0m\u001b[0m\n\u001b[0m",
      "\u001b[0;31mNameError\u001b[0m: name 'maxAreaOfIsland' is not defined"
     ]
    }
   ],
   "source": [
    "matrix = [\n",
    "    [1, 0, 1, 0, 1],\n",
    "    [0, 1, 0, 0, 0],\n",
    "    [0, 0, 0, 1, 0],\n",
    "    [1, 1, 0, 1, 1],\n",
    "    [0, 0, 1, 0, 0]\n",
    "]\n",
    "\n",
    "maxAreaOfIsland(matrix)"
   ]
  },
  {
   "cell_type": "code",
   "execution_count": 4,
   "id": "dressed-wiring",
   "metadata": {},
   "outputs": [
    {
     "data": {
      "text/plain": [
       "11"
      ]
     },
     "execution_count": 4,
     "metadata": {},
     "output_type": "execute_result"
    }
   ],
   "source": [
    "class Employee(object):\n",
    "    def __init__(self, id, importance, subordinates):\n",
    "        # It's the unique id of each node.\n",
    "        # unique id of this employee\n",
    "        self.id = id\n",
    "        # the importance value of this employee\n",
    "        self.importance = importance\n",
    "        # the id of direct subordinates\n",
    "        self.subordinates = subordinates\n",
    "def getImportance(employees, id):\n",
    "    table = {emp.id: emp for emp in employees}\n",
    "\n",
    "    def dfs(emp):\n",
    "        if emp.subordinates == []:  # base case\n",
    "            return emp.importance\n",
    "        else:  # recursive case\n",
    "            value = emp.importance\n",
    "            for sub in emp.subordinates:\n",
    "                value += dfs(table[sub])\n",
    "            return value\n",
    "            # or just:\n",
    "            # return emp.importance + sum(dfs(table[sub]) for sub in emp.subordinates)\n",
    "\n",
    "    return dfs(table[id])\n",
    "e3 = Employee(3, 3, [])\n",
    "e2 = Employee(2, 3, [])\n",
    "e1 = Employee(1, 5, [2, 3])\n",
    "emps = [e1, e2, e3]\n",
    "def getImportance2(employees, id):\n",
    "    value = 0\n",
    "    table = {}\n",
    "    for emp in employees:\n",
    "        table[emp.id] = emp\n",
    "\n",
    "    stack = [table[id]]\n",
    "\n",
    "    while stack:\n",
    "        emp = stack.pop()\n",
    "        for sub in emp.subordinates:\n",
    "            stack.append(table[sub])\n",
    "        value += emp.importance\n",
    "\n",
    "    return value\n",
    "\n",
    "# getImportance(emps, 1)\n",
    "getImportance2(emps, 1)"
   ]
  },
  {
   "cell_type": "code",
   "execution_count": 1,
   "id": "veterinary-wrong",
   "metadata": {},
   "outputs": [
    {
     "data": {
      "text/plain": [
       "False"
      ]
     },
     "execution_count": 1,
     "metadata": {},
     "output_type": "execute_result"
    }
   ],
   "source": [
    "def isBipartite(graph):\n",
    "    color = {}\n",
    "    def dfs(pos):\n",
    "        for j in graph[pos]:\n",
    "            if j in color:\n",
    "                if color[j] == color[pos]: return False\n",
    "            else:\n",
    "                color[j] = color[pos] ^ 1\n",
    "#                 if not dfs(j): return False  # 感觉这句可有可无\n",
    "        return True\n",
    "    \n",
    "    for i in range(len(graph)):\n",
    "        if i not in color: color[i] = 0\n",
    "        if not dfs(i): return False\n",
    "    return True\n",
    "# graph = [[1,3], [0,2], [1,3], [0,2]]\n",
    "# isBipartite(graph)\n",
    "graph = [[1,2,3], [0,2], [0,1,3], [0,2]]\n",
    "isBipartite(graph)"
   ]
  },
  {
   "cell_type": "code",
   "execution_count": 5,
   "id": "interested-retirement",
   "metadata": {},
   "outputs": [],
   "source": [
    "from collections import deque\n",
    "def ladderLength(beginWord, endWord, wordList):\n",
    "    wordSet=set(wordList)\n",
    "    wordSet.add(endWord)\n",
    "    queue = [[beginWord, 1]]\n",
    "#     queue = deque([[beginWord, 1]])  # 这时一样的，用list换成pop(0)就行\n",
    "    while queue:\n",
    "        word, length = queue.pop(0)\n",
    "#         word, length = queue.popleft()\n",
    "        if word == endWord:\n",
    "            return length\n",
    "        for i in range(len(word)):\n",
    "            for c in 'abcdefghijklmnopqrstuvwxyz':\n",
    "                next_word = word[:i] + c + word[i+1:]\n",
    "                if next_word in wordSet:\n",
    "                    wordSet.remove(next_word)\n",
    "                    queue.append([next_word, length + 1])\n",
    "    return 0\n"
   ]
  },
  {
   "cell_type": "code",
   "execution_count": 7,
   "id": "random-devon",
   "metadata": {},
   "outputs": [
    {
     "data": {
      "text/plain": [
       "5"
      ]
     },
     "execution_count": 7,
     "metadata": {},
     "output_type": "execute_result"
    }
   ],
   "source": [
    "beginWord = \"hit\"\n",
    "endWord = \"cog\"\n",
    "wordList = [\"hot\",\"dot\",\"dog\",\"lot\",\"log\",\"cog\"]\n",
    "\n",
    "ladderLength(beginWord, endWord, wordList)"
   ]
  },
  {
   "cell_type": "code",
   "execution_count": 48,
   "id": "jewish-watson",
   "metadata": {},
   "outputs": [],
   "source": [
    "def ladderLength2a(beginWord, endWord, wordList):\n",
    "    wordSet=set(wordList)\n",
    "    wordSet.add(endWord)\n",
    "    queue = [[beginWord, [beginWord]]]\n",
    "    res = []\n",
    "#     queue = deque([[beginWord, 1]])  # 这时一样的，用list换成pop(0)就行\n",
    "    while queue:\n",
    "        word, wordlist = queue.pop(0)\n",
    "        if word == endWord:\n",
    "            res.append(wordlist)\n",
    "#             return wordlist\n",
    "        for i in range(len(word)):\n",
    "            for c in 'abcdefghijklmnopqrstuvwxyz':\n",
    "                next_word = word[:i] + c + word[i+1:]\n",
    "                if next_word in wordSet and next_word not in wordlist:\n",
    "#                     wordSet.remove(next_word)\n",
    "                    queue.append([next_word, wordlist + [next_word]])\n",
    "    return res"
   ]
  },
  {
   "cell_type": "code",
   "execution_count": 49,
   "id": "outstanding-favorite",
   "metadata": {},
   "outputs": [
    {
     "data": {
      "text/plain": [
       "[['hit', 'hot', 'dot', 'dog', 'cog'],\n",
       " ['hit', 'hot', 'lot', 'log', 'cog'],\n",
       " ['hit', 'hot', 'dot', 'lot', 'log', 'cog'],\n",
       " ['hit', 'hot', 'dot', 'dog', 'log', 'cog'],\n",
       " ['hit', 'hot', 'lot', 'dot', 'dog', 'cog'],\n",
       " ['hit', 'hot', 'lot', 'log', 'dog', 'cog'],\n",
       " ['hit', 'hot', 'dot', 'lot', 'log', 'dog', 'cog'],\n",
       " ['hit', 'hot', 'lot', 'dot', 'dog', 'log', 'cog']]"
      ]
     },
     "execution_count": 49,
     "metadata": {},
     "output_type": "execute_result"
    }
   ],
   "source": [
    "beginWord = \"hit\"\n",
    "endWord = \"cog\"\n",
    "wordList = [\"hot\",\"dot\",\"dog\",\"lot\",\"log\",\"cog\"]\n",
    "\n",
    "ladderLength2a(beginWord, endWord, wordList)"
   ]
  },
  {
   "cell_type": "code",
   "execution_count": null,
   "id": "activated-london",
   "metadata": {},
   "outputs": [],
   "source": []
  },
  {
   "cell_type": "code",
   "execution_count": 9,
   "id": "saving-value",
   "metadata": {},
   "outputs": [],
   "source": [
    "# 需要记录路径\n",
    "# 遇见满足条件的不能直接return，而是需要存起来\n",
    "\n",
    "from collections import defaultdict\n",
    "import string\n",
    "def findLadders(start, end, wordList):\n",
    "    dic = set(wordList)\n",
    "    dic.add(end)\n",
    "    level = {start}\n",
    "    parents = defaultdict(set)\n",
    "    while level and end not in parents:\n",
    "        next_level = defaultdict(set)\n",
    "        for node in level:\n",
    "            for char in string.ascii_lowercase:\n",
    "                for i in range(len(start)):\n",
    "                    n = node[:i] + char + node[i+1:]\n",
    "                    if n in dic and n not in parents:\n",
    "                        next_level[n].add(node)\n",
    "        level = next_level\n",
    "        parents.update(next_level)\n",
    "    res = [[end]]\n",
    "    print(parents)\n",
    "    while res and res[0][0] != start:\n",
    "        res = [[p]+r for r in res for p in parents[r[0]]]\n",
    "    return res"
   ]
  },
  {
   "cell_type": "code",
   "execution_count": 50,
   "id": "southeast-input",
   "metadata": {},
   "outputs": [
    {
     "name": "stdout",
     "output_type": "stream",
     "text": [
      "defaultdict(<class 'set'>, {'hot': {'hit'}, 'dot': {'hot'}, 'lot': {'hot'}, 'dog': {'dot'}, 'log': {'lot'}, 'cog': {'log', 'dog'}})\n"
     ]
    },
    {
     "data": {
      "text/plain": [
       "[['hit', 'hot', 'lot', 'log', 'cog'], ['hit', 'hot', 'dot', 'dog', 'cog']]"
      ]
     },
     "execution_count": 50,
     "metadata": {},
     "output_type": "execute_result"
    }
   ],
   "source": [
    "beginWord = \"hit\"\n",
    "endWord = \"cog\"\n",
    "wordList = [\"hot\",\"dot\",\"dog\",\"lot\",\"log\",\"cog\"]\n",
    "findLadders(beginWord, endWord, wordList)"
   ]
  },
  {
   "cell_type": "code",
   "execution_count": 52,
   "id": "boring-writer",
   "metadata": {},
   "outputs": [],
   "source": [
    "import collections\n",
    "\n",
    "\n",
    "class UF:\n",
    "    def __init__(self, accounts):\n",
    "        self.parent = dict()\n",
    "        for account in accounts:\n",
    "            for item in account[1:]:\n",
    "                self.parent[item] = item\n",
    "\n",
    "    def find(self, x):\n",
    "        while x != self.parent[x]:\n",
    "            x = self.parent[x]\n",
    "        return x\n",
    "\n",
    "    def union(self, p, q):\n",
    "        self.parent[self.find(p)] = self.find(q)\n",
    "\n",
    "\n",
    "class Solution:\n",
    "    def accountsMerge(self, accounts):\n",
    "        uf = UF(accounts)\n",
    "        email_to_name = {}\n",
    "\n",
    "        # 1. 构建邮件地址-姓名映射表，2. 建立邮件地址的并查集\n",
    "        for account in accounts:\n",
    "            user, addresses = account[0], account[1:]\n",
    "            for i, address in enumerate(addresses):\n",
    "                email_to_name[address] = user\n",
    "                if i < len(addresses) - 1:\n",
    "                    uf.union(address, addresses[i+1])\n",
    "\n",
    "        # 归并并查集中的联通区\n",
    "        root_to_emails = collections.defaultdict(list)\n",
    "        for email in email_to_name.keys():\n",
    "            root_to_emails[uf.find(email)].append(email)\n",
    "        res = [[email_to_name[value[0]]] + sorted(value) for value in root_to_emails.values()]\n",
    "        return res"
   ]
  },
  {
   "cell_type": "code",
   "execution_count": 53,
   "id": "exceptional-honolulu",
   "metadata": {},
   "outputs": [
    {
     "data": {
      "text/plain": [
       "[['John', 'john00@mail.com', 'john_newyork@mail.com', 'johnsmith@mail.com'],\n",
       " ['John', 'johnnybravo@mail.com'],\n",
       " ['Mary', 'mary@mail.com']]"
      ]
     },
     "execution_count": 53,
     "metadata": {},
     "output_type": "execute_result"
    }
   ],
   "source": [
    "accounts = [\n",
    "    [\"John\", \"johnsmith@mail.com\", \"john00@mail.com\"], \n",
    "    [\"John\", \"johnnybravo@mail.com\"], \n",
    "    [\"John\", \"johnsmith@mail.com\", \"john_newyork@mail.com\"], \n",
    "    [\"Mary\", \"mary@mail.com\"]\n",
    "]\n",
    "S = Solution()\n",
    "S.accountsMerge(accounts)"
   ]
  }
 ],
 "metadata": {
  "kernelspec": {
   "display_name": "Python 3",
   "language": "python",
   "name": "python3"
  },
  "language_info": {
   "codemirror_mode": {
    "name": "ipython",
    "version": 3
   },
   "file_extension": ".py",
   "mimetype": "text/x-python",
   "name": "python",
   "nbconvert_exporter": "python",
   "pygments_lexer": "ipython3",
   "version": "3.7.7"
  }
 },
 "nbformat": 4,
 "nbformat_minor": 5
}
