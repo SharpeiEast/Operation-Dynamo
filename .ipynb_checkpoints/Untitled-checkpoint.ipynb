{
 "cells": [
  {
   "cell_type": "code",
   "execution_count": 2,
   "id": "recent-intensity",
   "metadata": {},
   "outputs": [
    {
     "name": "stdout",
     "output_type": "stream",
     "text": [
      "5\n"
     ]
    }
   ],
   "source": [
    "# O(n) time, quick selection\n",
    "# 这个k是从零开始数的，可以理解为这堆数如果排好序，那么sorted_nums[k]是谁。\n",
    "def findKthLargest(nums, k):\n",
    "    # convert the kth largest to smallest\n",
    "    start = time.time()\n",
    "    rst = findKthSmallest(nums, len(nums)+1-k)\n",
    "    t = time.time() - start\n",
    "    return rst, len(nums), t\n",
    "    \n",
    "def findKthSmallest(nums, k):\n",
    "    if len(nums) < k:\n",
    "        return -1\n",
    "    if nums:\n",
    "        pos = partition(nums, 0, len(nums)-1)\n",
    "        if k > pos+1:\n",
    "            return findKthSmallest(nums[pos+1:], k-pos-1)\n",
    "        elif k < pos+1:\n",
    "            return findKthSmallest(nums[:pos], k)\n",
    "        else:\n",
    "            return nums[pos]\n",
    " \n",
    "# choose the right-most element as pivot   \n",
    "# r的索引对应的数被用来做比较的，l每次都会前移，但是low只有nums[l]大于nums[r]\n",
    "# 的时候才会前移，所以最后low之前的数字都是大于nums[r]的，l会走完整个数列到达r\n",
    "# 的位置然后跳出整个循环，这时把nums[r]替换到nums[low]的位置就行了，前面的数\n",
    "# 都比它小，后面的数都比它大。这个函数虽然没有return nums，但是其实对它进行了操作\n",
    "def partition(nums, l, r):\n",
    "    low = l\n",
    "    while l < r:\n",
    "        if nums[l] < nums[r]:\n",
    "            nums[l], nums[low] = nums[low], nums[l]\n",
    "            low += 1\n",
    "        l += 1\n",
    "    nums[low], nums[r] = nums[r], nums[low]\n",
    "    return low\n",
    "\n",
    "print(findKthSmallest([0,3,2,1,4,7,6,5], 6))"
   ]
  },
  {
   "cell_type": "code",
   "execution_count": 3,
   "id": "enabling-deposit",
   "metadata": {},
   "outputs": [
    {
     "data": {
      "text/plain": [
       "[1, 2, 3]"
      ]
     },
     "execution_count": 3,
     "metadata": {},
     "output_type": "execute_result"
    }
   ],
   "source": [
    "a = []\n",
    "b = [1,2,3]\n",
    "c = a or b\n",
    "c"
   ]
  },
  {
   "cell_type": "code",
   "execution_count": 1,
   "id": "experimental-privilege",
   "metadata": {},
   "outputs": [
    {
     "data": {
      "text/plain": [
       "1"
      ]
     },
     "execution_count": 1,
     "metadata": {},
     "output_type": "execute_result"
    }
   ],
   "source": [
    "a = b = 1\n",
    "b = 2\n",
    "a"
   ]
  },
  {
   "cell_type": "code",
   "execution_count": 2,
   "id": "rocky-sight",
   "metadata": {},
   "outputs": [
    {
     "ename": "SyntaxError",
     "evalue": "unexpected EOF while parsing (<ipython-input-2-6066bb6b676d>, line 4)",
     "output_type": "error",
     "traceback": [
      "\u001b[0;36m  File \u001b[0;32m\"<ipython-input-2-6066bb6b676d>\"\u001b[0;36m, line \u001b[0;32m4\u001b[0m\n\u001b[0;31m    \u001b[0m\n\u001b[0m    ^\u001b[0m\n\u001b[0;31mSyntaxError\u001b[0m\u001b[0;31m:\u001b[0m unexpected EOF while parsing\n"
     ]
    }
   ],
   "source": [
    "def mat_clock(mat):\n",
    "    result = []\n",
    "    while matrix:\n",
    "        "
   ]
  },
  {
   "cell_type": "code",
   "execution_count": 38,
   "id": "latter-madrid",
   "metadata": {},
   "outputs": [],
   "source": [
    "def longest_matrix(mat):\n",
    "#     visited = []\n",
    "#     idx = [[1,0],[-1,0],[0,1],[0,-1]]\n",
    "    result = [[1 for i in range(len(mat[0]))] for j in range(len(mat))]\n",
    "    \n",
    "    for i in range(len(mat)):\n",
    "        for j in range(len(mat[0])):\n",
    "            if j - 1 >= 0 and mat[i][j] > mat[i][j-1]:\n",
    "                result[i][j] = max(result[i][j-1] + 1, result[i][j])\n",
    "            if i - 1 >= 0 and mat[i][j] > mat[i-1][j]:\n",
    "                result[i][j] = max(result[i-1][j] + 1, result[i][j])\n",
    "    for i in range(len(mat)-1, -1, -1):\n",
    "        for j in range(len(mat[0]) - 1, -1, -1):\n",
    "            if j + 1 < len(mat) and mat[i][j] > mat[i][j+1]:\n",
    "                result[i][j] = max(result[i][j+1] + 1, result[i][j])\n",
    "            if i + 1 < len(mat) and mat[i][j] > mat[i+1][j]:\n",
    "                result[i][j] = max(result[i+1][j] + 1, result[i][j])\n",
    "    max_ = 0\n",
    "    for i in result:\n",
    "        for j in i:\n",
    "            max_ = max(j,max_)\n",
    "    return max_"
   ]
  },
  {
   "cell_type": "code",
   "execution_count": 40,
   "id": "pleased-responsibility",
   "metadata": {},
   "outputs": [
    {
     "name": "stdout",
     "output_type": "stream",
     "text": [
      "4\n"
     ]
    }
   ],
   "source": [
    "a11 = [[1,2,3],[4,5,6],[7,8,9]]\n",
    "a12 = [[9,8,7],[6,5,4],[3,2,1]]\n",
    "a13 = [[1,2],[4,3]]\n",
    "print(longest_matrix(a13))"
   ]
  },
  {
   "cell_type": "code",
   "execution_count": 42,
   "id": "fabulous-ebony",
   "metadata": {},
   "outputs": [
    {
     "name": "stdout",
     "output_type": "stream",
     "text": [
      "[1, 2, 3, 4, 8, 12, 16, 15, 14, 13, 9, 5, 6, 7, 11, 10]\n"
     ]
    }
   ],
   "source": [
    "# coding:utf-8\n",
    "\n",
    "class Solution(object):\n",
    "  def printMatrix(self, matrix):\n",
    "    # 打印矩阵\n",
    "    result = []\n",
    "    while matrix:\n",
    "      result += matrix.pop(0)\n",
    "      if matrix:\n",
    "        matrix = self.rotate(matrix)\n",
    "    return result\n",
    "\n",
    "  def rotate(self, matrix):\n",
    "    # 逆时针旋转矩阵\n",
    "    row = len(matrix)\n",
    "    col = len(matrix[0])\n",
    "    # 存放旋转后的矩阵\n",
    "    new_matrix = []\n",
    "    # 行列调换\n",
    "    for i in range(col):\n",
    "      new_line = []\n",
    "      for j in range(row):\n",
    "        new_line.append(matrix[j][col-1-i])\n",
    "      new_matrix.append(new_line)\n",
    "    return new_matrix\n",
    "\n",
    "if __name__ == '__main__':\n",
    "  # 测试代码\n",
    "  matrix = [\n",
    "    [1,2,3,4],\n",
    "    [5,6,7,8],\n",
    "    [9,10,11,12],\n",
    "    [13,14,15,16]\n",
    "  ]\n",
    "  solution = Solution()\n",
    "  result = solution.printMatrix(matrix)\n",
    "  print(result)\n"
   ]
  },
  {
   "cell_type": "code",
   "execution_count": 51,
   "id": "leading-blanket",
   "metadata": {},
   "outputs": [
    {
     "data": {
      "text/plain": [
       "[1, 2, 3, 4, 8, 12, 16, 15, 14, 13, 9, 5, 6, 7, 11, 10]"
      ]
     },
     "execution_count": 51,
     "metadata": {},
     "output_type": "execute_result"
    }
   ],
   "source": []
  },
  {
   "cell_type": "code",
   "execution_count": 46,
   "id": "bigger-poster",
   "metadata": {},
   "outputs": [
    {
     "name": "stdout",
     "output_type": "stream",
     "text": [
      "[((1, 1), 1), ((1, 2), 2), ((0, 2), 3), ((0, 1), 4), ((0, 0), 5), ((1, 0), 6), ((2, 0), 7), ((2, 1), 8), ((2, 2), 9)]\n"
     ]
    },
    {
     "data": {
      "text/plain": [
       "9"
      ]
     },
     "execution_count": 46,
     "metadata": {},
     "output_type": "execute_result"
    }
   ],
   "source": []
  }
 ],
 "metadata": {
  "kernelspec": {
   "display_name": "Python 3",
   "language": "python",
   "name": "python3"
  },
  "language_info": {
   "codemirror_mode": {
    "name": "ipython",
    "version": 3
   },
   "file_extension": ".py",
   "mimetype": "text/x-python",
   "name": "python",
   "nbconvert_exporter": "python",
   "pygments_lexer": "ipython3",
   "version": "3.7.7"
  }
 },
 "nbformat": 4,
 "nbformat_minor": 5
}
