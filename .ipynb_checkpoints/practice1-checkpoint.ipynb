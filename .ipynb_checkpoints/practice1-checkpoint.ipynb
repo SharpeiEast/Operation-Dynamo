{
 "cells": [
  {
   "cell_type": "code",
   "execution_count": 7,
   "id": "incomplete-briefing",
   "metadata": {},
   "outputs": [
    {
     "data": {
      "text/plain": [
       "[[1, 2], [0, 3]]"
      ]
     },
     "execution_count": 7,
     "metadata": {},
     "output_type": "execute_result"
    }
   ],
   "source": [
    "class Solution:\n",
    "    def twoSum(self, nums, target):\n",
    "        \"\"\"\n",
    "        :type nums: List[int]\n",
    "        :type target: int\n",
    "        :rtype: List[int]\n",
    "        \"\"\"\n",
    "        result = []\n",
    "        hash_dict = {}\n",
    "        for i in range(len(nums)):\n",
    "            if nums[i] in hash_dict:\n",
    "                result.append([hash_dict[nums[i]],i])\n",
    "#                 return [hash_dict[nums[i]],i]\n",
    "            else:\n",
    "                hash_dict[target - nums[i]] = i\n",
    "        if result: return result\n",
    "        return False\n",
    "    \n",
    "S = Solution()\n",
    "S.twoSum([1,2,3,4],5)"
   ]
  },
  {
   "cell_type": "code",
   "execution_count": 7,
   "id": "egyptian-armor",
   "metadata": {},
   "outputs": [
    {
     "name": "stdout",
     "output_type": "stream",
     "text": [
      "(5, [0, 0, 0, 1, 0, 2, 1, 2, 2, 2])\n"
     ]
    }
   ],
   "source": [
    "class Solution1:\n",
    "    def shortestPathBinaryMatrix(self, grid) -> int:\n",
    "        if grid[0][0] == 1 or grid[-1][-1] == 1:  # top-left is not empty or bottom-right is not empty\n",
    "            return -1\n",
    "\n",
    "        # eight directions: → ← ↓ ↑ ↗ ↙ ↖ ↘\n",
    "        directions = [[1, 0], [-1, 0], [0, -1], [0, 1]] # # [1, 1], [1, -1], [-1, 1], [-1, -1]]\n",
    "        \n",
    "        queue = [(0, 0, 1, [0,0])]  # location, cnt\n",
    "        n = len(grid)\n",
    "\n",
    "        # BFS\n",
    "        while len(queue):\n",
    "            x0, y0, cnt, loc = queue.pop(0)  # pop (location, cnt)\n",
    "            if x0 == n - 1 and y0 == n - 1:  # already arrive at bottom-right\n",
    "                return cnt, loc\n",
    "\n",
    "            # eight directions\n",
    "            for i, j in directions:\n",
    "                x, y = x0 + i, y0 + j\n",
    "                # (x, y) is in the grid and grid[x][y] = 0, also means: grid[x][y] is not visited\n",
    "                if 0 <= x < n and 0 <= y < n and not grid[x][y]:\n",
    "                    queue.append((x, y, cnt + 1, loc + [x,y]  ) ) \n",
    "                    grid[x][y] = 1  # visited\n",
    "        \n",
    "        return -1\n",
    "    \n",
    "mat = [[0,0,0],[1,1,0],[1,1,0]]\n",
    "SS = Solution1()\n",
    "b = SS.shortestPathBinaryMatrix(mat)\n",
    "print(b)"
   ]
  },
  {
   "cell_type": "code",
   "execution_count": 6,
   "id": "restricted-banks",
   "metadata": {},
   "outputs": [
    {
     "data": {
      "text/plain": [
       "[1, 2, 2, 3]"
      ]
     },
     "execution_count": 6,
     "metadata": {},
     "output_type": "execute_result"
    }
   ],
   "source": [
    "a = [1,2]\n",
    "b = [2,3]\n",
    "c = a+b\n",
    "c"
   ]
  },
  {
   "cell_type": "code",
   "execution_count": 24,
   "id": "allied-pottery",
   "metadata": {},
   "outputs": [],
   "source": [
    "\n",
    "        "
   ]
  },
  {
   "cell_type": "code",
   "execution_count": 25,
   "id": "lesser-kuwait",
   "metadata": {
    "scrolled": true
   },
   "outputs": [
    {
     "ename": "TypeError",
     "evalue": "can only concatenate str (not \"int\") to str",
     "output_type": "error",
     "traceback": [
      "\u001b[0;31m---------------------------------------------------------------------------\u001b[0m",
      "\u001b[0;31mTypeError\u001b[0m                                 Traceback (most recent call last)",
      "\u001b[0;32m<ipython-input-25-3161b66dad09>\u001b[0m in \u001b[0;36m<module>\u001b[0;34m\u001b[0m\n\u001b[0;32m----> 1\u001b[0;31m \u001b[0mprint\u001b[0m\u001b[0;34m(\u001b[0m\u001b[0mstr_to_int\u001b[0m\u001b[0;34m(\u001b[0m\u001b[0;34m'+1231312312'\u001b[0m\u001b[0;34m)\u001b[0m\u001b[0;34m)\u001b[0m\u001b[0;34m\u001b[0m\u001b[0;34m\u001b[0m\u001b[0m\n\u001b[0m",
      "\u001b[0;32m<ipython-input-24-a1fc33b9a17f>\u001b[0m in \u001b[0;36mstr_to_int\u001b[0;34m(char)\u001b[0m\n\u001b[1;32m      5\u001b[0m     \u001b[0;32mfor\u001b[0m \u001b[0mi\u001b[0m \u001b[0;32min\u001b[0m \u001b[0mrange\u001b[0m\u001b[0;34m(\u001b[0m\u001b[0mlen\u001b[0m\u001b[0;34m(\u001b[0m\u001b[0mchar\u001b[0m\u001b[0;34m)\u001b[0m\u001b[0;34m)\u001b[0m\u001b[0;34m:\u001b[0m\u001b[0;34m\u001b[0m\u001b[0;34m\u001b[0m\u001b[0m\n\u001b[1;32m      6\u001b[0m         \u001b[0;32mif\u001b[0m \u001b[0mi\u001b[0m \u001b[0;34m==\u001b[0m \u001b[0;36m0\u001b[0m \u001b[0;32mand\u001b[0m \u001b[0mchar\u001b[0m\u001b[0;34m[\u001b[0m\u001b[0mi\u001b[0m\u001b[0;34m]\u001b[0m \u001b[0;32min\u001b[0m \u001b[0msymbol\u001b[0m\u001b[0;34m:\u001b[0m\u001b[0;34m\u001b[0m\u001b[0;34m\u001b[0m\u001b[0m\n\u001b[0;32m----> 7\u001b[0;31m             \u001b[0mvalue\u001b[0m \u001b[0;34m+=\u001b[0m \u001b[0mi\u001b[0m\u001b[0;34m\u001b[0m\u001b[0;34m\u001b[0m\u001b[0m\n\u001b[0m\u001b[1;32m      8\u001b[0m         \u001b[0;32mif\u001b[0m \u001b[0mchar\u001b[0m\u001b[0;34m[\u001b[0m\u001b[0mi\u001b[0m\u001b[0;34m]\u001b[0m \u001b[0;32mnot\u001b[0m \u001b[0;32min\u001b[0m \u001b[0mnums\u001b[0m \u001b[0;32mand\u001b[0m \u001b[0mi\u001b[0m \u001b[0;34m>\u001b[0m \u001b[0;36m0\u001b[0m\u001b[0;34m:\u001b[0m\u001b[0;34m\u001b[0m\u001b[0;34m\u001b[0m\u001b[0m\n\u001b[1;32m      9\u001b[0m             \u001b[0;32mreturn\u001b[0m \u001b[0;36m0\u001b[0m\u001b[0;34m\u001b[0m\u001b[0;34m\u001b[0m\u001b[0m\n",
      "\u001b[0;31mTypeError\u001b[0m: can only concatenate str (not \"int\") to str"
     ]
    }
   ],
   "source": [
    "print(str_to_int('+1231312312'))"
   ]
  },
  {
   "cell_type": "code",
   "execution_count": 13,
   "id": "enclosed-zealand",
   "metadata": {},
   "outputs": [
    {
     "name": "stdout",
     "output_type": "stream",
     "text": [
      "14\n",
      "[1, 2, 3, 5, 4]\n"
     ]
    }
   ],
   "source": [
    "a = [1,2,3,5,4]\n",
    "print(sum(a[1:5]))\n",
    "a.sort\n",
    "print(a)"
   ]
  },
  {
   "cell_type": "code",
   "execution_count": 6,
   "id": "intimate-locator",
   "metadata": {},
   "outputs": [
    {
     "name": "stdout",
     "output_type": "stream",
     "text": [
      "abc\n"
     ]
    }
   ],
   "source": [
    "a = ['a','b','c']\n",
    "print(' '.join(a))"
   ]
  },
  {
   "cell_type": "code",
   "execution_count": 20,
   "id": "monthly-hacker",
   "metadata": {},
   "outputs": [
    {
     "name": "stdout",
     "output_type": "stream",
     "text": [
      "['anc']\n"
     ]
    }
   ],
   "source": [
    "a =['anc']\n",
    "#b = list(a)\n",
    "#.sort()\n",
    "#print(b)\n",
    "print(sorted(a))"
   ]
  },
  {
   "cell_type": "code",
   "execution_count": 3,
   "id": "invisible-pleasure",
   "metadata": {},
   "outputs": [
    {
     "name": "stdout",
     "output_type": "stream",
     "text": [
      "57\n"
     ]
    }
   ],
   "source": []
  },
  {
   "cell_type": "code",
   "execution_count": 27,
   "id": "opening-crack",
   "metadata": {},
   "outputs": [
    {
     "name": "stdout",
     "output_type": "stream",
     "text": [
      "[[inf, inf, inf], [inf, inf, inf], [inf, inf, inf], [inf, inf, inf], [inf, inf, inf]]\n"
     ]
    }
   ],
   "source": []
  },
  {
   "cell_type": "code",
   "execution_count": 28,
   "id": "green-layer",
   "metadata": {},
   "outputs": [
    {
     "data": {
      "text/plain": [
       "1"
      ]
     },
     "execution_count": 28,
     "metadata": {},
     "output_type": "execute_result"
    }
   ],
   "source": []
  },
  {
   "cell_type": "code",
   "execution_count": 1,
   "id": "coupled-venice",
   "metadata": {},
   "outputs": [
    {
     "ename": "SyntaxError",
     "evalue": "invalid syntax (<ipython-input-1-4970f79e915a>, line 19)",
     "output_type": "error",
     "traceback": [
      "\u001b[0;36m  File \u001b[0;32m\"<ipython-input-1-4970f79e915a>\"\u001b[0;36m, line \u001b[0;32m19\u001b[0m\n\u001b[0;31m    dist.append(mat[])\u001b[0m\n\u001b[0m                    ^\u001b[0m\n\u001b[0;31mSyntaxError\u001b[0m\u001b[0;31m:\u001b[0m invalid syntax\n"
     ]
    }
   ],
   "source": []
  },
  {
   "cell_type": "code",
   "execution_count": 2,
   "id": "minor-rebel",
   "metadata": {},
   "outputs": [
    {
     "name": "stdout",
     "output_type": "stream",
     "text": [
      "□ ■ □ □ \n",
      "□ □ □ ■ \n",
      "■ □ □ □ \n",
      "□ □ ■ □ \n",
      "\n",
      "□ □ ■ □ \n",
      "■ □ □ □ \n",
      "□ □ □ ■ \n",
      "□ ■ □ □ \n",
      "\n"
     ]
    }
   ],
   "source": [
    "def check(board, row, col):\n",
    "    i = 0\n",
    "    for i in range(row):\n",
    "        if abs(board[i]-col) == 0 or abs(board[i]-col) == abs(i-row):\n",
    "            return False\n",
    "    return True\n",
    " \n",
    " \n",
    "def eightqueen(board, row):\n",
    "    border = len(board)\n",
    "    if row >= border:\n",
    "        for i,col in enumerate(board):\n",
    "            print('□ ' * col + '■ ' + '□ ' * (len(board) - 1 - col))\n",
    "        print(\"\")\n",
    "    col = 0\n",
    "    while col < border:\n",
    "        for col in range(border):\n",
    "            if check(board, row, col):\n",
    "                board[row] = col\n",
    "                eightqueen(board, row+1)\n",
    "        col += 1\n",
    " \n",
    "board = [0 for i in range(4)]\n",
    "eightqueen(board, 0)"
   ]
  },
  {
   "cell_type": "code",
   "execution_count": 3,
   "id": "forced-jewelry",
   "metadata": {},
   "outputs": [
    {
     "name": "stdout",
     "output_type": "stream",
     "text": [
      "[[0, 1, 2, inf, 4], [1, 0, inf, 8, 2], [2, inf, 0, inf, 6], [inf, 8, inf, 0, 3], [4, 2, 6, 3, 0]]\n",
      "[[0, 1, 2, 6, 3], [1, 0, 3, 5, 2], [2, 3, 0, 8, 5], [6, 5, 8, 0, 3], [3, 2, 5, 3, 0]]\n"
     ]
    }
   ],
   "source": [
    "#最短路径算法\n",
    "\n",
    "import math\n",
    " \n",
    " \n",
    "nodes = ('A', 'B', 'C', 'D', 'E')\n",
    "# dis矩阵为方阵\n",
    "dis = [[0,1,2,math.inf,4],\n",
    "       [1,0,math.inf,8,2],\n",
    "       [2,math.inf,0,math.inf,6],\n",
    "       [math.inf,8,math.inf,0,3],\n",
    "       [4,2,6,3,0]]\n",
    " \n",
    "def shortDistance(dis):\n",
    "    node_num = len(dis)\n",
    "    for i in range(node_num):         # 十字交叉法的位置位置，先列后行\n",
    "        for j in range(node_num):     # 列 表示dis[j][i]的值，即j->i\n",
    "            for k in range(j+1, node_num): # 行 表示dis[i][k]的值，即i->k，i只是一个桥梁而已\n",
    "                # 先列后行，形成一个传递关系，若比原来距离小，则更新\n",
    "                if dis[j][k] > dis[j][i] + dis[i][k]:\n",
    "                    dis[j][k] = dis[j][i] + dis[i][k]\n",
    "                    dis[k][j] = dis[j][i] + dis[i][k]\n",
    "print(dis)\n",
    "shortDistance(dis)\n",
    "print(dis)"
   ]
  },
  {
   "cell_type": "code",
   "execution_count": 5,
   "id": "useful-cleaners",
   "metadata": {},
   "outputs": [
    {
     "name": "stdout",
     "output_type": "stream",
     "text": [
      "脚本之家测试结果：\n",
      "dict_values([0, 1, 8, 4, 13, 17])\n"
     ]
    }
   ],
   "source": [
    "# coding:utf-8\n",
    "# Dijkstra算法——通过边实现松弛\n",
    "# 指定一个点到其他各顶点的路径——单源最短路径\n",
    "# 初始化图参数\n",
    "G = {1:{1:0, 2:1, 3:12},\n",
    "  2:{2:0, 3:9, 4:3},\n",
    "  3:{3:0, 5:5},\n",
    "  4:{3:4, 4:0, 5:13, 6:15},\n",
    "  5:{5:0, 6:4},\n",
    "  6:{6:0}}\n",
    "# 每次找到离源点最近的一个顶点，然后以该顶点为重心进行扩展\n",
    "# 最终的到源点到其余所有点的最短路径\n",
    "# 一种贪婪算法\n",
    "def Dijkstra(G,v0,INF=999):\n",
    " \"\"\" 使用 Dijkstra 算法计算指定点 v0 到图 G 中任意点的最短路径的距离\n",
    "  INF 为设定的无限远距离值\n",
    "  此方法不能解决负权值边的图\n",
    " \"\"\"\n",
    " book = set()\n",
    " minv = v0\n",
    " # 源顶点到其余各顶点的初始路程\n",
    " dis = dict((k,INF) for k in G.keys())\n",
    " dis[v0] = 0\n",
    " while len(book)<len(G):\n",
    "  book.add(minv)         # 确定当期顶点的距离\n",
    "  for w in G[minv]:        # 以当前点的中心向外扩散\n",
    "   if dis[minv] + G[minv][w] < dis[w]:   # 如果从当前点扩展到某一点的距离小与已知最短距离\n",
    "    dis[w] = dis[minv] + G[minv][w]   # 对已知距离进行更新\n",
    "  new = INF          # 从剩下的未确定点中选择最小距离点作为新的扩散点\n",
    "  for v in dis.keys():\n",
    "   if v in book: continue\n",
    "   if dis[v] < new:\n",
    "    new = dis[v]\n",
    "    minv = v\n",
    " return dis\n",
    "dis = Dijkstra(G,v0=1)\n",
    "print(\"脚本之家测试结果：\")\n",
    "print(dis.values())"
   ]
  },
  {
   "cell_type": "code",
   "execution_count": 3,
   "id": "super-longitude",
   "metadata": {},
   "outputs": [
    {
     "name": "stdout",
     "output_type": "stream",
     "text": [
      "[1, 4, 3]\n"
     ]
    }
   ],
   "source": [
    "# a = [1,2,3],b=[a,[2,3,4]] 修改b[0]中的元素，a会改变吗？\n",
    "# 会\n",
    "a = [1,2,3]\n",
    "b = [a,[1,2,3]]\n",
    "b[0][1] = 4\n",
    "print(a)"
   ]
  },
  {
   "cell_type": "markdown",
   "id": "piano-waters",
   "metadata": {},
   "source": [
    "Delete和Truncate的区别\n",
    "1、 Truncate比Delete所用的事务日志空间更少：\n",
    "\n",
    "DELETE 是一行一行操作，并且把记录都存进日志文件（说明一下，无论任何恢复模式，都会记录日志）。而TRUNCATE操作，是对一个页操作，在日志中，仅仅记录释放页面的这个动作，而不记录每一行。\n",
    "\n",
    "2、 Truncate比Delete使用锁通常较少：\n",
    "\n",
    "DELETE由于是一行一行删除，所以需要对处理的行进行加锁，而且是行锁。TRUNCATE操作由于是对页操作，所以只需要申请页锁或者表锁。\n",
    "\n",
    "3、 TRUNCATE对表中的所有页都清空：\n",
    "\n",
    "执行DELETE后，表还是会有空页，但是TRUNCATE则会全部清除。但是TRUNCATE会保留表结构、列、约束、索引等。而DELETE之后，会哦他能够过后台清除空页。"
   ]
  },
  {
   "cell_type": "markdown",
   "id": "facial-compound",
   "metadata": {},
   "source": [
    "排序：\n",
    "冒泡，归并，快速，插入，堆，希尔，"
   ]
  },
  {
   "cell_type": "markdown",
   "id": "psychological-exchange",
   "metadata": {},
   "source": [
    "全局解释锁GIL，互斥锁\n",
    "首先介绍全局解释解释器锁GIL，Python代码的执行由Python 虚拟机(也叫解释器主循环，CPython版本)来控制，Python 在设计之初就考虑到要在解释器的主循环中，同时只有一个线程在执行，即在任意时刻，只有一个线程在解释器中运行。对Python 虚拟机的访问由全局解释器锁（GIL）来控制，正是这个锁能保证同一时刻只有一个线程在运行。从宏观微观上来说，GIL是宏观的操作。比如在一个4核的环境下，只有一个核是运行着线程，而其他三个核是空的。GIL是线程锁，针对线程，而不是进程。\n",
    "\n",
    "接下来是互斥锁：个线程要共享数据时，先将其锁定，此时资源的状态为“锁定”，其他线程不能更改；直到该线程释放资源，将资源的状态变成“非锁定”，其他的线程才能再次锁定该资源。互斥锁保证了每次只有一个线程进入写入操作，从而保证了多线程情况下数据的正确性。互斥锁体现的就是一个同步的机制，即该线程释放资源就是一个条件，条件完成，才能执行下一步操作。是微观的操作。\n",
    "\n",
    "有GIL是由于历史原因。c++在c++11之前都是一点都没有线程概念的，全靠程序员自己实现线程管理和线程同步。而python诞生的时候还没有多核处理器，所以为了简化开发实现了GIL，后来很多库都假设python有GIL，想改也改不了了。"
   ]
  },
  {
   "cell_type": "markdown",
   "id": "through-accessory",
   "metadata": {},
   "source": [
    "快速排序稳定性 \n",
    "\n",
    "快速排序是不稳定的算法，它不满足稳定算法的定义。 算法稳定性 -- 假设在数列中存在a[i]=a[j]，若在排序之前，a[i]在a[j]前面；并且排序之后，a[i]仍然在a[j]前面。则这个排序算法是稳定的！"
   ]
  },
  {
   "cell_type": "code",
   "execution_count": 7,
   "id": "powerful-alabama",
   "metadata": {},
   "outputs": [
    {
     "name": "stdout",
     "output_type": "stream",
     "text": [
      "-3 5 -1 5\n",
      "2 4 -2 4\n",
      "-1 3 -1 3\n",
      "12\n"
     ]
    }
   ],
   "source": [
    "# 一位数组最大子序列\n",
    "def findmaxsublist(list):\n",
    "    if not list:\n",
    "        return 0\n",
    "    dp = [i for i in list]\n",
    "    for i in range(1,len(dp)):\n",
    "        dp[i] = max(dp[i-1]+dp[i],dp[i])\n",
    "    return max(dp)\n",
    "\n",
    "#(3362)# 二维矩阵中的最大子序列\n",
    "def findmaxsubmtrx(mtrx):\n",
    "    if not mtrx:\n",
    "        return 0\n",
    "    length = len(mtrx[0])\n",
    "    width = len(mtrx)\n",
    "    lmax = 0\n",
    "    for i in range(width):\n",
    "        dp = (length-1)*[0]\n",
    "        #print(dp)\n",
    "        for j in range(i,width):\n",
    "            for k in range(length-1):\n",
    "                #print(j,k)\n",
    "                dp[k] = dp[k]+mtrx[j][k]\n",
    "            lmax = max(lmax,findmaxsublist(dp))\n",
    "    return lmax\n",
    "\n",
    "#if __name__ == '__main__':\n",
    "#    testlist = [2,-2,1,3,-4]\n",
    "#    #print(findmaxsublist(testlist))\n",
    "\n",
    "#    mtrx = [[0,-2,-7,0],[9,2,-6,2],[-4,1,-4,1],[-1,8,0,-2]]\n",
    "#    print(findmaxsubmtrx(mtrx))\n",
    "row = 3\n",
    "mat = []\n",
    "for num in range(row):\n",
    "    mat.append(list(map(int, input().split())))\n",
    "print(findmaxsubmtrx(mat))"
   ]
  },
  {
   "cell_type": "code",
   "execution_count": null,
   "id": "suspected-things",
   "metadata": {},
   "outputs": [],
   "source": [
    "def max_list(ls):\n",
    "    if len(ls) <= 0:\n",
    "        return False\n",
    "    else:\n",
    "        for i in range(len(ls)):"
   ]
  },
  {
   "cell_type": "code",
   "execution_count": 11,
   "id": "binary-start",
   "metadata": {},
   "outputs": [
    {
     "name": "stdout",
     "output_type": "stream",
     "text": [
      "20\n"
     ]
    }
   ],
   "source": [
    "# 一个数组中的最大子数组\n",
    "def maxSubArray(ls):\n",
    "    if len(ls) < 2:\n",
    "        return ls[0]\n",
    "    temp = ls[0]\n",
    "    max_num = ls[0]\n",
    "    for i in range(1, len(ls)):\n",
    "        if temp < 0:\n",
    "            temp = ls[i]\n",
    "        else:\n",
    "            temp += ls[i]\n",
    "        if temp > max_num:\n",
    "            max_num = temp\n",
    "\n",
    "    return max_num\n",
    "\n",
    "\n",
    "# 将一个矩阵分成数组的形式\n",
    "def max_sum(mat):\n",
    "    if not mat:\n",
    "        return\n",
    "    low = len(mat)\n",
    "    max_num = 0\n",
    "    for i in range(low):\n",
    "        res1 = list(mat[i])\n",
    "        for j in range(i + 1, low):\n",
    "            res1 = list(map(lambda x: x[0] + x[1], zip(res1, mat[j])))\n",
    "            max_num = max(maxSubArray(res1), max_num)\n",
    "    return max_num\n",
    "\n",
    "mmm = [[-3,5,-1,5],[2,4,-2,4],[-1,3,-1,3]]\n",
    "print(max_sum(mmm))"
   ]
  },
  {
   "cell_type": "code",
   "execution_count": 25,
   "id": "checked-mongolia",
   "metadata": {},
   "outputs": [
    {
     "name": "stdout",
     "output_type": "stream",
     "text": [
      "[[0, 1, 2], [2, 3, 4]]\n"
     ]
    }
   ],
   "source": [
    "f = [[1,2,3],[3,4,5]]\n",
    "#mat = [[0] * len(f[0])] * len(f)\n",
    "def mat_updt(mat):\n",
    "    mat_n = [[0 for i in range(len(mat[0]))] for j in range(len(mat))]\n",
    "    for i in range(len(mat)):\n",
    "        for j in range(len(mat[0])):\n",
    "            mat_n[i][j] = max(mat[i][j]-1,mat_n[i][j])\n",
    "    return mat_n\n",
    "mat_n = mat_updt(f)\n",
    "print(mat_n)"
   ]
  },
  {
   "cell_type": "code",
   "execution_count": 8,
   "id": "fifth-samoa",
   "metadata": {
    "scrolled": true
   },
   "outputs": [
    {
     "name": "stdout",
     "output_type": "stream",
     "text": [
      "3,5 2\n",
      "{'0': [3, 5]}\n",
      "{'0': [2]}\n"
     ]
    }
   ],
   "source": [
    "tests = {}\n",
    "cost = {}\n",
    "tem1,tem2 = map(str,input().split(' '))\n",
    "if len(tem1) > 1:\n",
    "    ls = list(map(int, tem1.split(',')))\n",
    "else:\n",
    "    ls = [int(tem1)]\n",
    "tem2 = [int(tem2)]\n",
    "tests['0'] = ls\n",
    "cost['0'] = tem2\n",
    "print(tests)\n",
    "print(cost)"
   ]
  },
  {
   "cell_type": "code",
   "execution_count": 43,
   "id": "everyday-laptop",
   "metadata": {},
   "outputs": [
    {
     "name": "stdout",
     "output_type": "stream",
     "text": [
      "3\n",
      "1\n",
      "[3, 5]\n",
      "[2]\n",
      "[[3, 5], [2]]\n"
     ]
    }
   ],
   "source": []
  },
  {
   "cell_type": "code",
   "execution_count": 10,
   "id": "european-poverty",
   "metadata": {},
   "outputs": [
    {
     "name": "stdout",
     "output_type": "stream",
     "text": [
      "[(0.7827937716377446, 0.30605888370409673), (0.5971456771443248, 0.41157163901210503), (0.8183106912289051, 0.4294785217304884)]\n",
      "(0.5971456771443248, 0.41157163901210503)\n"
     ]
    }
   ],
   "source": [
    "import random\n",
    "#random.random()\n",
    "a = [(random.random(),random.random()) for i in range(3)]\n",
    "print(a)\n",
    "print(a[1])"
   ]
  },
  {
   "cell_type": "code",
   "execution_count": 21,
   "id": "recorded-packet",
   "metadata": {},
   "outputs": [
    {
     "name": "stdout",
     "output_type": "stream",
     "text": [
      "2.999188\n"
     ]
    }
   ],
   "source": [
    "import math\n",
    "import random\n",
    "def cal_pi(n):\n",
    "        # write code here\n",
    "        x = [(random.random(),random.random()) for i in range(n)]\n",
    "        count = 0\n",
    "        for i in x:\n",
    "            if dist(0.5,0.5,i[0],i[1]) <= 0.5:\n",
    "                count += 1\n",
    "        return (count / n) * 4\n",
    "def dist(x1,x2,y1,y2):\n",
    "    return math.sqrt( (x1-x2) ** 2 + (y1-y2) ** 2 )\n",
    "print(cal_pi(10000000))"
   ]
  },
  {
   "cell_type": "code",
   "execution_count": 22,
   "id": "pointed-national",
   "metadata": {},
   "outputs": [
    {
     "data": {
      "text/plain": [
       "True"
      ]
     },
     "execution_count": 22,
     "metadata": {},
     "output_type": "execute_result"
    }
   ],
   "source": [
    "\"v1.1.00-rc2\">\"v1.1-rc1\""
   ]
  },
  {
   "cell_type": "code",
   "execution_count": 3,
   "id": "clean-employment",
   "metadata": {},
   "outputs": [
    {
     "name": "stdout",
     "output_type": "stream",
     "text": [
      "5\n"
     ]
    }
   ],
   "source": [
    "a = [1,2,3,4,5]\n",
    "#a[3-1:]\n",
    "b = set(a)\n",
    "print(len(b))"
   ]
  },
  {
   "cell_type": "code",
   "execution_count": 11,
   "id": "eastern-dodge",
   "metadata": {},
   "outputs": [
    {
     "data": {
      "text/plain": [
       "True"
      ]
     },
     "execution_count": 11,
     "metadata": {},
     "output_type": "execute_result"
    }
   ],
   "source": [
    "#n, m = map(int,input().split())"
   ]
  },
  {
   "cell_type": "code",
   "execution_count": 23,
   "id": "dental-cloud",
   "metadata": {},
   "outputs": [
    {
     "name": "stdout",
     "output_type": "stream",
     "text": [
      "['a-b', '3:0']\n",
      "a\n",
      "<class 'str'>\n"
     ]
    },
    {
     "ename": "TypeError",
     "evalue": "string indices must be integers",
     "output_type": "error",
     "traceback": [
      "\u001b[0;31m---------------------------------------------------------------------------\u001b[0m",
      "\u001b[0;31mTypeError\u001b[0m                                 Traceback (most recent call last)",
      "\u001b[0;32m<ipython-input-23-ceaf0f2dfbcb>\u001b[0m in \u001b[0;36m<module>\u001b[0;34m\u001b[0m\n\u001b[1;32m     29\u001b[0m     \u001b[0;32mreturn\u001b[0m \u001b[0mstr_\u001b[0m\u001b[0;34m[\u001b[0m\u001b[0;34m:\u001b[0m\u001b[0mlength\u001b[0m\u001b[0;34m]\u001b[0m\u001b[0;34m\u001b[0m\u001b[0;34m\u001b[0m\u001b[0m\n\u001b[1;32m     30\u001b[0m \u001b[0;34m\u001b[0m\u001b[0m\n\u001b[0;32m---> 31\u001b[0;31m \u001b[0mnew_score\u001b[0m \u001b[0;34m=\u001b[0m \u001b[0mscores\u001b[0m\u001b[0;34m(\u001b[0m\u001b[0mrecord1\u001b[0m\u001b[0;34m,\u001b[0m \u001b[0mscore\u001b[0m\u001b[0;34m)\u001b[0m\u001b[0;34m\u001b[0m\u001b[0;34m\u001b[0m\u001b[0m\n\u001b[0m\u001b[1;32m     32\u001b[0m \u001b[0;31m#print(new_score)\u001b[0m\u001b[0;34m\u001b[0m\u001b[0;34m\u001b[0m\u001b[0;34m\u001b[0m\u001b[0m\n",
      "\u001b[0;32m<ipython-input-23-ceaf0f2dfbcb>\u001b[0m in \u001b[0;36mscores\u001b[0;34m(record, score)\u001b[0m\n\u001b[1;32m     10\u001b[0m     \u001b[0mprint\u001b[0m\u001b[0;34m(\u001b[0m\u001b[0mtype\u001b[0m\u001b[0;34m(\u001b[0m\u001b[0ms_l\u001b[0m\u001b[0;34m[\u001b[0m\u001b[0;36m1\u001b[0m\u001b[0;34m]\u001b[0m\u001b[0;34m[\u001b[0m\u001b[0;36m0\u001b[0m\u001b[0;34m]\u001b[0m\u001b[0;34m)\u001b[0m\u001b[0;34m)\u001b[0m\u001b[0;34m\u001b[0m\u001b[0;34m\u001b[0m\u001b[0m\n\u001b[1;32m     11\u001b[0m     \u001b[0;32mif\u001b[0m \u001b[0ms_l\u001b[0m\u001b[0;34m[\u001b[0m\u001b[0;36m0\u001b[0m\u001b[0;34m]\u001b[0m\u001b[0;34m[\u001b[0m\u001b[0;36m0\u001b[0m\u001b[0;34m]\u001b[0m \u001b[0;32min\u001b[0m \u001b[0mrecord\u001b[0m\u001b[0;34m:\u001b[0m\u001b[0;34m\u001b[0m\u001b[0;34m\u001b[0m\u001b[0m\n\u001b[0;32m---> 12\u001b[0;31m         \u001b[0mrecord\u001b[0m\u001b[0;34m[\u001b[0m \u001b[0ms_l\u001b[0m\u001b[0;34m[\u001b[0m\u001b[0;36m0\u001b[0m\u001b[0;34m]\u001b[0m\u001b[0;34m[\u001b[0m\u001b[0;36m0\u001b[0m\u001b[0;34m]\u001b[0m \u001b[0;34m]\u001b[0m \u001b[0;34m+=\u001b[0m \u001b[0mint\u001b[0m\u001b[0;34m(\u001b[0m\u001b[0ms_l\u001b[0m\u001b[0;34m[\u001b[0m\u001b[0;36m1\u001b[0m\u001b[0;34m]\u001b[0m\u001b[0;34m[\u001b[0m\u001b[0;36m0\u001b[0m\u001b[0;34m]\u001b[0m\u001b[0;34m)\u001b[0m\u001b[0;34m\u001b[0m\u001b[0;34m\u001b[0m\u001b[0m\n\u001b[0m\u001b[1;32m     13\u001b[0m     \u001b[0;32melse\u001b[0m\u001b[0;34m:\u001b[0m\u001b[0;34m\u001b[0m\u001b[0;34m\u001b[0m\u001b[0m\n\u001b[1;32m     14\u001b[0m         \u001b[0mrecord\u001b[0m\u001b[0;34m[\u001b[0m \u001b[0ms_l\u001b[0m\u001b[0;34m[\u001b[0m\u001b[0;36m0\u001b[0m\u001b[0;34m]\u001b[0m\u001b[0;34m[\u001b[0m\u001b[0;36m0\u001b[0m\u001b[0;34m]\u001b[0m \u001b[0;34m]\u001b[0m \u001b[0;34m=\u001b[0m \u001b[0mint\u001b[0m\u001b[0;34m(\u001b[0m\u001b[0ms_l\u001b[0m\u001b[0;34m[\u001b[0m\u001b[0;36m1\u001b[0m\u001b[0;34m]\u001b[0m\u001b[0;34m[\u001b[0m\u001b[0;36m0\u001b[0m\u001b[0;34m]\u001b[0m\u001b[0;34m)\u001b[0m\u001b[0;34m\u001b[0m\u001b[0;34m\u001b[0m\u001b[0m\n",
      "\u001b[0;31mTypeError\u001b[0m: string indices must be integers"
     ]
    }
   ],
   "source": [
    "record1 = 'a-b 3:0'\n",
    "record2 = 'b-a 1:1'\n",
    "score = {}\n",
    "#print( record1.split(' ')[1][0] ) \n",
    "\n",
    "HCIE_huawei\n",
    "\n",
    "class xx\n",
    "    def scores(record, score):\n",
    "        s_l = record.split(' ')\n",
    "        print(s_l)\n",
    "        print(s_l[0][0])\n",
    "    print(type(s_l[1][0]))\n",
    "    if s_l[0][0] in record:\n",
    "        record[ s_l[0][0] ] += int(s_l[1][0])\n",
    "    else:\n",
    "        record[ s_l[0][0] ] = int(s_l[1][0])\n",
    "    #if s_l[1][0] in record:\n",
    "    #    record\n",
    "        \n",
    "    return score\n",
    "\n",
    "def sort_dict(score):\n",
    "    keys = sorted(score)\n",
    "    str_ = ''\n",
    "    for i in keys:\n",
    "        str_ += i\n",
    "        str_ += ' '\n",
    "        str_ += score[i]\n",
    "        str_ += ','\n",
    "    length = 4 * len(keys) - 1\n",
    "    return str_[:length]\n",
    "\n",
    "new_score = scores(record1, score)\n",
    "#print(new_score)"
   ]
  },
  {
   "cell_type": "code",
   "execution_count": 13,
   "id": "aquatic-idaho",
   "metadata": {},
   "outputs": [
    {
     "name": "stdout",
     "output_type": "stream",
     "text": [
      "123\n"
     ]
    }
   ],
   "source": [
    "b = {}\n",
    "b['1'] = 2\n",
    "b['2'] = 3\n",
    "b['3'] = 0\n",
    "#print(b)\n",
    "#print(sorted(b))\n",
    "str_ = '12345'\n",
    "print(str_[:3])"
   ]
  },
  {
   "cell_type": "code",
   "execution_count": 8,
   "id": "neither-cradle",
   "metadata": {},
   "outputs": [
    {
     "name": "stdout",
     "output_type": "stream",
     "text": [
      "0\n"
     ]
    }
   ],
   "source": [
    "def fn(n):\n",
    "    if n < 0:\n",
    "        return '---'\n",
    "    elif n == 0:\n",
    "        return 1\n",
    "    elif n == 1:\n",
    "        return 1\n",
    "    else:\n",
    "        return fn(n-1) + fn(n-2)\n",
    "\n",
    "def dist(num):\n",
    "    if num <= 0:\n",
    "        return -num + 1\n",
    "    id = 0\n",
    "    while fn(id) < num:\n",
    "        id += 1\n",
    "    return min(fn(id)-num, num-fn(id-1))\n",
    "\n",
    "print(dist(13))"
   ]
  },
  {
   "cell_type": "code",
   "execution_count": 13,
   "id": "silver-platform",
   "metadata": {},
   "outputs": [
    {
     "data": {
      "text/plain": [
       "'0.13'"
      ]
     },
     "execution_count": 13,
     "metadata": {},
     "output_type": "execute_result"
    }
   ],
   "source": [
    "\"{:.2f}\".format(0.13333)"
   ]
  },
  {
   "cell_type": "code",
   "execution_count": 1,
   "id": "healthy-stomach",
   "metadata": {},
   "outputs": [
    {
     "name": "stdout",
     "output_type": "stream",
     "text": [
      "[[0.7003673  0.74275081 0.70928001 0.56674552 0.97778533 0.70633485\n",
      "  0.24791576 0.15788335 0.69769852 0.71995667]\n",
      " [0.25774443 0.34154678 0.96876117 0.6945071  0.46638326 0.7028127\n",
      "  0.51178587 0.92874137 0.7397693  0.62243903]\n",
      " [0.65154547 0.39680761 0.54323939 0.79989953 0.72154473 0.29536398\n",
      "  0.16094588 0.20612551 0.13432539 0.48060502]\n",
      " [0.34252181 0.36296929 0.97291764 0.11094361 0.38826409 0.78306588\n",
      "  0.97289726 0.48320961 0.33642111 0.56741904]\n",
      " [0.04794151 0.38893703 0.90630365 0.16101821 0.74362113 0.63297416\n",
      "  0.32418002 0.92237653 0.23722644 0.82394557]\n",
      " [0.75060714 0.11378445 0.84536125 0.92393213 0.22083679 0.93305388\n",
      "  0.48899874 0.47471864 0.08916747 0.22994818]]\n",
      "<class 'numpy.ndarray'>\n"
     ]
    },
    {
     "data": {
      "image/png": "[encoded data removed]",
      "text/plain": [
       "<Figure size 432x288 with 1 Axes>"
      ]
     },
     "metadata": {
      "needs_background": "light"
     },
     "output_type": "display_data"
    }
   ],
   "source": [
    "import matplotlib.pyplot as plt\n",
    "from matplotlib.colors import BoundaryNorm\n",
    "from matplotlib.ticker import MaxNLocator\n",
    "import numpy as np\n",
    "np.random.seed(19680801)\n",
    "Z = np.random.rand(6, 10)\n",
    "x = np.arange(-0.5, 10, 1)  # len = 11\n",
    "y = np.arange(4.5, 11, 1)  # len = 7\n",
    "fig, ax = plt.subplots()\n",
    "ax.pcolormesh(x, y, Z)\n",
    "print(Z)\n",
    "print(type(Z))\n",
    "for i in range(len(x)-1):\n",
    "    for j in range(len(y)-1):\n",
    "        if i % 3 == 0:\n",
    "            plt.text(x[i],y[j],str(\"{:.2f}\".format(Z[j][i]) ))"
   ]
  },
  {
   "cell_type": "code",
   "execution_count": 14,
   "id": "historical-insulation",
   "metadata": {},
   "outputs": [
    {
     "name": "stdout",
     "output_type": "stream",
     "text": [
      "[1, 2, 3, 4, 5, 7, 7]\n"
     ]
    }
   ],
   "source": [
    "def merge_sort(nums):\n",
    "    if len(nums) <= 1:\n",
    "        return nums\n",
    "    mid = len(nums) // 2\n",
    "    left = nums[:mid]\n",
    "    right = nums[mid:]\n",
    "    def merge(left, right):\n",
    "        result = []\n",
    "        while left and right:\n",
    "            if left[0] <= right[0]:\n",
    "                result.append(left[0])\n",
    "                left.pop(0)\n",
    "            else:\n",
    "                result.append(right[0])\n",
    "                right.pop(0)\n",
    "        while left:\n",
    "            result.append(left.pop(0))\n",
    "        while right:\n",
    "            result.append(right.pop(0))\n",
    "        return result\n",
    "    return merge(merge_sort(left) , merge_sort(right))\n",
    "\n",
    "a = [3,2,4,1,5,7,7]\n",
    "print(merge_sort(a))\n"
   ]
  },
  {
   "cell_type": "code",
   "execution_count": 59,
   "id": "descending-directory",
   "metadata": {},
   "outputs": [
    {
     "name": "stdout",
     "output_type": "stream",
     "text": [
      "5\n"
     ]
    }
   ],
   "source": [
    "# O(n) time, quick selection\n",
    "# 这个k是从零开始数的，可以理解为这堆数如果排好序，那么sorted_nums[k]是谁。\n",
    "def findKthLargest(nums, k):\n",
    "    # convert the kth largest to smallest\n",
    "    start = time.time()\n",
    "    rst = findKthSmallest(nums, len(nums)+1-k)\n",
    "    t = time.time() - start\n",
    "    return rst, len(nums), t\n",
    "    \n",
    "def findKthSmallest(nums, k):\n",
    "    if len(nums) < k:\n",
    "        return -1\n",
    "    if nums:\n",
    "        pos = partition(nums, 0, len(nums)-1)\n",
    "        if k > pos+1:\n",
    "            return findKthSmallest(nums[pos+1:], k-pos-1)\n",
    "        elif k < pos+1:\n",
    "            return findKthSmallest(nums[:pos], k)\n",
    "        else:\n",
    "            return nums[pos]\n",
    " \n",
    "# choose the right-most element as pivot   \n",
    "# r的索引对应的数被用来做比较的，l每次都会前移，但是low只有nums[l]大于nums[r]\n",
    "# 的时候才会前移，所以最后low之前的数字都是大于nums[r]的，l会走完整个数列到达r\n",
    "# 的位置然后跳出整个循环，这时把nums[r]替换到nums[low]的位置就行了，前面的数\n",
    "# 都比它小，后面的数都比它大。这个函数虽然没有return nums，但是其实对它进行了操作\n",
    "def partition(nums, l, r):\n",
    "    low = l\n",
    "    while l < r:\n",
    "        if nums[l] < nums[r]:\n",
    "            nums[l], nums[low] = nums[low], nums[l]\n",
    "            low += 1\n",
    "        l += 1\n",
    "    nums[low], nums[r] = nums[r], nums[low]\n",
    "    return low\n",
    "\n",
    "print(findKthSmallest([0,3,2,1,4,7,6,5], 6))"
   ]
  },
  {
   "cell_type": "code",
   "execution_count": 48,
   "id": "judicial-drunk",
   "metadata": {},
   "outputs": [],
   "source": [
    "def partition(nums, l, r):\n",
    "    low = l\n",
    "    while l < r:\n",
    "        if nums[l] < nums[r]:\n",
    "            nums[l], nums[low] = nums[low], nums[l]\n",
    "            low += 1\n",
    "        l += 1\n",
    "    nums[low], nums[r] = nums[r], nums[low]\n",
    "    return nums,low"
   ]
  },
  {
   "cell_type": "code",
   "execution_count": 148,
   "id": "judicial-wesley",
   "metadata": {},
   "outputs": [
    {
     "name": "stdout",
     "output_type": "stream",
     "text": [
      "([0, 1, 2, 3, 4, 4.5, 5, 6, 7, 8], 5)\n",
      "8\n"
     ]
    }
   ],
   "source": [
    "def findKthSmallest(nums, k):\n",
    "    if len(nums) < k+1:\n",
    "        return -1\n",
    "    if nums:\n",
    "        nums, pos = parti(nums)\n",
    "        if k > pos:\n",
    "            return findKthSmallest(nums[pos+1:], k-pos-1)\n",
    "        elif k < pos:\n",
    "            return findKthSmallest(nums[:pos], k)\n",
    "        else:\n",
    "            return nums[pos]\n",
    "\n",
    "def parti(nums):\n",
    "    l,r = 0, len(nums)-1\n",
    "    while l < r:\n",
    "        if nums[l] > nums[len(nums) - 1] and nums[r] < nums[len(nums) - 1]:\n",
    "            nums[l], nums[r] = nums[r], nums[l]\n",
    "        else:\n",
    "            while nums[l] <= nums[len(nums) - 1] and l < len(nums) - 1:\n",
    "                l += 1\n",
    "            while nums[r] >= nums[len(nums) - 1] and r >= 0:\n",
    "                r -= 1\n",
    "    nums[len(nums) - 1], nums[r] = nums[r], nums[len(nums) - 1]\n",
    "    return nums, j+1\n",
    "\n",
    "print(parti([8,7,6,5,4,3,2,1,0,4.5]))   \n",
    "print(findKthSmallest([8,7,6,5,4,3,2,1,0,4.5], 9))"
   ]
  },
  {
   "cell_type": "code",
   "execution_count": 1,
   "id": "handled-ladder",
   "metadata": {},
   "outputs": [
    {
     "name": "stdout",
     "output_type": "stream",
     "text": [
      "(20365011074, 12586269025)\n"
     ]
    }
   ],
   "source": [
    "def fib(n):\n",
    "    if n <= 1:\n",
    "        return n,1\n",
    "    else:\n",
    "        (a,b) = fib(n-1)\n",
    "        return (a+b,a)\n",
    "    \n",
    "print(fib(50)) "
   ]
  },
  {
   "cell_type": "code",
   "execution_count": 60,
   "id": "prescribed-copying",
   "metadata": {},
   "outputs": [
    {
     "name": "stdout",
     "output_type": "stream",
     "text": [
      "9\n"
     ]
    }
   ],
   "source": [
    "def findKthSmallest(nums, k):\n",
    "    if len(nums) < k+1:\n",
    "        return -1\n",
    "    if nums:\n",
    "        nums, pos = partition2(nums)\n",
    "        if k > pos:\n",
    "            return findKthSmallest(nums[pos+1:], k-pos-1)\n",
    "        elif k < pos:\n",
    "            return findKthSmallest(nums[:pos], k)\n",
    "        else:\n",
    "            return nums[pos]\n",
    "\n",
    "def partition2(nums):\n",
    "    l,r = 0, len(nums)-1\n",
    "    while l < r:\n",
    "        if nums[l] > nums[len(nums) - 1] and nums[r] < nums[len(nums) - 1]:\n",
    "            nums[l], nums[r] = nums[r], nums[l]\n",
    "        else:\n",
    "            while nums[l] <= nums[len(nums) - 1] and l < len(nums) - 1:\n",
    "                l += 1\n",
    "            while nums[r] >= nums[len(nums) - 1] and r >= 0:\n",
    "                r -= 1\n",
    "    nums[len(nums) - 1], nums[r] = nums[r+1], nums[len(nums) - 1]\n",
    "    return nums, r\n",
    "aa = [3,4,2,5,1,6,7,8,10,9,10]\n",
    "print(partition(aa,0,len(aa)-1))\n",
    "# print(findKthSmallest(aa,1))"
   ]
  },
  {
   "cell_type": "code",
   "execution_count": 10,
   "id": "dated-consortium",
   "metadata": {},
   "outputs": [
    {
     "name": "stdout",
     "output_type": "stream",
     "text": [
      "5.5\n"
     ]
    }
   ],
   "source": [
    "class Solution:\n",
    "  def findMedianSortedArrays(self, nums1, nums2):\n",
    "    \"\"\"\n",
    "    :type nums1: List[int]\n",
    "    :type nums2: List[int]\n",
    "    :rtype: float\n",
    "    \"\"\"\n",
    "    m, n = len(nums1), len(nums2)\n",
    "    if m > n:\n",
    "      nums1, nums2, m, n = nums2, nums1, n, m\n",
    "#     if n == 0:\n",
    "#       raise ValueError\n",
    "    imin, imax, half_len = 0, m, (m + n + 1) // 2\n",
    "    while imin <= imax:\n",
    "      i = (imin + imax) // 2\n",
    "      j = half_len - i\n",
    "      if i < m and nums2[j-1] > nums1[i]:\n",
    "        # i is too small, must increase it\n",
    "        imin = i + 1\n",
    "      elif i > 0 and nums1[i-1] > nums2[j]:\n",
    "        # i is too big, must decrease it\n",
    "        imax = i - 1\n",
    "      else:\n",
    "        # i is perfect\n",
    "        if i == 0: max_of_left = nums2[j-1]\n",
    "        elif j == 0: max_of_left = nums1[i-1]\n",
    "        else: max_of_left = max(nums1[i-1], nums2[j-1])\n",
    "        if (m + n) % 2 == 1:\n",
    "          return max_of_left\n",
    "        if i == m: min_of_right = nums2[j]\n",
    "        elif j == n: min_of_right = nums1[i]\n",
    "        else: min_of_right = min(nums1[i], nums2[j])\n",
    "        return (max_of_left + min_of_right) / 2.0\n",
    "a = Solution()\n",
    "print(a.findMedianSortedArrays([1,2,3],[4,5,6,7,8,9,10]))"
   ]
  },
  {
   "cell_type": "code",
   "execution_count": 70,
   "id": "delayed-village",
   "metadata": {},
   "outputs": [
    {
     "name": "stdout",
     "output_type": "stream",
     "text": [
      "Median is %s 16.0\n"
     ]
    }
   ],
   "source": [
    "def median(nums, n):\n",
    "    \n",
    "    if n%2 == 0:\n",
    "        return (nums[n//2] + nums[n//2-1])/2.0\n",
    "    else:\n",
    "        return nums[n//2]\n",
    "\n",
    "def getMedian(nums1, nums2, n):\n",
    "    m1, m2 = -1, -1\n",
    "    if n <= 0:\n",
    "        return -1\n",
    "    elif n == 1:\n",
    "        return (nums1[0] + nums2[0]) / 2\n",
    "    elif n == 2:\n",
    "        return (max(nums1[0], nums2[0]) + min(nums1[1], nums2[1])) / 2\n",
    "    m1 = median(nums1, n)\n",
    "    m2 = median(nums2, n)\n",
    "    # /* 相等可直接返回 */\n",
    "    if m1 == m2:\n",
    "        return m1\n",
    "    if m1 < m2:\n",
    "        if n%2 == 0:\n",
    "            return getMedian(nums1[n//2-1:], nums2[:n//2+1], n//2 + 1)\n",
    "        else:\n",
    "            return getMedian(nums1[n//2:], nums2[:n//2+1], n//2 + 1)\n",
    "    else:\n",
    "        if n%2 == 0:\n",
    "            return getMedian(nums2[n//2-1:], nums1[:n//2+1], n//2 + 1)\n",
    "        else:\n",
    "            return getMedian(nums2[n//2:], nums1[:n//2+1], n//2 + 1)\n",
    "\n",
    "if __name__ == \"__main__\":\n",
    "    nums1 = [1, 12, 15, 26, 38]\n",
    "    nums2 = [2, 13, 17, 30, 45]\n",
    "    n1 = len(nums1)\n",
    "    n2 = len(nums2)\n",
    "    if n1 == n2:\n",
    "        print(\"Median is %s\", getMedian(nums1, nums2, n1))\n",
    "    else:\n",
    "        print(\"Doesn't work for arrays of unequal size\")"
   ]
  },
  {
   "cell_type": "code",
   "execution_count": 11,
   "id": "popular-romantic",
   "metadata": {},
   "outputs": [
    {
     "data": {
      "text/plain": [
       "16.0"
      ]
     },
     "execution_count": 11,
     "metadata": {},
     "output_type": "execute_result"
    }
   ],
   "source": [
    "class Solution:\n",
    "    def findMedianSortedArrays(self, nums1, nums2) -> float:\n",
    "        if len(nums1) > len(nums2):\n",
    "            return self.findMedianSortedArrays(nums2, nums1)\n",
    "\n",
    "        infinty = 2**40\n",
    "        m, n = len(nums1), len(nums2)\n",
    "        left, right = 0, m\n",
    "        # median1：前一部分的最大值\n",
    "        # median2：后一部分的最小值\n",
    "        median1, median2 = 0, 0\n",
    "\n",
    "        while left <= right:\n",
    "            # 前一部分包含 nums1[0 .. i-1] 和 nums2[0 .. j-1]\n",
    "            # // 后一部分包含 nums1[i .. m-1] 和 nums2[j .. n-1]\n",
    "            i = (left + right) // 2\n",
    "            j = (m + n + 1) // 2 - i\n",
    "\n",
    "            # nums_im1, nums_i, nums_jm1, nums_j 分别表示 nums1[i-1], nums1[i], nums2[j-1], nums2[j]\n",
    "            nums_im1 = (-infinty if i == 0 else nums1[i - 1])\n",
    "            nums_i = (infinty if i == m else nums1[i])\n",
    "            nums_jm1 = (-infinty if j == 0 else nums2[j - 1])\n",
    "            nums_j = (infinty if j == n else nums2[j])\n",
    "\n",
    "            if nums_im1 <= nums_j:\n",
    "                median1, median2 = max(nums_im1, nums_jm1), min(nums_i, nums_j)\n",
    "                left = i + 1\n",
    "            else:\n",
    "                right = i - 1\n",
    "\n",
    "        return (median1 + median2) / 2 if (m + n) % 2 == 0 else median1\n",
    "    \n",
    "nums1 = [1, 12, 15, 26, 38]\n",
    "nums2 = [2, 13, 17, 30, 45]\n",
    "s = Solution()\n",
    "s.findMedianSortedArrays(nums1,nums2)"
   ]
  },
  {
   "cell_type": "code",
   "execution_count": 70,
   "id": "voluntary-hunger",
   "metadata": {},
   "outputs": [
    {
     "name": "stdout",
     "output_type": "stream",
     "text": [
      "6.5\n"
     ]
    }
   ],
   "source": [
    "def middle_value(nums):\n",
    "    if len(nums) < 1:\n",
    "        return '-1'\n",
    "    if len(nums) == 1:\n",
    "        return nums[0]\n",
    "    else:\n",
    "        if len(nums) % 2 == 1:\n",
    "            return nums[len(nums)//2]\n",
    "        else:\n",
    "            return 0.5*(nums[len(nums)//2] + nums[len(nums)//2 - 1])\n",
    "\n",
    "def medium_find(nums1,nums2):\n",
    "    if len(nums1) > len(nums2):\n",
    "        nums1, nums2 = nums2, nums1     \n",
    "    if len(nums1) == 1 and len(nums2) == 1:\n",
    "        return 0.5 * (nums1.pop() + nums2.pop() )\n",
    "    if middle_value(nums1) == middle_value(nums2):\n",
    "        return middle_value(nums1)\n",
    "    if len(nums1) == 1:\n",
    "        if len(nums2) % 2 == 1:\n",
    "            if middle_value(nums2) > nums1[0]:\n",
    "                if nums2[len(nums2) // 2 - 1] >= nums1[0]: return 0.5 * (middle_value(nums2) + nums2[len(nums2) // 2 - 1])\n",
    "                else: return 0.5 * (nums1[0] + nums2[len(nums2) // 2])\n",
    "            else:\n",
    "                if nums2[len(nums2) // 2 + 1] <= nums1[0]: return 0.5 * (middle_value(nums2) + nums2[len(nums2) // 2 + 1])\n",
    "                else: return 0.5 * (nums1[0] + nums2[len(nums2) // 2])\n",
    "        else:\n",
    "            if middle_value(nums2) > nums1[0]:\n",
    "                if nums2[len(nums2) // 2 - 1] >= nums1[0]: return nums2[len(nums2) // 2 - 1]\n",
    "                else: return nums1[0]\n",
    "            else:\n",
    "                if nums2[len(nums2) // 2 + 1] >= nums1[0]: return nums2[len(nums2) // 2 + 1]\n",
    "                else: return nums1[0]\n",
    "                \n",
    "    else:   \n",
    "        m1 = middle_value(nums1)\n",
    "        m2 = middle_value(nums2)\n",
    "        m1_m = len(nums1) // 2\n",
    "#         m2_m = len(nums2) // 2 if len(nums2) % 2 == 0 else len(nums2) // 2 + 1\n",
    "        if m1 > m2:\n",
    "            return medium_find(nums1[:m1_m], nums2[m1_m:])\n",
    "        else:\n",
    "            return medium_find(nums1[m1_m:], nums2[: len(nums2) - m1_m])\n",
    "print(medium_find([1,2,3,4,5,6,7],[8,9,10,11,12,13]))"
   ]
  },
  {
   "cell_type": "code",
   "execution_count": 5,
   "id": "warming-excuse",
   "metadata": {},
   "outputs": [
    {
     "data": {
      "text/plain": [
       "5"
      ]
     },
     "execution_count": 5,
     "metadata": {},
     "output_type": "execute_result"
    }
   ],
   "source": [
    "class Solution:\n",
    "    def findMedianSortedArrays(self, nums1, nums2) -> float:\n",
    "        n1 = len(nums1)\n",
    "        n2 = len(nums2)\n",
    "        if n1 > n2:\n",
    "            return self.findMedianSortedArrays(nums2,nums1)\n",
    "        k = (n1 + n2 + 1)//2\n",
    "        left = 0\n",
    "        right = n1\n",
    "        while left < right :\n",
    "            m1 = left +(right - left)//2\n",
    "            m2 = k - m1\n",
    "            if nums1[m1] < nums2[m2-1]:\n",
    "                left = m1 + 1\n",
    "            else:\n",
    "                right = m1\n",
    "        m1 = left\n",
    "        m2 = k - m1 \n",
    "        c1 = max(nums1[m1-1] if m1 > 0 else float(\"-inf\"), nums2[m2-1] if m2 > 0 else float(\"-inf\") )\n",
    "        if (n1 + n2) % 2 == 1:\n",
    "            return c1\n",
    "        c2 = min(nums1[m1] if m1 < n1 else float(\"inf\"), nums2[m2] if m2 <n2 else float(\"inf\"))\n",
    "        return (c1 + c2) / 2\n",
    "s = Solution()\n",
    "s.findMedianSortedArrays([1,2,3,4,5],[6,7,8,9])"
   ]
  },
  {
   "cell_type": "code",
   "execution_count": 12,
   "id": "warming-excitement",
   "metadata": {},
   "outputs": [
    {
     "name": "stdout",
     "output_type": "stream",
     "text": [
      "[[0, 9], [10, 11], [12, 20]]\n",
      "[[0, 9], [0, 1], [0, 2], [1, 9], [2, 5], [10, 11], [12, 20], [19, 20]]\n"
     ]
    }
   ],
   "source": [
    "class Interval:\n",
    "    def __init__(self, s=0, e=0):\n",
    "        self.start = s\n",
    "        self.end = e\n",
    "    \n",
    "    def __str__(self):\n",
    "        return \"[\" + self.start + \",\" + self.end + \"]\"\n",
    "    \n",
    "    def __repr__(self):\n",
    "        return \"[%s, %s]\" % (self.start, self.end)\n",
    "def merge_interval(intervals):\n",
    "    intervals.sort(key=lambda x: x.start)\n",
    "\n",
    "    merged = []\n",
    "    for interval in intervals:\n",
    "        # if the list of merged intervals is empty or if the current\n",
    "        # interval does not overlap with the previous, simply append it.\n",
    "        if not merged or merged[-1].end < interval.start:\n",
    "            merged.append(interval)\n",
    "        else:\n",
    "        # otherwise, there is overlap, so we merge the current and previous\n",
    "        # intervals.\n",
    "            merged[-1].end = max(merged[-1].end, interval.end)\n",
    "    return merged\n",
    "i1 = Interval(1,9)\n",
    "i2 = Interval(2,5)\n",
    "i3 = Interval(19,20)\n",
    "i4 = Interval(10,11)\n",
    "i5 = Interval(12,20)\n",
    "i6 = Interval(0,3)\n",
    "i7 = Interval(0,1)\n",
    "i8 = Interval(0,2)\n",
    "intervals = [i1,i2,i3,i4,i5,i6,i7,i8]\n",
    "print(merge_interval(intervals))\n",
    "\n",
    "intervals.sort(key=lambda x: x.start)\n",
    "print(intervals)"
   ]
  },
  {
   "cell_type": "code",
   "execution_count": 16,
   "id": "worst-thread",
   "metadata": {},
   "outputs": [
    {
     "data": {
      "text/plain": [
       "[[4, 0], [2, 1], [3, 2], [1, 3]]"
      ]
     },
     "execution_count": 16,
     "metadata": {},
     "output_type": "execute_result"
    }
   ],
   "source": [
    "a = [[2,1],[1,3],[3,2],[4,0]]\n",
    "a.sort(key=lambda x: x[1])\n",
    "a"
   ]
  },
  {
   "cell_type": "code",
   "execution_count": 3,
   "id": "bearing-electricity",
   "metadata": {},
   "outputs": [
    {
     "name": "stdout",
     "output_type": "stream",
     "text": [
      "14\n"
     ]
    }
   ],
   "source": [
    "class Solution:\n",
    "    def superEggDrop(self, K, N):\n",
    "        # K egg, N floor;\n",
    "        dp = [[0 for _ in range(N + 1)] for _ in range(K + 1)]\n",
    "        for i in range(1, K + 1):\n",
    "            for step in range(1, N + 1):\n",
    "                dp[i][step] = dp[i - 1][step - 1] + (dp[i][step - 1] + 1)\n",
    "                if dp[K][step] >= N:\n",
    "                    return step\n",
    "        return 0\n",
    "SS = Solution()\n",
    "print(SS.superEggDrop(2,100))"
   ]
  },
  {
   "cell_type": "code",
   "execution_count": 81,
   "id": "broad-collins",
   "metadata": {},
   "outputs": [
    {
     "name": "stdout",
     "output_type": "stream",
     "text": [
      "9\n"
     ]
    }
   ],
   "source": [
    "def superEggDrop(K: int, N: int):\n",
    "\n",
    "    memo = dict()\n",
    "    def dp(K, N) -> int:\n",
    "        # base case\n",
    "        if K == 1: return N\n",
    "        if N == 0: return 0\n",
    "        # 避免重复计算\n",
    "        if (K, N) in memo:\n",
    "            return memo[(K, N)]\n",
    "\n",
    "        res = float('INF')\n",
    "        # 穷举所有可能的选择\n",
    "        for i in range(1, N + 1):\n",
    "            res = min(res, \n",
    "                      max(\n",
    "                            dp(K, N - i), \n",
    "                            dp(K - 1, i - 1)\n",
    "                         ) + 1\n",
    "                  )\n",
    "        # 记入备忘录\n",
    "        memo[(K, N)] = res\n",
    "        return res\n",
    "\n",
    "    return dp(K, N)\n",
    "print(superEggDrop(3, 100))"
   ]
  },
  {
   "cell_type": "code",
   "execution_count": 6,
   "id": "spread-studio",
   "metadata": {},
   "outputs": [
    {
     "name": "stdout",
     "output_type": "stream",
     "text": [
      "[1, 2, 3, 4, 5, 6, 7, 8, 9, 10, 11, 11]\n"
     ]
    }
   ],
   "source": [
    "def merge_sort(nums):\n",
    "    def merge(l,r):\n",
    "        result  = []\n",
    "        while l and r:\n",
    "            if l[0] < r[0]:\n",
    "                result.append(l.pop(0))\n",
    "            else:\n",
    "                result.append(r.pop(0))\n",
    "        while l:\n",
    "            result.append(l.pop(0))\n",
    "        while r:\n",
    "            result.append(r.pop(0))\n",
    "        return result\n",
    "    mid = len(nums) // 2\n",
    "    if len(nums) <= 1:\n",
    "        return nums\n",
    "    left = nums[:mid]\n",
    "    right = nums[mid:]\n",
    "    return merge(merge_sort(left),merge_sort(right))\n",
    "\n",
    "a = [11,11,2,1,4,3,5,6,8,7,9,10]\n",
    "print(merge_sort(a))\n"
   ]
  },
  {
   "cell_type": "code",
   "execution_count": 17,
   "id": "presidential-france",
   "metadata": {},
   "outputs": [
    {
     "name": "stdout",
     "output_type": "stream",
     "text": [
      "[6, 5, 5, 4, 4, 3, 3, 2, 2, 1, 1]\n"
     ]
    }
   ],
   "source": [
    "def sort_stack(nums):\n",
    "    result = []\n",
    "    while nums:\n",
    "        temp = nums.pop()\n",
    "        while result and result[-1] < temp:\n",
    "            nums.append(result.pop())\n",
    "        result.append(temp)\n",
    "    return result\n",
    "\n",
    "print(sort_stack([5,4,3,2,1,1,2,3,4,5,6]))"
   ]
  },
  {
   "cell_type": "code",
   "execution_count": 10,
   "id": "4d81acc2",
   "metadata": {},
   "outputs": [
    {
     "data": {
      "text/plain": [
       "[[2, 3, 3, 4],\n",
       " [2, 3, 4, 3],\n",
       " [2, 4, 3, 3],\n",
       " [3, 2, 3, 4],\n",
       " [3, 2, 4, 3],\n",
       " [3, 3, 2, 4],\n",
       " [3, 3, 4, 2],\n",
       " [3, 4, 2, 3],\n",
       " [3, 4, 3, 2],\n",
       " [4, 2, 3, 3],\n",
       " [4, 3, 2, 3],\n",
       " [4, 3, 3, 2]]"
      ]
     },
     "execution_count": 10,
     "metadata": {},
     "output_type": "execute_result"
    }
   ],
   "source": []
  }
 ],
 "metadata": {
  "kernelspec": {
   "display_name": "Python 3",
   "language": "python",
   "name": "python3"
  },
  "language_info": {
   "codemirror_mode": {
    "name": "ipython",
    "version": 3
   },
   "file_extension": ".py",
   "mimetype": "text/x-python",
   "name": "python",
   "nbconvert_exporter": "python",
   "pygments_lexer": "ipython3",
   "version": "3.9.12"
  }
 },
 "nbformat": 4,
 "nbformat_minor": 5
}
