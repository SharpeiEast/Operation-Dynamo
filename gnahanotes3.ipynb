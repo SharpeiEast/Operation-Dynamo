{
 "cells": [
  {
   "cell_type": "code",
   "execution_count": 2,
   "id": "binding-pollution",
   "metadata": {},
   "outputs": [],
   "source": [
    "def infixToPostfix(infixexpr):\n",
    "    prec = {}\n",
    "    prec[\"*\"] = 3\n",
    "    prec[\"/\"] = 3\n",
    "    prec[\"+\"] = 2\n",
    "    prec[\"-\"] = 2\n",
    "    prec[\"(\"] = 1\n",
    "    opStack = []\n",
    "    postfixList = []\n",
    "    tokenList = infixexpr.split()\n",
    "\n",
    "    for token in tokenList:\n",
    "        if token in \"ABCDEFGHIJKLMNOPQRSTUVWXYZ\" or token in \"0123456789\":\n",
    "            postfixList.append(token)  # 如果是字母和数字，直接进入后处理区\n",
    "        elif token == '(':\n",
    "            opStack.append(token)   # 如果是前括号，先进入操作区间\n",
    "        elif token == ')':\n",
    "            topToken = opStack.pop()  # 如果是后括号，则开始清空操作区间，放入后处理区，直到操作区间出现前括号结束\n",
    "            while topToken != '(':\n",
    "                postfixList.append(topToken)\n",
    "                topToken = opStack.pop()\n",
    "        else:  # 如果是运算符号，则判断操作区是否为空集，如果不为空且优先级低于栈顶操作，则栈顶pop出放入后处理区\n",
    "            while (len(opStack) != 0) and \\\n",
    "               (prec[opStack[-1]] >= prec[token]):\n",
    "                postfixList.append(opStack.pop())\n",
    "            opStack.append(token)  # 无论优先级高于或是低于，本次得到的操作符号都应该放入操作区\n",
    "\n",
    "    while len(opStack) != 0:  # 最后清空操作区，挪入后处理区\n",
    "        postfixList.append(opStack.pop())\n",
    "    return \" \".join(postfixList)"
   ]
  },
  {
   "cell_type": "code",
   "execution_count": 3,
   "id": "metropolitan-waterproof",
   "metadata": {},
   "outputs": [
    {
     "name": "stdout",
     "output_type": "stream",
     "text": [
      "A B * C D * +\n",
      "A B + C * D E - F G + * -\n",
      "A B C * + D E - F * - G +\n"
     ]
    }
   ],
   "source": [
    "print(infixToPostfix(\"A * B + C * D\"))\n",
    "print(infixToPostfix(\"( A + B ) * C - ( D - E ) * ( F + G )\"))\n",
    "print(infixToPostfix(\"A + B * C - ( D - E ) * F + G\"))"
   ]
  },
  {
   "cell_type": "code",
   "execution_count": null,
   "id": "accredited-affiliate",
   "metadata": {},
   "outputs": [],
   "source": []
  },
  {
   "cell_type": "code",
   "execution_count": 4,
   "id": "muslim-bidding",
   "metadata": {},
   "outputs": [],
   "source": [
    "def postfixEval(postfixExpr):\n",
    "    operandStack = []\n",
    "    tokenList = postfixExpr.split()\n",
    "\n",
    "    for token in tokenList:\n",
    "        if token in \"0123456789\":\n",
    "            operandStack.append(int(token))  # 如果是数字就放入操作区\n",
    "        else:\n",
    "            operand2 = operandStack.pop()  # 如果是运算符号就进行计算，把最后结果放入操作区\n",
    "            operand1 = operandStack.pop()\n",
    "            result = doMath(token, operand1, operand2)\n",
    "            operandStack.append(result)\n",
    "    return operandStack.pop()  #最后操作区只剩下一个数，就是结果\n",
    "\n",
    "def doMath(op, op1, op2):\n",
    "    if op == \"*\":\n",
    "        return op1 * op2\n",
    "    elif op == \"/\":\n",
    "        return op1 / op2\n",
    "    elif op == \"+\":\n",
    "        return op1 + op2\n",
    "    else:\n",
    "        return op1 - op2"
   ]
  },
  {
   "cell_type": "code",
   "execution_count": 5,
   "id": "south-uniform",
   "metadata": {},
   "outputs": [
    {
     "name": "stdout",
     "output_type": "stream",
     "text": [
      "3.0\n",
      "14\n",
      "22\n",
      "20\n"
     ]
    }
   ],
   "source": [
    "print(postfixEval('7 8 + 3 2 + /'))\n",
    "print(postfixEval('1 2 * 3 4 * +'))\n",
    "print(postfixEval('1 2 + 3 * 4 5 - 6 7 + * -'))\n",
    "print(postfixEval('1 2 3 * + 4 5 - 6 * - 7 +'))"
   ]
  },
  {
   "cell_type": "code",
   "execution_count": null,
   "id": "environmental-tattoo",
   "metadata": {},
   "outputs": [],
   "source": []
  },
  {
   "cell_type": "code",
   "execution_count": null,
   "id": "inclusive-jersey",
   "metadata": {},
   "outputs": [],
   "source": []
  },
  {
   "cell_type": "code",
   "execution_count": null,
   "id": "lesser-domestic",
   "metadata": {},
   "outputs": [],
   "source": []
  }
 ],
 "metadata": {
  "kernelspec": {
   "display_name": "Python 3",
   "language": "python",
   "name": "python3"
  },
  "language_info": {
   "codemirror_mode": {
    "name": "ipython",
    "version": 3
   },
   "file_extension": ".py",
   "mimetype": "text/x-python",
   "name": "python",
   "nbconvert_exporter": "python",
   "pygments_lexer": "ipython3",
   "version": "3.7.7"
  }
 },
 "nbformat": 4,
 "nbformat_minor": 5
}
